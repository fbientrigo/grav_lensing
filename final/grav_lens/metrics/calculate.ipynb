{
 "cells": [
  {
   "cell_type": "markdown",
   "metadata": {},
   "source": [
    "Este notebook es usado para calcular el valor de los outputs a manera de encontrar el valor esperado para el proceso de testing"
   ]
  },
  {
   "cell_type": "code",
   "execution_count": 1,
   "metadata": {},
   "outputs": [],
   "source": [
    "import tensorflow as tf"
   ]
  },
  {
   "cell_type": "code",
   "execution_count": 5,
   "metadata": {},
   "outputs": [],
   "source": [
    "T = tf.constant([[2.0, 3.0], [5.0, 7.0]])\n",
    "P = tf.constant([[2.5, 3.5], [4.0, 6.0]])"
   ]
  },
  {
   "cell_type": "markdown",
   "metadata": {},
   "source": [
    "## WMAPE"
   ]
  },
  {
   "cell_type": "code",
   "execution_count": 6,
   "metadata": {},
   "outputs": [],
   "source": [
    "def WMAPE(T: tf.Tensor, P: tf.Tensor, delta=tf.constant(1e-5, dtype=tf.float32)):\n",
    "    T = tf.where(T == 0.0, delta, T) # evita la division por 0\n",
    "    P = tf.where(P == 0.0, delta, P)\n",
    "\n",
    "    W_fun = lambda T, max_T: 1 + (T / max_T)\n",
    "    max_T = tf.reduce_max(T)\n",
    "    W = W_fun(T, max_T)\n",
    "\n",
    "    Numerator = W * (tf.abs(P - T) / tf.abs(T))\n",
    "\t\n",
    "    sum_W = tf.reduce_sum(W)\n",
    "    sum_Numerator = tf.reduce_sum(Numerator)\n",
    "    return sum_Numerator / sum_W"
   ]
  },
  {
   "cell_type": "code",
   "execution_count": 7,
   "metadata": {},
   "outputs": [
    {
     "data": {
      "text/plain": [
       "<tf.Tensor: shape=(), dtype=float32, numpy=0.1848148>"
      ]
     },
     "execution_count": 7,
     "metadata": {},
     "output_type": "execute_result"
    }
   ],
   "source": [
    "WMAPE(T, P)"
   ]
  },
  {
   "cell_type": "markdown",
   "metadata": {},
   "source": [
    "## DICE"
   ]
  },
  {
   "cell_type": "code",
   "execution_count": 10,
   "metadata": {},
   "outputs": [],
   "source": [
    "def DICE_binary_mask(tensor: tf.Tensor):\n",
    "    tensor_mask = tensor - tf.reduce_mean(tensor)\n",
    "    tensor_mask = tf.where(tensor_mask > 0, tf.ones_like(tensor_mask), tf.zeros_like(tensor_mask))\n",
    "    return tensor_mask\n",
    "\n",
    "def DICEE(T: tf.Tensor, P: tf.Tensor, alpha: float = 0.5, beta: float = 0.5):\n",
    "    if T.shape != P.shape:\n",
    "        return None\n",
    "    G = DICE_binary_mask(T)\n",
    "    A = DICE_binary_mask(P)\n",
    "    sum_G_A = tf.reduce_sum(G * A)\n",
    "    sum_alpha = tf.reduce_sum(A * (1 - G))\n",
    "    sum_beta = tf.reduce_sum(G * (1 - A))\n",
    "    return 1 - (sum_G_A / (sum_G_A + alpha * sum_alpha + beta * sum_beta))\n"
   ]
  },
  {
   "cell_type": "code",
   "execution_count": 14,
   "metadata": {},
   "outputs": [
    {
     "data": {
      "text/plain": [
       "<tf.Tensor: shape=(2, 2), dtype=float32, numpy=\n",
       "array([[1., 1.],\n",
       "       [0., 0.]], dtype=float32)>"
      ]
     },
     "execution_count": 14,
     "metadata": {},
     "output_type": "execute_result"
    }
   ],
   "source": [
    "tensor = tf.constant([[1.0, 2.0], [-1.0, -2.0]])\n",
    "DICE_binary_mask(tensor)"
   ]
  },
  {
   "cell_type": "code",
   "execution_count": 14,
   "metadata": {},
   "outputs": [
    {
     "data": {
      "text/plain": [
       "<tf.Tensor: shape=(), dtype=float32, numpy=0.3333333>"
      ]
     },
     "execution_count": 14,
     "metadata": {},
     "output_type": "execute_result"
    }
   ],
   "source": [
    "T = tf.constant([[1.0, -1], [0.0, 0.0]])\n",
    "P = tf.constant([[1.0, 1.0], [0.0, 0.0]])\n",
    "DICEE(T, P)"
   ]
  },
  {
   "cell_type": "code",
   "execution_count": 13,
   "metadata": {},
   "outputs": [
    {
     "data": {
      "text/plain": [
       "<tf.Tensor: shape=(), dtype=float32, numpy=0.3333333>"
      ]
     },
     "execution_count": 13,
     "metadata": {},
     "output_type": "execute_result"
    }
   ],
   "source": []
  },
  {
   "cell_type": "markdown",
   "metadata": {},
   "source": [
    "## DPEAKS"
   ]
  },
  {
   "cell_type": "code",
   "execution_count": 16,
   "metadata": {},
   "outputs": [],
   "source": [
    "import numpy as np\n",
    "import tensorflow as tf\n",
    "from scipy.ndimage import gaussian_filter\n",
    "from skimage.feature import peak_local_max\n",
    "\n",
    "def find_top_k_peaks(im, sigma=3, N=3):\n",
    "    smoothed = gaussian_filter(im, sigma=sigma)\n",
    "    coordinates = peak_local_max(smoothed, threshold_abs=None, num_peaks=N)\n",
    "    while len(coordinates) < 3:\n",
    "        coordinates = np.vstack([coordinates, np.array([0, 0])])\n",
    "    return coordinates\n",
    "\n",
    "def DPEAKS(T: np.ndarray, P: np.ndarray, num_peaks=3):\n",
    "    PEAKS_T = find_top_k_peaks(T, N=num_peaks)\n",
    "    PEAKS_P = find_top_k_peaks(P, N=num_peaks)\n",
    "    sum_DPEAKS = np.sum(np.abs(PEAKS_T - PEAKS_P))\n",
    "    return sum_DPEAKS\n"
   ]
  },
  {
   "cell_type": "code",
   "execution_count": 48,
   "metadata": {},
   "outputs": [
    {
     "name": "stdout",
     "output_type": "stream",
     "text": [
      "Coordinates of top 3 peaks:\n",
      "[[4 4]\n",
      " [4 5]\n",
      " [5 4]]\n",
      "[[1 4]\n",
      " [1 5]\n",
      " [2 5]]\n"
     ]
    }
   ],
   "source": [
    "import numpy as np\n",
    "\n",
    "# Create a 10x10 constant tensor with some peaks\n",
    "center = np.array([\n",
    "    [1, 1, 1, 1, 1, 1, 1, 1, 1, 1],\n",
    "    [1, 2, 2, 2, 2, 2, 2, 2, 2, 1],\n",
    "    [1, 2, 3, 3, 3, 3, 3, 3, 2, 1],\n",
    "    [1, 2, 3, 4, 4, 4, 4, 3, 2, 1],\n",
    "    [1, 2, 3, 4, 5, 5, 4, 3, 2, 1],\n",
    "    [1, 2, 3, 4, 5, 5, 4, 3, 2, 1],\n",
    "    [1, 2, 3, 4, 4, 4, 4, 3, 2, 1],\n",
    "    [1, 2, 3, 3, 3, 3, 3, 3, 2, 1],\n",
    "    [1, 2, 2, 2, 2, 2, 2, 2, 2, 1],\n",
    "    [1, 1, 1, 1, 1, 1, 1, 1, 1, 1]\n",
    "])\n",
    "\n",
    "# Create a 10x10 tensor with peaks near the borders\n",
    "border = np.array([\n",
    "    [0, 1,  1,  1,  1,  1,  1,  1,  8, 10],\n",
    "    [1,  1,  1,  1,  1,  1,  1,  1,  1,  1],\n",
    "    [1,  1,  1,  1,  1,  1,  1,  1,  1,  1],\n",
    "    [1,  1,  1,  1,  1,  1,  1,  1,  1,  1],\n",
    "    [1,  1,  1,  1,  1,  1,  1,  1,  1,  1],\n",
    "    [1,  1,  1,  1,  1,  1,  1,  1,  1,  1],\n",
    "    [1,  1,  1,  1,  1,  1,  1,  1,  1,  1],\n",
    "    [1,  1,  1,  1,  1,  1,  1,  1,  1,  1],\n",
    "    [1,  1,  1,  1,  1,  1,  1,  1,  1,  1],\n",
    "    [10, 1,  1,  1,  1,  1,  1,  1,  1, 10]\n",
    "])\n",
    "\n",
    "# Example use of find_top_k_peaks\n",
    "coordinates_c = find_top_k_peaks(center, sigma=1, N=3)\n",
    "coordinates_b = find_top_k_peaks(border, sigma=1, N=3)\n",
    "\n",
    "print(\"Coordinates of top 3 peaks:\")\n",
    "print(coordinates_c)\n",
    "print(coordinates_b)\n"
   ]
  },
  {
   "cell_type": "code",
   "execution_count": 49,
   "metadata": {},
   "outputs": [
    {
     "data": {
      "text/plain": [
       "15"
      ]
     },
     "execution_count": 49,
     "metadata": {},
     "output_type": "execute_result"
    }
   ],
   "source": [
    "DPEAKS(center, border)"
   ]
  },
  {
   "cell_type": "markdown",
   "metadata": {},
   "source": [
    "# Prueba de Import"
   ]
  },
  {
   "cell_type": "code",
   "execution_count": 15,
   "metadata": {},
   "outputs": [],
   "source": [
    "from grav_lens import metrics\n",
    "\n",
    "metrics.DICEE\n",
    "metrics.DICE_binary_mask\n",
    "metrics.DPEAKS\n",
    "metrics.WMAPE"
   ]
  },
  {
   "cell_type": "code",
   "execution_count": null,
   "metadata": {},
   "outputs": [],
   "source": []
  },
  {
   "cell_type": "code",
   "execution_count": 16,
   "metadata": {},
   "outputs": [
    {
     "data": {
      "text/plain": [
       "['DICEE',\n",
       " 'DICE_binary_mask',\n",
       " 'DPEAKS',\n",
       " 'WMAPE',\n",
       " '__builtins__',\n",
       " '__cached__',\n",
       " '__doc__',\n",
       " '__file__',\n",
       " '__loader__',\n",
       " '__name__',\n",
       " '__package__',\n",
       " '__path__',\n",
       " '__spec__',\n",
       " 'find_top_k_peaks',\n",
       " 'scoring_challenge']"
      ]
     },
     "execution_count": 16,
     "metadata": {},
     "output_type": "execute_result"
    }
   ],
   "source": [
    "dir(metrics)"
   ]
  },
  {
   "cell_type": "code",
   "execution_count": null,
   "metadata": {},
   "outputs": [],
   "source": []
  }
 ],
 "metadata": {
  "kernelspec": {
   "display_name": "venv",
   "language": "python",
   "name": "python3"
  },
  "language_info": {
   "codemirror_mode": {
    "name": "ipython",
    "version": 3
   },
   "file_extension": ".py",
   "mimetype": "text/x-python",
   "name": "python",
   "nbconvert_exporter": "python",
   "pygments_lexer": "ipython3",
   "version": "3.9.5"
  }
 },
 "nbformat": 4,
 "nbformat_minor": 2
}
