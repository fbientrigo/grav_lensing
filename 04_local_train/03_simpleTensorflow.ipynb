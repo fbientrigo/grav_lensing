{
  "cells": [
    {
      "cell_type": "markdown",
      "metadata": {
        "id": "guo-QHuohXkR"
      },
      "source": [
        "# Training\n",
        "Este notebook inspirado en el colab anterior esta hecho para poder realizar entrenamiento simple"
      ]
    },
    {
      "cell_type": "code",
      "execution_count": 12,
      "metadata": {
        "colab": {
          "base_uri": "https://localhost:8080/"
        },
        "id": "OwuXvoZ9X6Dj",
        "outputId": "e646d8e3-6a55-49cd-cbc6-3eb68756384c"
      },
      "outputs": [],
      "source": [
        "# !cd ../data && wget https://descargas.inf.santiago.usm.cl/train/6.tar.gz ."
      ]
    },
    {
      "cell_type": "code",
      "execution_count": 13,
      "metadata": {},
      "outputs": [],
      "source": [
        "# !tar -xf ../data/6.tar.gz -C ../data"
      ]
    },
    {
      "cell_type": "code",
      "execution_count": 14,
      "metadata": {},
      "outputs": [],
      "source": [
        "#!pip install scikit-optimize"
      ]
    },
    {
      "cell_type": "code",
      "execution_count": null,
      "metadata": {},
      "outputs": [],
      "source": []
    },
    {
      "cell_type": "markdown",
      "metadata": {},
      "source": [
        "# Codigo de Optimizacion\n",
        "Definimos los parametros a modificar para realizar proceso de optimizacion"
      ]
    },
    {
      "cell_type": "code",
      "execution_count": 15,
      "metadata": {},
      "outputs": [],
      "source": [
        "import skopt\n",
        "from skopt import gp_minimize, forest_minimize\n",
        "from skopt.space import Real, Integer, Categorical\n",
        "from skopt.callbacks import CheckpointSaver\n",
        "\n",
        "from skopt.plots import plot_convergence\n",
        "from skopt.plots import plot_objective, plot_evaluations\n",
        "from skopt.plots import plot_histogram, plot_objective_2D\n",
        "\n",
        "from skopt.utils import use_named_args\n",
        "\n",
        "# guardar informacion\n",
        "import pickle\n",
        "import os\n",
        "\n",
        "\n"
      ]
    },
    {
      "cell_type": "markdown",
      "metadata": {
        "id": "VwQUkcKAhWP0"
      },
      "source": [
        "# Codigo"
      ]
    },
    {
      "cell_type": "code",
      "execution_count": 16,
      "metadata": {
        "id": "WxGnCuaPhVrA"
      },
      "outputs": [],
      "source": [
        "import datetime\n",
        "\n",
        "import matplotlib.pyplot as plt\n",
        "from grav_lens import load_tf_dataset, get_datasets\n",
        "\n",
        "import numpy as np\n",
        "import tensorflow as tf\n",
        "\n",
        "#data\n",
        "from tensorflow.keras import backend as K\n",
        "from tensorflow.keras.datasets import mnist\n",
        "# training and modeling\n",
        "from tensorflow.keras.callbacks import TensorBoard\n",
        "from tensorflow.keras.models import Sequential\n",
        "from tensorflow.keras.layers import Input, Dense, Flatten, Conv2D, MaxPooling2D\n",
        "\n",
        "\n",
        "def plot_images(images, cls_true, cls_pred=None, **kwargs):\n",
        "    assert len(images) == len(cls_true) == 9\n",
        "    img_shape = images[0].shape\n",
        "    # Create figure with 3x3 sub-plots.\n",
        "    fig, axes = plt.subplots(3, 3)\n",
        "    fig.subplots_adjust(hspace=0.3, wspace=0.3)\n",
        "\n",
        "    for i, ax in enumerate(axes.flat):\n",
        "        # Plot image.\n",
        "        ax.imshow(images[i].reshape(img_shape), cmap='binary')\n",
        "\n",
        "        # Show true and predicted classes.\n",
        "        if cls_pred is None:\n",
        "            xlabel = \"True: {0}\".format(cls_true[i])\n",
        "        else:\n",
        "            xlabel = \"True: {0}, Pred: {1}\".format(cls_true[i], cls_pred[i])\n",
        "\n",
        "        # Show the classes as the label on the x-axis.\n",
        "        ax.set_xlabel(xlabel)\n",
        "\n",
        "        # Remove ticks from the plot.\n",
        "        ax.set_xticks([])\n",
        "        ax.set_yticks([])\n",
        "\n",
        "    # Ensure the plot is shown correctly with multiple plots\n",
        "    # in a single Notebook cell.\n",
        "    plt.show()\n",
        "\n"
      ]
    },
    {
      "cell_type": "code",
      "execution_count": 17,
      "metadata": {
        "id": "-l3w8beGYJZr"
      },
      "outputs": [
        {
          "name": "stdout",
          "output_type": "stream",
          "text": [
            "Using data folder: ../data/6\n",
            "Train X: (32, 128, 128, 3)\n",
            "Train Y: (32, 128, 128, 1)\n",
            "Val X: (20, 128, 128, 3)\n",
            "Val Y: (20, 128, 128, 1)\n",
            "Test X: (11, 128, 128, 3)\n",
            "Test Y: (11, 128, 128, 1)\n"
          ]
        },
        {
          "name": "stderr",
          "output_type": "stream",
          "text": [
            "2024-08-14 12:24:37.444397: I tensorflow/core/framework/local_rendezvous.cc:404] Local rendezvous is aborting with status: OUT_OF_RANGE: End of sequence\n"
          ]
        }
      ],
      "source": [
        "import numpy as np\n",
        "import tensorflow as tf\n",
        "from sklearn.model_selection import train_test_split\n",
        "\n",
        "\n",
        "# Ejemplo de uso\n",
        "train_dataset, val_dataset, test_dataset = get_datasets(data_index='6', max_files=100, home='..')\n",
        "\n",
        "for X, Y in train_dataset.take(1):  # Mostrar un batch de entrenamiento\n",
        "    print(\"Train X:\", X.shape)\n",
        "    print(\"Train Y:\", Y.shape)\n",
        "\n",
        "for X, Y in val_dataset.take(1):  # Mostrar un batch de validación\n",
        "    print(\"Val X:\", X.shape)\n",
        "    print(\"Val Y:\", Y.shape)\n",
        "\n",
        "for X, Y in test_dataset.take(1):  # Mostrar un batch de prueba\n",
        "    print(\"Test X:\", X.shape)\n",
        "    print(\"Test Y:\", Y.shape)\n"
      ]
    },
    {
      "cell_type": "code",
      "execution_count": 18,
      "metadata": {
        "colab": {
          "base_uri": "https://localhost:8080/"
        },
        "id": "XbjHR-3Vgeh8",
        "outputId": "1d85758e-5afa-40f8-d1e0-d67a950884e7"
      },
      "outputs": [
        {
          "data": {
            "text/html": [
              "<pre style=\"white-space:pre;overflow-x:auto;line-height:normal;font-family:Menlo,'DejaVu Sans Mono',consolas,'Courier New',monospace\"><span style=\"font-weight: bold\">Model: \"sequential_2\"</span>\n",
              "</pre>\n"
            ],
            "text/plain": [
              "\u001b[1mModel: \"sequential_2\"\u001b[0m\n"
            ]
          },
          "metadata": {},
          "output_type": "display_data"
        },
        {
          "data": {
            "text/html": [
              "<pre style=\"white-space:pre;overflow-x:auto;line-height:normal;font-family:Menlo,'DejaVu Sans Mono',consolas,'Courier New',monospace\">┏━━━━━━━━━━━━━━━━━━━━━━━━━━━━━━━━━┳━━━━━━━━━━━━━━━━━━━━━━━━┳━━━━━━━━━━━━━━━┓\n",
              "┃<span style=\"font-weight: bold\"> Layer (type)                    </span>┃<span style=\"font-weight: bold\"> Output Shape           </span>┃<span style=\"font-weight: bold\">       Param # </span>┃\n",
              "┡━━━━━━━━━━━━━━━━━━━━━━━━━━━━━━━━━╇━━━━━━━━━━━━━━━━━━━━━━━━╇━━━━━━━━━━━━━━━┩\n",
              "│ conv2d_10 (<span style=\"color: #0087ff; text-decoration-color: #0087ff\">Conv2D</span>)              │ (<span style=\"color: #00d7ff; text-decoration-color: #00d7ff\">None</span>, <span style=\"color: #00af00; text-decoration-color: #00af00\">128</span>, <span style=\"color: #00af00; text-decoration-color: #00af00\">128</span>, <span style=\"color: #00af00; text-decoration-color: #00af00\">32</span>)   │           <span style=\"color: #00af00; text-decoration-color: #00af00\">896</span> │\n",
              "├─────────────────────────────────┼────────────────────────┼───────────────┤\n",
              "│ batch_normalization_8           │ (<span style=\"color: #00d7ff; text-decoration-color: #00d7ff\">None</span>, <span style=\"color: #00af00; text-decoration-color: #00af00\">128</span>, <span style=\"color: #00af00; text-decoration-color: #00af00\">128</span>, <span style=\"color: #00af00; text-decoration-color: #00af00\">32</span>)   │           <span style=\"color: #00af00; text-decoration-color: #00af00\">128</span> │\n",
              "│ (<span style=\"color: #0087ff; text-decoration-color: #0087ff\">BatchNormalization</span>)            │                        │               │\n",
              "├─────────────────────────────────┼────────────────────────┼───────────────┤\n",
              "│ up_sampling2d_2 (<span style=\"color: #0087ff; text-decoration-color: #0087ff\">UpSampling2D</span>)  │ (<span style=\"color: #00d7ff; text-decoration-color: #00d7ff\">None</span>, <span style=\"color: #00af00; text-decoration-color: #00af00\">256</span>, <span style=\"color: #00af00; text-decoration-color: #00af00\">256</span>, <span style=\"color: #00af00; text-decoration-color: #00af00\">32</span>)   │             <span style=\"color: #00af00; text-decoration-color: #00af00\">0</span> │\n",
              "├─────────────────────────────────┼────────────────────────┼───────────────┤\n",
              "│ conv2d_11 (<span style=\"color: #0087ff; text-decoration-color: #0087ff\">Conv2D</span>)              │ (<span style=\"color: #00d7ff; text-decoration-color: #00d7ff\">None</span>, <span style=\"color: #00af00; text-decoration-color: #00af00\">256</span>, <span style=\"color: #00af00; text-decoration-color: #00af00\">256</span>, <span style=\"color: #00af00; text-decoration-color: #00af00\">64</span>)   │        <span style=\"color: #00af00; text-decoration-color: #00af00\">18,496</span> │\n",
              "├─────────────────────────────────┼────────────────────────┼───────────────┤\n",
              "│ batch_normalization_9           │ (<span style=\"color: #00d7ff; text-decoration-color: #00d7ff\">None</span>, <span style=\"color: #00af00; text-decoration-color: #00af00\">256</span>, <span style=\"color: #00af00; text-decoration-color: #00af00\">256</span>, <span style=\"color: #00af00; text-decoration-color: #00af00\">64</span>)   │           <span style=\"color: #00af00; text-decoration-color: #00af00\">256</span> │\n",
              "│ (<span style=\"color: #0087ff; text-decoration-color: #0087ff\">BatchNormalization</span>)            │                        │               │\n",
              "├─────────────────────────────────┼────────────────────────┼───────────────┤\n",
              "│ conv2d_12 (<span style=\"color: #0087ff; text-decoration-color: #0087ff\">Conv2D</span>)              │ (<span style=\"color: #00d7ff; text-decoration-color: #00d7ff\">None</span>, <span style=\"color: #00af00; text-decoration-color: #00af00\">256</span>, <span style=\"color: #00af00; text-decoration-color: #00af00\">256</span>, <span style=\"color: #00af00; text-decoration-color: #00af00\">128</span>)  │        <span style=\"color: #00af00; text-decoration-color: #00af00\">73,856</span> │\n",
              "├─────────────────────────────────┼────────────────────────┼───────────────┤\n",
              "│ batch_normalization_10          │ (<span style=\"color: #00d7ff; text-decoration-color: #00d7ff\">None</span>, <span style=\"color: #00af00; text-decoration-color: #00af00\">256</span>, <span style=\"color: #00af00; text-decoration-color: #00af00\">256</span>, <span style=\"color: #00af00; text-decoration-color: #00af00\">128</span>)  │           <span style=\"color: #00af00; text-decoration-color: #00af00\">512</span> │\n",
              "│ (<span style=\"color: #0087ff; text-decoration-color: #0087ff\">BatchNormalization</span>)            │                        │               │\n",
              "├─────────────────────────────────┼────────────────────────┼───────────────┤\n",
              "│ max_pooling2d_2 (<span style=\"color: #0087ff; text-decoration-color: #0087ff\">MaxPooling2D</span>)  │ (<span style=\"color: #00d7ff; text-decoration-color: #00d7ff\">None</span>, <span style=\"color: #00af00; text-decoration-color: #00af00\">128</span>, <span style=\"color: #00af00; text-decoration-color: #00af00\">128</span>, <span style=\"color: #00af00; text-decoration-color: #00af00\">128</span>)  │             <span style=\"color: #00af00; text-decoration-color: #00af00\">0</span> │\n",
              "├─────────────────────────────────┼────────────────────────┼───────────────┤\n",
              "│ conv2d_13 (<span style=\"color: #0087ff; text-decoration-color: #0087ff\">Conv2D</span>)              │ (<span style=\"color: #00d7ff; text-decoration-color: #00d7ff\">None</span>, <span style=\"color: #00af00; text-decoration-color: #00af00\">128</span>, <span style=\"color: #00af00; text-decoration-color: #00af00\">128</span>, <span style=\"color: #00af00; text-decoration-color: #00af00\">64</span>)   │        <span style=\"color: #00af00; text-decoration-color: #00af00\">73,792</span> │\n",
              "├─────────────────────────────────┼────────────────────────┼───────────────┤\n",
              "│ batch_normalization_11          │ (<span style=\"color: #00d7ff; text-decoration-color: #00d7ff\">None</span>, <span style=\"color: #00af00; text-decoration-color: #00af00\">128</span>, <span style=\"color: #00af00; text-decoration-color: #00af00\">128</span>, <span style=\"color: #00af00; text-decoration-color: #00af00\">64</span>)   │           <span style=\"color: #00af00; text-decoration-color: #00af00\">256</span> │\n",
              "│ (<span style=\"color: #0087ff; text-decoration-color: #0087ff\">BatchNormalization</span>)            │                        │               │\n",
              "├─────────────────────────────────┼────────────────────────┼───────────────┤\n",
              "│ conv2d_14 (<span style=\"color: #0087ff; text-decoration-color: #0087ff\">Conv2D</span>)              │ (<span style=\"color: #00d7ff; text-decoration-color: #00d7ff\">None</span>, <span style=\"color: #00af00; text-decoration-color: #00af00\">128</span>, <span style=\"color: #00af00; text-decoration-color: #00af00\">128</span>, <span style=\"color: #00af00; text-decoration-color: #00af00\">1</span>)    │           <span style=\"color: #00af00; text-decoration-color: #00af00\">577</span> │\n",
              "└─────────────────────────────────┴────────────────────────┴───────────────┘\n",
              "</pre>\n"
            ],
            "text/plain": [
              "┏━━━━━━━━━━━━━━━━━━━━━━━━━━━━━━━━━┳━━━━━━━━━━━━━━━━━━━━━━━━┳━━━━━━━━━━━━━━━┓\n",
              "┃\u001b[1m \u001b[0m\u001b[1mLayer (type)                   \u001b[0m\u001b[1m \u001b[0m┃\u001b[1m \u001b[0m\u001b[1mOutput Shape          \u001b[0m\u001b[1m \u001b[0m┃\u001b[1m \u001b[0m\u001b[1m      Param #\u001b[0m\u001b[1m \u001b[0m┃\n",
              "┡━━━━━━━━━━━━━━━━━━━━━━━━━━━━━━━━━╇━━━━━━━━━━━━━━━━━━━━━━━━╇━━━━━━━━━━━━━━━┩\n",
              "│ conv2d_10 (\u001b[38;5;33mConv2D\u001b[0m)              │ (\u001b[38;5;45mNone\u001b[0m, \u001b[38;5;34m128\u001b[0m, \u001b[38;5;34m128\u001b[0m, \u001b[38;5;34m32\u001b[0m)   │           \u001b[38;5;34m896\u001b[0m │\n",
              "├─────────────────────────────────┼────────────────────────┼───────────────┤\n",
              "│ batch_normalization_8           │ (\u001b[38;5;45mNone\u001b[0m, \u001b[38;5;34m128\u001b[0m, \u001b[38;5;34m128\u001b[0m, \u001b[38;5;34m32\u001b[0m)   │           \u001b[38;5;34m128\u001b[0m │\n",
              "│ (\u001b[38;5;33mBatchNormalization\u001b[0m)            │                        │               │\n",
              "├─────────────────────────────────┼────────────────────────┼───────────────┤\n",
              "│ up_sampling2d_2 (\u001b[38;5;33mUpSampling2D\u001b[0m)  │ (\u001b[38;5;45mNone\u001b[0m, \u001b[38;5;34m256\u001b[0m, \u001b[38;5;34m256\u001b[0m, \u001b[38;5;34m32\u001b[0m)   │             \u001b[38;5;34m0\u001b[0m │\n",
              "├─────────────────────────────────┼────────────────────────┼───────────────┤\n",
              "│ conv2d_11 (\u001b[38;5;33mConv2D\u001b[0m)              │ (\u001b[38;5;45mNone\u001b[0m, \u001b[38;5;34m256\u001b[0m, \u001b[38;5;34m256\u001b[0m, \u001b[38;5;34m64\u001b[0m)   │        \u001b[38;5;34m18,496\u001b[0m │\n",
              "├─────────────────────────────────┼────────────────────────┼───────────────┤\n",
              "│ batch_normalization_9           │ (\u001b[38;5;45mNone\u001b[0m, \u001b[38;5;34m256\u001b[0m, \u001b[38;5;34m256\u001b[0m, \u001b[38;5;34m64\u001b[0m)   │           \u001b[38;5;34m256\u001b[0m │\n",
              "│ (\u001b[38;5;33mBatchNormalization\u001b[0m)            │                        │               │\n",
              "├─────────────────────────────────┼────────────────────────┼───────────────┤\n",
              "│ conv2d_12 (\u001b[38;5;33mConv2D\u001b[0m)              │ (\u001b[38;5;45mNone\u001b[0m, \u001b[38;5;34m256\u001b[0m, \u001b[38;5;34m256\u001b[0m, \u001b[38;5;34m128\u001b[0m)  │        \u001b[38;5;34m73,856\u001b[0m │\n",
              "├─────────────────────────────────┼────────────────────────┼───────────────┤\n",
              "│ batch_normalization_10          │ (\u001b[38;5;45mNone\u001b[0m, \u001b[38;5;34m256\u001b[0m, \u001b[38;5;34m256\u001b[0m, \u001b[38;5;34m128\u001b[0m)  │           \u001b[38;5;34m512\u001b[0m │\n",
              "│ (\u001b[38;5;33mBatchNormalization\u001b[0m)            │                        │               │\n",
              "├─────────────────────────────────┼────────────────────────┼───────────────┤\n",
              "│ max_pooling2d_2 (\u001b[38;5;33mMaxPooling2D\u001b[0m)  │ (\u001b[38;5;45mNone\u001b[0m, \u001b[38;5;34m128\u001b[0m, \u001b[38;5;34m128\u001b[0m, \u001b[38;5;34m128\u001b[0m)  │             \u001b[38;5;34m0\u001b[0m │\n",
              "├─────────────────────────────────┼────────────────────────┼───────────────┤\n",
              "│ conv2d_13 (\u001b[38;5;33mConv2D\u001b[0m)              │ (\u001b[38;5;45mNone\u001b[0m, \u001b[38;5;34m128\u001b[0m, \u001b[38;5;34m128\u001b[0m, \u001b[38;5;34m64\u001b[0m)   │        \u001b[38;5;34m73,792\u001b[0m │\n",
              "├─────────────────────────────────┼────────────────────────┼───────────────┤\n",
              "│ batch_normalization_11          │ (\u001b[38;5;45mNone\u001b[0m, \u001b[38;5;34m128\u001b[0m, \u001b[38;5;34m128\u001b[0m, \u001b[38;5;34m64\u001b[0m)   │           \u001b[38;5;34m256\u001b[0m │\n",
              "│ (\u001b[38;5;33mBatchNormalization\u001b[0m)            │                        │               │\n",
              "├─────────────────────────────────┼────────────────────────┼───────────────┤\n",
              "│ conv2d_14 (\u001b[38;5;33mConv2D\u001b[0m)              │ (\u001b[38;5;45mNone\u001b[0m, \u001b[38;5;34m128\u001b[0m, \u001b[38;5;34m128\u001b[0m, \u001b[38;5;34m1\u001b[0m)    │           \u001b[38;5;34m577\u001b[0m │\n",
              "└─────────────────────────────────┴────────────────────────┴───────────────┘\n"
            ]
          },
          "metadata": {},
          "output_type": "display_data"
        },
        {
          "data": {
            "text/html": [
              "<pre style=\"white-space:pre;overflow-x:auto;line-height:normal;font-family:Menlo,'DejaVu Sans Mono',consolas,'Courier New',monospace\"><span style=\"font-weight: bold\"> Total params: </span><span style=\"color: #00af00; text-decoration-color: #00af00\">168,769</span> (659.25 KB)\n",
              "</pre>\n"
            ],
            "text/plain": [
              "\u001b[1m Total params: \u001b[0m\u001b[38;5;34m168,769\u001b[0m (659.25 KB)\n"
            ]
          },
          "metadata": {},
          "output_type": "display_data"
        },
        {
          "data": {
            "text/html": [
              "<pre style=\"white-space:pre;overflow-x:auto;line-height:normal;font-family:Menlo,'DejaVu Sans Mono',consolas,'Courier New',monospace\"><span style=\"font-weight: bold\"> Trainable params: </span><span style=\"color: #00af00; text-decoration-color: #00af00\">168,193</span> (657.00 KB)\n",
              "</pre>\n"
            ],
            "text/plain": [
              "\u001b[1m Trainable params: \u001b[0m\u001b[38;5;34m168,193\u001b[0m (657.00 KB)\n"
            ]
          },
          "metadata": {},
          "output_type": "display_data"
        },
        {
          "data": {
            "text/html": [
              "<pre style=\"white-space:pre;overflow-x:auto;line-height:normal;font-family:Menlo,'DejaVu Sans Mono',consolas,'Courier New',monospace\"><span style=\"font-weight: bold\"> Non-trainable params: </span><span style=\"color: #00af00; text-decoration-color: #00af00\">576</span> (2.25 KB)\n",
              "</pre>\n"
            ],
            "text/plain": [
              "\u001b[1m Non-trainable params: \u001b[0m\u001b[38;5;34m576\u001b[0m (2.25 KB)\n"
            ]
          },
          "metadata": {},
          "output_type": "display_data"
        }
      ],
      "source": [
        "import tensorflow as tf\n",
        "\n",
        "def combined_loss(weight_kl=0.1):\n",
        "    def loss(y_true, y_pred):\n",
        "        mae_loss = tf.keras.losses.mae(y_true, y_pred)\n",
        "        kl_loss = tf.keras.losses.kld(y_true, y_pred)\n",
        "        return mae_loss + weight_kl * kl_loss\n",
        "    return loss\n",
        "\n",
        "def create_model(learning_rate=1e-4, \n",
        "                 in_activation=\"sigmoid\",\n",
        "                 h_activation=\"sigmoid\", \n",
        "                 out_activation=\"sigmoid\",\n",
        "                 h_kernel_size=3, \n",
        "                 hidden_filters=64,\n",
        "                 out_kernel_size=3,\n",
        "                 weight_kl=0.1,\n",
        "                 beta_1=0.9,\n",
        "                 beta_2=0.999,\n",
        "                 epsilon=1e-7,\n",
        "                 amsgrad=False,\n",
        "                 decay_steps=10000,\n",
        "                 decay_rate=0.96\n",
        "                 ):\n",
        "    \"\"\"\n",
        "    Modelo que agranda las dimensiones espaciales hasta 256x256 y luego las reduce a 128x128.\n",
        "    \n",
        "    Hyper-parameters:\n",
        "        learning_rate:     Tasa de aprendizaje inicial.\n",
        "        in_activation:     Función de activación para la capa de entrada.\n",
        "        h_activation:      Función de activación para las capas ocultas.\n",
        "        out_activation:    Función de activación para la capa de salida.\n",
        "        h_kernel_size:     Tamaño del kernel para las capas de convolución ocultas.\n",
        "        hidden_filters:    Número de filtros en las capas de convolución ocultas.\n",
        "        out_kernel_size:   Tamaño del kernel para la capa de salida.\n",
        "        weight_kl:         Peso de la pérdida KL Divergence en la función de pérdida combinada.\n",
        "        beta_1:            Coeficiente de decaimiento exponencial para el primer momento.\n",
        "        beta_2:            Coeficiente de decaimiento exponencial para el segundo momento.\n",
        "        epsilon:           Valor pequeño para evitar división por cero.\n",
        "        amsgrad:           Booleano para usar la variante AMSGrad del optimizador Adam.\n",
        "        decay_steps:       Valor de caida del learning rate con el scheduler exponencial\n",
        "        decay_rate:        Ratio de caide del scheduler\n",
        "    \"\"\"\n",
        "    model = tf.keras.models.Sequential([\n",
        "        # Input layer\n",
        "        tf.keras.layers.Input(shape=(128, 128, 3)),\n",
        "\n",
        "        # Aumentar dimensiones a 256x256\n",
        "        tf.keras.layers.Conv2D(32, (3, 3), activation=in_activation, padding='same'),\n",
        "        tf.keras.layers.BatchNormalization(),\n",
        "        tf.keras.layers.UpSampling2D(size=(2, 2)),  # 128x128 -> 256x256\n",
        "        \n",
        "        # Mantener 256x256 con mayor profundidad\n",
        "        tf.keras.layers.Conv2D(hidden_filters, (h_kernel_size, h_kernel_size), activation=h_activation, padding='same'),\n",
        "        tf.keras.layers.BatchNormalization(),\n",
        "        tf.keras.layers.Conv2D(2 * hidden_filters, (h_kernel_size, h_kernel_size), activation=h_activation, padding='same'),\n",
        "        tf.keras.layers.BatchNormalization(),\n",
        "\n",
        "        # Reducir de vuelta a 128x128\n",
        "        tf.keras.layers.MaxPooling2D(pool_size=(2, 2)),  # 256x256 -> 128x128\n",
        "        tf.keras.layers.Conv2D(64, (3, 3), activation=h_activation, padding='same'),\n",
        "        tf.keras.layers.BatchNormalization(),\n",
        "        \n",
        "        # Salida con 1 canal\n",
        "        tf.keras.layers.Conv2D(1, (out_kernel_size, out_kernel_size), activation=out_activation, padding='same')\n",
        "    ])\n",
        "\n",
        "    lr_schedule = tf.keras.optimizers.schedules.ExponentialDecay(\n",
        "      initial_learning_rate=learning_rate,\n",
        "      decay_steps=decay_steps,\n",
        "      decay_rate=decay_rate,\n",
        "      staircase=True)\n",
        "    \n",
        "    optimizer = tf.keras.optimizers.Adam(learning_rate=lr_schedule, \n",
        "                                         beta_1=beta_1, \n",
        "                                         beta_2=beta_2, \n",
        "                                         epsilon=epsilon, \n",
        "                                         amsgrad=amsgrad)\n",
        "\n",
        "    model.compile(optimizer=optimizer, loss=combined_loss(weight_kl))\n",
        "\n",
        "    return model\n",
        "\n",
        "\n",
        "def load_hyperparameters(counter):\n",
        "    with open(f'hyperparameters_{counter}.json', 'r') as f:\n",
        "        hyperparameters = json.load(f)\n",
        "    return hyperparameters\n",
        "\n",
        "def load_model_with_hyperparameters(counter):\n",
        "    # Cargar los hiperparámetros\n",
        "    hyperparameters = load_hyperparameters(counter)\n",
        "    learning_rate = hyperparameters['learning_rate']\n",
        "    activation = hyperparameters['activation']\n",
        "\n",
        "    # Recrear el modelo con los hiperparámetros cargados\n",
        "    model = create_model(learning_rate, activation)\n",
        "    \n",
        "    # Cargar los pesos del modelo\n",
        "    model.load_weights(f'best_model_{counter}.weights.h5')\n",
        "\n",
        "    return model\n",
        "\n",
        "# Crear el modelo\n",
        "model = create_model()\n",
        "model.summary()\n",
        "\n",
        "\n"
      ]
    },
    {
      "cell_type": "markdown",
      "metadata": {},
      "source": [
        "## Visualizacion del modelo"
      ]
    },
    {
      "cell_type": "code",
      "execution_count": 19,
      "metadata": {},
      "outputs": [],
      "source": [
        "import visualkeras\n",
        "\n",
        "# visualkeras.layered_view(model, legend=True, show_dimension=True,draw_volume=True,\n",
        "#                           scale_xy=1, scale_z=1)"
      ]
    },
    {
      "cell_type": "markdown",
      "metadata": {},
      "source": [
        "## Training Hiperparameter"
      ]
    },
    {
      "cell_type": "code",
      "execution_count": 20,
      "metadata": {},
      "outputs": [],
      "source": [
        "import datetime\n",
        "import json\n",
        "\n",
        "def log_dir_name(learning_rate, in_activation, h_activation, out_activation, \n",
        "                 h_kernel_size, hidden_filters, out_kernel_size, weight_kl, \n",
        "                 beta_1, beta_2, epsilon, amsgrad, decay_steps, decay_rate):\n",
        "    \"\"\"\n",
        "    Helper function para generar el nombre del directorio de TensorBoard.\n",
        "\n",
        "    Args:\n",
        "        learning_rate (float): Tasa de aprendizaje para el optimizador.\n",
        "        in_activation (str): Función de activación para la capa de entrada.\n",
        "        h_activation (str): Función de activación para las capas ocultas.\n",
        "        out_activation (str): Función de activación para la capa de salida.\n",
        "        h_kernel_size (int): Tamaño del kernel para capas ocultas.\n",
        "        hidden_filters (int): Número de filtros en las capas ocultas.\n",
        "        out_kernel_size (int): Tamaño del kernel para la capa de salida.\n",
        "        weight_kl (float): Peso para KL Divergence en la pérdida.\n",
        "        beta_1 (float): Parámetro beta_1 para el optimizador Adam.\n",
        "        beta_2 (float): Parámetro beta_2 para el optimizador Adam.\n",
        "        epsilon (float): Parámetro epsilon para el optimizador Adam.\n",
        "        amsgrad (bool): Usar AMSGrad en el optimizador Adam.\n",
        "        decay_steps (int): Número de pasos para el decaimiento del learning rate.\n",
        "        decay_rate (float): Tasa de decaimiento para el learning rate.\n",
        "\n",
        "    Returns:\n",
        "        str: Ruta del directorio para TensorBoard.\n",
        "    \"\"\"\n",
        "    s = \"./logs/lr_{0:.0e}_inact_{1}_hact_{2}_outact_{3}_hks_{4}_hf_{5}_oks_{6}_wkl_{7}_beta1_{8}_beta2_{9}_eps_{10}_amsgrad_{11}_decaysteps_{12}_decayrate_{13}/\" + datetime.datetime.now().strftime(\"%Y%m%d-%H%M%S\")\n",
        "    \n",
        "    log_dir = s.format(learning_rate, \n",
        "                       in_activation,\n",
        "                       h_activation,\n",
        "                       out_activation,\n",
        "                       h_kernel_size,\n",
        "                       hidden_filters,\n",
        "                       out_kernel_size,\n",
        "                       weight_kl,\n",
        "                       beta_1,\n",
        "                       beta_2,\n",
        "                       epsilon,\n",
        "                       amsgrad,\n",
        "                       decay_steps,\n",
        "                       decay_rate)\n",
        "\n",
        "    return log_dir\n",
        "\n",
        "def save_hyperparameters(learning_rate, in_activation, h_activation, out_activation, \n",
        "                         h_kernel_size, hidden_filters, out_kernel_size, weight_kl, \n",
        "                         beta_1, beta_2, epsilon, amsgrad, decay_steps, decay_rate, counter):\n",
        "    \"\"\"\n",
        "    Guarda los hiperparámetros en un archivo JSON.\n",
        "\n",
        "    Args:\n",
        "        learning_rate (float): Tasa de aprendizaje para el optimizador.\n",
        "        in_activation (str): Función de activación para la capa de entrada.\n",
        "        h_activation (str): Función de activación para las capas ocultas.\n",
        "        out_activation (str): Función de activación para la capa de salida.\n",
        "        h_kernel_size (int): Tamaño del kernel para capas ocultas.\n",
        "        hidden_filters (int): Número de filtros en las capas ocultas.\n",
        "        out_kernel_size (int): Tamaño del kernel para la capa de salida.\n",
        "        weight_kl (float): Peso para KL Divergence en la pérdida.\n",
        "        beta_1 (float): Parámetro beta_1 para el optimizador Adam.\n",
        "        beta_2 (float): Parámetro beta_2 para el optimizador Adam.\n",
        "        epsilon (float): Parámetro epsilon para el optimizador Adam.\n",
        "        amsgrad (bool): Usar AMSGrad en el optimizador Adam.\n",
        "        decay_steps (int): Número de pasos para el decaimiento del learning rate.\n",
        "        decay_rate (float): Tasa de decaimiento para el learning rate.\n",
        "        counter (int): Identificador para el archivo de guardado.\n",
        "\n",
        "    Returns:\n",
        "        None\n",
        "    \"\"\"\n",
        "    hyperparameters = {\n",
        "        'learning_rate': learning_rate,\n",
        "        'in_activation': in_activation,\n",
        "        'h_activation': h_activation,\n",
        "        'out_activation': out_activation,\n",
        "        'h_kernel_size': h_kernel_size,\n",
        "        'hidden_filters': hidden_filters,\n",
        "        'out_kernel_size': out_kernel_size,\n",
        "        'weight_kl': weight_kl,\n",
        "        'beta_1': beta_1,\n",
        "        'beta_2': beta_2,\n",
        "        'epsilon': epsilon,\n",
        "        'amsgrad': amsgrad,\n",
        "        'decay_steps': decay_steps,\n",
        "        'decay_rate': decay_rate\n",
        "    }\n",
        "    \n",
        "    with open(f'hyperparameters_{counter}.json', 'w') as f:\n",
        "        json.dump(hyperparameters, f, indent=4)\n"
      ]
    },
    {
      "cell_type": "code",
      "execution_count": 25,
      "metadata": {},
      "outputs": [],
      "source": [
        "# Definir las dimensiones de los hiperparámetros para la optimización\n",
        "dim_learning_rate = Real(low=1e-6, high=1e-2, prior='log-uniform', name='learning_rate')\n",
        "dim_in_activation = Categorical(categories=['relu', 'sigmoid', 'tanh'], name='in_activation')\n",
        "dim_h_activation = Categorical(categories=['relu', 'sigmoid', 'tanh'], name='h_activation')\n",
        "dim_out_activation = Categorical(categories=['relu', 'sigmoid', 'tanh'], name='out_activation')\n",
        "\n",
        "dim_h_kernel_size = Integer(low=2, high=7, name='h_kernel_size')  # Tamaño del kernel para capas ocultas\n",
        "dim_hidden_filters = Integer(low=16, high=128, name='hidden_filters')  # Número de filtros en capas ocultas\n",
        "dim_out_kernel_size = Integer(low=2, high=7, name='out_kernel_size')  # Tamaño del kernel para la capa de salida\n",
        "\n",
        "dim_weight_kl = Real(low=0.01, high=2.0, prior='log-uniform', name='weight_kl')  # Peso para KL Divergence en la pérdida\n",
        "dim_beta_1 = Real(low=0.0, high=0.99, name='beta_1')  # Parámetro beta_1 para el optimizador Adam\n",
        "dim_beta_2 = Real(low=0.0, high=0.999, name='beta_2')  # Parámetro beta_2 para el optimizador Adam\n",
        "\n",
        "dim_epsilon = Real(low=1e-8, high=1e-4, prior='log-uniform', name='epsilon')  # Parámetro epsilon para el optimizador Adam\n",
        "dim_amsgrad = Categorical(categories=[True, False], name='amsgrad')  # Usar AMSGrad o no\n",
        "dim_decay_steps = Integer(low=1000, high=50000, name='decay_steps')  # Número de pasos para el decaimiento del learning rate\n",
        "\n",
        "dim_decay_rate = Real(low=0.8, high=0.99, name='decay_rate')  # Tasa de decaimiento para el learning rate\n",
        "dim_epochs = Integer(low=5, high=25, name='epochs')  # Número de épocas para entrenamiento\n",
        "\n",
        "# Lista de todas las dimensiones\n",
        "dimensions = [\n",
        "    dim_learning_rate, dim_in_activation, \n",
        "    dim_h_activation, dim_out_activation,\n",
        "    dim_h_kernel_size, dim_hidden_filters, dim_out_kernel_size,\n",
        "    dim_weight_kl, dim_beta_1, dim_beta_2,\n",
        "    dim_epsilon, dim_amsgrad, dim_decay_steps, \n",
        "    dim_decay_rate, dim_epochs\n",
        "]\n",
        "\n",
        "# Nombres de las dimensiones para referencia\n",
        "dimension_names = [x.name for x in dimensions]\n",
        "\n",
        "# Valores predeterminados para los hiperparámetros\n",
        "default_parameters = [1e-4, 'sigmoid', \n",
        "                      'sigmoid', 'sigmoid', \n",
        "                      3, 64, 3, \n",
        "                      0.1, 0.9, 0.99, \n",
        "                      1e-7, False, 10000, \n",
        "                      0.96, 10]\n"
      ]
    },
    {
      "cell_type": "code",
      "execution_count": null,
      "metadata": {},
      "outputs": [
        {
          "ename": "",
          "evalue": "",
          "output_type": "error",
          "traceback": [
            "\u001b[1;31mThe Kernel crashed while executing code in the current cell or a previous cell. \n",
            "\u001b[1;31mPlease review the code in the cell(s) to identify a possible cause of the failure. \n",
            "\u001b[1;31mClick <a href='https://aka.ms/vscodeJupyterKernelCrash'>here</a> for more info. \n",
            "\u001b[1;31mView Jupyter <a href='command:jupyter.viewOutput'>log</a> for further details."
          ]
        }
      ],
      "source": [
        "import time\n",
        "# Inicializar best_accuracy\n",
        "best_loss = float('inf')\n",
        "verbose = 1\n",
        "counter = 1\n",
        "\n",
        "# Función objetivo\n",
        "@use_named_args(dimensions=dimensions)\n",
        "def F_objective(learning_rate, \n",
        "                in_activation, h_activation, out_activation, \n",
        "                h_kernel_size, hidden_filters, \n",
        "                out_kernel_size, weight_kl, \n",
        "                beta_1, beta_2, epsilon, amsgrad, \n",
        "                decay_steps, decay_rate, epochs):\n",
        "    \"\"\"\n",
        "    Función objetivo para la optimización de hiperparámetros.\n",
        "    \n",
        "    Hyper-parameters:\n",
        "        - learning_rate (float): La tasa de aprendizaje para el optimizador Adam, que controla \n",
        "          la magnitud de las actualizaciones de los pesos durante el entrenamiento.\n",
        "        - in_activation (str): La función de activación utilizada en la primera capa convolucional.\n",
        "        - h_activation (str): La función de activación utilizada en las capas convolucionales ocultas \n",
        "          que procesan la imagen a tamaño 256x256 y nuevamente después de reducirla a 128x128.\n",
        "        - out_activation (str): La función de activación utilizada en la capa de salida que produce la \n",
        "          imagen final con una sola capa de canal.\n",
        "        - h_kernel_size (int): El tamaño del kernel para las capas convolucionales ocultas, que determina \n",
        "          el tamaño del filtro utilizado para convolucionar la imagen.\n",
        "        - hidden_filters (int): El número de filtros en las capas convolucionales ocultas, lo que determina \n",
        "          la profundidad de la salida de la convolución.\n",
        "        - out_kernel_size (int): El tamaño del kernel para la capa convolucional de salida, que define cómo \n",
        "          se combina la información para producir la imagen final.\n",
        "        - weight_kl (float): Un factor de ponderación para la pérdida de KL Divergence cuando se combina \n",
        "          con la pérdida de MAE. Esto ajusta la influencia de KL Divergence en la función de pérdida final.\n",
        "        - beta_1 (float): Parámetro beta_1 para el optimizador Adam, que controla el momento de primer orden.\n",
        "        - beta_2 (float): Parámetro beta_2 para el optimizador Adam, que controla el momento de segundo orden.\n",
        "        - epsilon (float): Parámetro epsilon para el optimizador Adam, que previene divisiones por cero.\n",
        "        - amsgrad (bool): Indica si se debe usar el algoritmo AMSGrad en el optimizador Adam.\n",
        "        - decay_steps (int): Número de pasos para el decaimiento del learning rate.\n",
        "        - decay_rate (float): Tasa de decaimiento para el learning rate.\n",
        "        - epochs (int): La cantidad de épocas para las que se entrena el modelo.\n",
        "    \"\"\"\n",
        "    # Crear el modelo\n",
        "    model = create_model(learning_rate, \n",
        "                 in_activation,\n",
        "                 h_activation, \n",
        "                 out_activation,\n",
        "                 h_kernel_size, \n",
        "                 hidden_filters,\n",
        "                 out_kernel_size,\n",
        "                 weight_kl,\n",
        "                 beta_1,\n",
        "                 beta_2,\n",
        "                 epsilon,\n",
        "                 amsgrad,\n",
        "                 decay_steps,\n",
        "                 decay_rate\n",
        "                 )\n",
        "\n",
        "\n",
        "    # Generar el nombre del directorio de TensorBoard\n",
        "    log_dir = log_dir_name(\n",
        "        learning_rate, \n",
        "        in_activation, \n",
        "        h_activation, \n",
        "        out_activation, \n",
        "        h_kernel_size, \n",
        "        hidden_filters, \n",
        "        out_kernel_size, \n",
        "        weight_kl, \n",
        "        beta_1, \n",
        "        beta_2, \n",
        "        epsilon, \n",
        "        amsgrad, \n",
        "        decay_steps, \n",
        "        decay_rate\n",
        "    )\n",
        "    tensorboard_callback = TensorBoard(\n",
        "        log_dir=log_dir,\n",
        "        histogram_freq=0,\n",
        "        write_graph=True)\n",
        "\n",
        "\n",
        "    # Entrenar el modelo con TensorBoard callback\n",
        "    model.fit(train_dataset, epochs=epochs, verbose=verbose, callbacks=[tensorboard_callback])\n",
        "\n",
        "    loss = model.evaluate(val_dataset, verbose=0)\n",
        "\n",
        "\n",
        "    # Print the classification accuracy.\n",
        "    print()\n",
        "    print(\"loss: {0:.2%}\".format(loss))\n",
        "    print()\n",
        "\n",
        "    # Guardamos la mejor precision\n",
        "    global best_loss, counter\n",
        "\n",
        "    if loss < best_loss:\n",
        "        # Salvar el modelo\n",
        "        model.save_weights(f'best_model_{counter}.weights.h5')\n",
        "\n",
        "        # Guardar hiperparámetros\n",
        "        save_hyperparameters(\n",
        "            learning_rate, in_activation, h_activation, \n",
        "            out_activation, h_kernel_size, hidden_filters, \n",
        "            out_kernel_size, weight_kl, \n",
        "            beta_1, beta_2, epsilon, \n",
        "            amsgrad, decay_steps, decay_rate, \n",
        "            counter\n",
        "        )\n",
        "\n",
        "        print(f\"Model weights and hyperparameters saved with ID: {counter}\")\n",
        "        print(f\"TensorBoard logs directory: {log_dir}\")\n",
        "\n",
        "        # Incrementar el contador\n",
        "        counter += 1\n",
        "\n",
        "        # Actualizar la mejor pérdida\n",
        "        best_loss = loss\n",
        "\n",
        "        \n",
        "    # Borrar el modelo y los hiperparametro de memoria\n",
        "    del model\n",
        "    # y reiniciar el grafo computacional\n",
        "    K.clear_session()\n",
        "    return loss  # Queremos maximizar la precisión, por lo que minimizamos -precisión\n",
        "\n",
        "# Comprobar funcionamiento\n",
        "start_time = time.time()\n",
        "F_objective(x=default_parameters)\n",
        "end_time = time.time()\n",
        "execution_time_minutes = (end_time - start_time) / 60\n",
        "print(f\"Execution time: {execution_time_minutes:.2f} minutes\")"
      ]
    },
    {
      "cell_type": "markdown",
      "metadata": {},
      "source": [
        "# GRAN MINIMIZACION"
      ]
    },
    {
      "cell_type": "markdown",
      "metadata": {},
      "source": [
        "Codigo de minimizacion\n",
        "Posiblemente tome bastante tiempo en ejecutarse"
      ]
    },
    {
      "cell_type": "code",
      "execution_count": null,
      "metadata": {},
      "outputs": [
        {
          "name": "stdout",
          "output_type": "stream",
          "text": [
            "Using data folder: ../data/6\n"
          ]
        }
      ],
      "source": [
        "train_dataset, val_dataset, test_dataset = get_datasets(data_index=6, max_files=1500, home='..')"
      ]
    },
    {
      "cell_type": "code",
      "execution_count": null,
      "metadata": {},
      "outputs": [],
      "source": [
        "# Crear un callback para guardar checkpoints\n",
        "checkpoint_saver = CheckpointSaver(\"checkpoint.pkl\", compress=9)\n",
        "\n",
        "# Ejecutar la optimizacion\n",
        "start_time = time.time()\n",
        "res = gp_minimize(func=F_objective,\n",
        "                    dimensions=dimensions,\n",
        "                    acq_func='EI', # Expected Improvement.\n",
        "                    n_calls=31,\n",
        "                    x0=default_parameters,\n",
        "                    callback=[checkpoint_saver])\n",
        "end_time = time.time()\n",
        "execution_time_minutes = (end_time - start_time) / 60\n",
        "print(f\"Execution time: {execution_time_minutes:.2f} minutes\")"
      ]
    },
    {
      "cell_type": "code",
      "execution_count": null,
      "metadata": {},
      "outputs": [],
      "source": [
        "\n",
        "# Guardar el objeto res, para hacer estadistica despues\n",
        "with open('optimization_results.pkl', 'wb') as f:\n",
        "    pickle.dump(res, f)"
      ]
    },
    {
      "cell_type": "markdown",
      "metadata": {},
      "source": [
        "# Hacer un plot\n",
        "Veamos que tal lo ha hecho el modelo"
      ]
    },
    {
      "cell_type": "code",
      "execution_count": null,
      "metadata": {},
      "outputs": [
        {
          "name": "stdout",
          "output_type": "stream",
          "text": [
            "Space([Real(low=1e-06, high=0.01, prior='log-uniform', transform='normalize'),\n",
            "       Categorical(categories=('relu', 'sigmoid', 'tanh'), prior=None)])\n",
            "[0.003636525599163243, 'sigmoid']\n",
            "Accuracy:  -0.03442706912755966\n"
          ]
        },
        {
          "data": {
            "image/png": "[encoded data removed]",
            "text/plain": [
              "<Figure size 640x480 with 1 Axes>"
            ]
          },
          "metadata": {},
          "output_type": "display_data"
        }
      ],
      "source": [
        "plot_convergence(res)\n",
        "print(res.space)\n",
        "print(res.x)\n",
        "print(\"Accuracy: \", - res.fun)"
      ]
    },
    {
      "cell_type": "code",
      "execution_count": null,
      "metadata": {
        "id": "vgWaso43f3rY"
      },
      "outputs": [
        {
          "data": {
            "image/png": "[encoded data removed]",
            "text/plain": [
              "<Figure size 640x480 with 1 Axes>"
            ]
          },
          "metadata": {},
          "output_type": "display_data"
        }
      ],
      "source": [
        "from skopt.plots import plot_histogram, plot_objective_2D\n",
        "\n",
        "plot_histogram(result=res,  dimension_identifier='activation')\n",
        "plt.show()"
      ]
    },
    {
      "cell_type": "code",
      "execution_count": null,
      "metadata": {
        "id": "IqqEW-lDcNsa"
      },
      "outputs": [
        {
          "data": {
            "text/plain": [
              "<Axes: >"
            ]
          },
          "execution_count": 49,
          "metadata": {},
          "output_type": "execute_result"
        },
        {
          "data": {
            "image/png": "[encoded data removed]",
            "text/plain": [
              "<Figure size 400x400 with 5 Axes>"
            ]
          },
          "metadata": {},
          "output_type": "display_data"
        }
      ],
      "source": [
        "plot_objective(result=res, dimensions=dimension_names)"
      ]
    },
    {
      "cell_type": "code",
      "execution_count": null,
      "metadata": {},
      "outputs": [
        {
          "data": {
            "text/plain": [
              "<Axes: >"
            ]
          },
          "execution_count": 50,
          "metadata": {},
          "output_type": "execute_result"
        },
        {
          "data": {
            "image/png": "[encoded data removed]",
            "text/plain": [
              "<Figure size 400x400 with 5 Axes>"
            ]
          },
          "metadata": {},
          "output_type": "display_data"
        }
      ],
      "source": [
        "plot_evaluations(result=res, dimensions=dimension_names)"
      ]
    },
    {
      "cell_type": "markdown",
      "metadata": {},
      "source": [
        "# Testing Modelo\n"
      ]
    },
    {
      "cell_type": "code",
      "execution_count": null,
      "metadata": {},
      "outputs": [],
      "source": [
        "# Obtener la primera imagen de la predicción\n",
        "model = load_model_with_hyperparameters(1)\n",
        "\n",
        "for X, Y in test_dataset.take(1):\n",
        "    prediction = model.predict(X)\n",
        "    \n",
        "prediction.shape\n",
        "predicted_images = prediction\n",
        "\n",
        "# Configurar la figura\n",
        "fig, axes = plt.subplots(1, predicted_images.shape[0], figsize=(20, 10))\n",
        "axes = axes.flatten()\n",
        "\n",
        "# Graficar cada imagen\n",
        "for img, ax in zip(predicted_images, axes):\n",
        "    ax.imshow(np.squeeze(img))  # Quitar el canal de color si es necesario\n",
        "    ax.axis('off')\n",
        "\n",
        "plt.show()"
      ]
    }
  ],
  "metadata": {
    "accelerator": "GPU",
    "colab": {
      "gpuType": "T4",
      "provenance": []
    },
    "kernelspec": {
      "display_name": "Python 3",
      "name": "python3"
    },
    "language_info": {
      "codemirror_mode": {
        "name": "ipython",
        "version": 3
      },
      "file_extension": ".py",
      "mimetype": "text/x-python",
      "name": "python",
      "nbconvert_exporter": "python",
      "pygments_lexer": "ipython3",
      "version": "3.10.12"
    }
  },
  "nbformat": 4,
  "nbformat_minor": 0
}
