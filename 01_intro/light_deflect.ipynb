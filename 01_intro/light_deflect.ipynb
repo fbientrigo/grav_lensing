{
 "cells": [
  {
   "cell_type": "code",
   "execution_count": 2,
   "metadata": {},
   "outputs": [],
   "source": [
    "import numpy as np\n",
    "import matplotlib.pyplot as plt\n",
    "from PIL import Image\n",
    "import io\n"
   ]
  },
  {
   "cell_type": "code",
   "execution_count": null,
   "metadata": {},
   "outputs": [],
   "source": []
  },
  {
   "cell_type": "code",
   "execution_count": 1,
   "metadata": {},
   "outputs": [
    {
     "ename": "NameError",
     "evalue": "name 'base_image_data' is not defined",
     "output_type": "error",
     "traceback": [
      "\u001b[1;31m---------------------------------------------------------------------------\u001b[0m",
      "\u001b[1;31mNameError\u001b[0m                                 Traceback (most recent call last)",
      "Cell \u001b[1;32mIn[1], line 27\u001b[0m\n\u001b[0;32m     23\u001b[0m     lens_image \u001b[38;5;241m=\u001b[39m map_coordinates(base_image, [y_deflected, x_deflected], order\u001b[38;5;241m=\u001b[39m\u001b[38;5;241m1\u001b[39m)\n\u001b[0;32m     24\u001b[0m     \u001b[38;5;28;01mreturn\u001b[39;00m lens_image\n\u001b[1;32m---> 27\u001b[0m global_base_image \u001b[38;5;241m=\u001b[39m np\u001b[38;5;241m.\u001b[39marray(Image\u001b[38;5;241m.\u001b[39mopen(io\u001b[38;5;241m.\u001b[39mBytesIO(\u001b[43mbase_image_data\u001b[49m))\u001b[38;5;241m.\u001b[39mconvert(\u001b[38;5;124m'\u001b[39m\u001b[38;5;124mL\u001b[39m\u001b[38;5;124m'\u001b[39m)) \u001b[38;5;241m/\u001b[39m \u001b[38;5;241m255.0\u001b[39m\n",
      "\u001b[1;31mNameError\u001b[0m: name 'base_image_data' is not defined"
     ]
    }
   ],
   "source": [
    "\n",
    "def resize_image(image, target_shape):\n",
    "    return np.array(Image.fromarray((image * 255).astype(np.uint8)).resize(target_shape[::-1])) / 255.0\n",
    "\n",
    "def lensing_effect(x, y, phi, strength=1):\n",
    "    # Obtener las desviaciones del mapa de lentes\n",
    "    lens_x, lens_y = np.gradient(phi)\n",
    "    # Calcular las posiciones desviadas\n",
    "    x_deflected = x + strength * lens_x\n",
    "    y_deflected = y + strength * lens_y\n",
    "    return x_deflected, y_deflected\n",
    "\n",
    "def apply_lensing(base_image, potential2d, strength=0.05):\n",
    "    # Crear una malla de coordenadas\n",
    "    x, y = np.meshgrid(np.arange(base_image.shape[1]), np.arange(base_image.shape[0]))\n",
    "    # Aplicar el efecto de lentes\n",
    "    x_deflected, y_deflected = lensing_effect(x, y, potential2d, strength)\n",
    "    # Interpolar la imagen base\n",
    "    lens_image = map_coordinates(base_image, [y_deflected, x_deflected], order=1)\n",
    "    return lens_image\n",
    "\n",
    "\n",
    "global_base_image = np.array(Image.open(io.BytesIO(base_image_data)).convert('L')) / 255.0"
   ]
  },
  {
   "cell_type": "code",
   "execution_count": null,
   "metadata": {},
   "outputs": [],
   "source": []
  },
  {
   "cell_type": "code",
   "execution_count": null,
   "metadata": {},
   "outputs": [],
   "source": []
  }
 ],
 "metadata": {
  "kernelspec": {
   "display_name": "venv",
   "language": "python",
   "name": "python3"
  },
  "language_info": {
   "codemirror_mode": {
    "name": "ipython",
    "version": 3
   },
   "file_extension": ".py",
   "mimetype": "text/x-python",
   "name": "python",
   "nbconvert_exporter": "python",
   "pygments_lexer": "ipython3",
   "version": "3.9.5"
  }
 },
 "nbformat": 4,
 "nbformat_minor": 2
}
