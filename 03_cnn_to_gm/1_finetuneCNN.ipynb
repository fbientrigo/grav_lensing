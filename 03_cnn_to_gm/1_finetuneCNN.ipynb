{
 "cells": [
  {
   "cell_type": "code",
   "execution_count": 1,
   "metadata": {},
   "outputs": [],
   "source": [
    "# %pip install tensorflow_probability "
   ]
  },
  {
   "cell_type": "markdown",
   "metadata": {},
   "source": [
    "# CNN a GM\n"
   ]
  },
  {
   "cell_type": "code",
   "execution_count": null,
   "metadata": {},
   "outputs": [],
   "source": [
    "import tensorflow as tf\n",
    "import tensorflow_probability as tfp\n",
    "import numpy as np\n",
    "import matplotlib.pyplot as plt\n"
   ]
  },
  {
   "cell_type": "markdown",
   "metadata": {},
   "source": [
    "datos\n"
   ]
  },
  {
   "cell_type": "code",
   "execution_count": null,
   "metadata": {},
   "outputs": [],
   "source": [
    "# 02_main.ipynb\n",
    "from grav_lens import get_datasets\n",
    "from grav_lens.models import test_model_image\n",
    "\n",
    "import os \n",
    "\n",
    "home_data = os.path.join(\"..\",\"data\")\n",
    "train_dataset, val_dataset, test_dataset = get_datasets(data_index='1', max_files=1500, \n",
    "    home=home_data)\n",
    "\n",
    "import matplotlib.pyplot as plt\n",
    "import numpy as np\n",
    "\n",
    "\n",
    "def plot_history(history):\n",
    "\t# Crear una figura\n",
    "\tplt.figure(figsize=(12, 8))\n",
    "\n",
    "\tline_styles = ['-', '--', '-.', ':']\n",
    "\tfor i, key in enumerate(history.history.keys()):\n",
    "\t\tplt.plot(history.history[key], label=key, linestyle=line_styles[i % len(line_styles)])  # Estilo de línea diferente\n",
    "\n",
    "\tplt.yscale('log')\n",
    "\t# Configurar los detalles de la gráfica\n",
    "\tplt.title('Evolución de las Pérdidas y Métricas durante el Entrenamiento')\n",
    "\tplt.xlabel('Épocas')\n",
    "\tplt.ylabel('Valor')\n",
    "\tplt.legend()\n",
    "\tplt.grid(True)\n",
    "\tplt.show()\n"
   ]
  },
  {
   "cell_type": "markdown",
   "metadata": {},
   "source": [
    "Modelo Gaussiano\n",
    "Toma los parametros y construye la imagen"
   ]
  },
  {
   "cell_type": "code",
   "execution_count": 91,
   "metadata": {},
   "outputs": [],
   "source": [
    "class GaussianImageLayer(tf.keras.layers.Layer):\n",
    "    def __init__(self, img_size=64, Ng=10, sigma_penalty_weight=0.01, c_pi_penalty_weight=0.01, **kwargs):\n",
    "        super(GaussianImageLayer, self).__init__(**kwargs) \n",
    "        self.img_size = img_size  # Tamaño de la imagen generada\n",
    "        self.Ng = Ng  # Número de Gaussianas\n",
    "        self.sigma_penalty_weight = sigma_penalty_weight  # Peso de la penalización sobre sigma\n",
    "        self.c_pi_penalty_weight = c_pi_penalty_weight  # Peso de la penalización sobre c_pi\n",
    "\n",
    "    def call(self, flat_tensor):\n",
    "        \"\"\"Construcción de la imagen con múltiples Gaussianas a partir del tensor plano.\"\"\"\n",
    "        batch_size = tf.shape(flat_tensor)[0]\n",
    "        \n",
    "        # Ahora Ng es un parámetro fijo pasado al constructor\n",
    "        Ng = self.Ng\n",
    "\n",
    "        # Extraer c_pi, mu_x, mu_y, sigma_x, sigma_y\n",
    "        c_pi = flat_tensor[:, :Ng]  # Coeficientes de mezcla\n",
    "        mu_x = flat_tensor[:, Ng:2*Ng]  # Media en x\n",
    "        mu_y = flat_tensor[:, 2*Ng:3*Ng]  # Media en y\n",
    "        sigma_x = tf.abs(flat_tensor[:, 3*Ng:4*Ng]) + 0.1  # Desviación estándar en x (mínimo de 0.1)\n",
    "        sigma_y = tf.abs(flat_tensor[:, 4*Ng:]) + 0.1  # Desviación estándar en y (mínimo de 0.1)\n",
    "\n",
    "        # Añadir penalización de sigma en la loss (L2 regularization para mantener los valores pequeños)\n",
    "        self.add_loss(self.sigma_penalty_weight * tf.reduce_sum(tf.square(sigma_x) + tf.square(sigma_y)))\n",
    "\n",
    "        # Añadir penalización de c_pi en la loss (L2 regularization para mantener los valores de c_pi cercanos a 0)\n",
    "        self.add_loss(self.c_pi_penalty_weight * tf.reduce_sum(tf.square(c_pi)))\n",
    "\n",
    "        # Normalizar mu_x y mu_y al rango de la grilla [-1, 1]\n",
    "        mu_x = mu_x * 2 - 1  # Transformar de [0, 1] a [-1, 1]\n",
    "        mu_y = mu_y * 2 - 1  # Transformar de [0, 1] a [-1, 1]\n",
    "\n",
    "        # Crear una grilla de coordenadas (img_size x img_size)\n",
    "        x = tf.linspace(-1.0, 1.0, self.img_size)\n",
    "        y = tf.linspace(-1.0, 1.0, self.img_size)\n",
    "        X, Y = tf.meshgrid(x, y)  # Crear grilla de coordenadas\n",
    "        coords = tf.stack([X, Y], axis=-1)  # Combinar coordenadas (img_size, img_size, 2)\n",
    "\n",
    "        # Expandir dimensiones para batch y Ng\n",
    "        coords = tf.reshape(coords, (1, self.img_size, self.img_size, 2))  # (1, img_size, img_size, 2)\n",
    "        coords = tf.tile(coords, [batch_size, 1, 1, 1])  # (batch_size, img_size, img_size, 2)\n",
    "\n",
    "        # Inicializar la imagen final en ceros\n",
    "        final_image = tf.zeros((batch_size, self.img_size, self.img_size), dtype=tf.float32)\n",
    "\n",
    "        # Iterar sobre el número de Gaussianas (Ng)\n",
    "        for i in range(Ng):\n",
    "            # Obtener las medias y desviaciones para la Gaussiana i\n",
    "            mu = tf.stack([mu_x[:, i], mu_y[:, i]], axis=-1)  # (batch_size, 2)\n",
    "            sigma = tf.stack([sigma_x[:, i], sigma_y[:, i]], axis=-1)  # (batch_size, 2)\n",
    "\n",
    "            # Expandir las dimensiones de mu y sigma para que coincidan con las coordenadas de la imagen\n",
    "            mu = tf.expand_dims(mu, axis=1)  # (batch_size, 1, 2)\n",
    "            mu = tf.expand_dims(mu, axis=1)  # (batch_size, 1, 1, 2)\n",
    "            sigma = tf.expand_dims(sigma, axis=1)  # (batch_size, 1, 2)\n",
    "            sigma = tf.expand_dims(sigma, axis=1)  # (batch_size, 1, 1, 2)\n",
    "\n",
    "            # Crear una distribución normal multivariada para cada batch y Gaussiana\n",
    "            mvn = tfp.distributions.MultivariateNormalDiag(loc=mu, scale_diag=sigma)\n",
    "            \n",
    "            # Calcular las probabilidades en las coordenadas de la imagen\n",
    "            gaussians = mvn.prob(coords)  # (batch_size, img_size, img_size)\n",
    "            \n",
    "            # Ponderar cada Gaussiana por c_pi (ajustar dimensiones para que coincidan)\n",
    "            gaussians_weighted = gaussians * tf.expand_dims(tf.expand_dims(c_pi[:, i], axis=-1), axis=-1)\n",
    "\n",
    "            # Sumar la Gaussiana ponderada a la imagen final\n",
    "            final_image += gaussians_weighted\n",
    "\n",
    "        # Expandir las dimensiones de la imagen final para que sea (batch_size, img_size, img_size, 1)\n",
    "        return tf.expand_dims(final_image, axis=-1)\n",
    "\n",
    "    def compute_output_shape(self, input_shape):\n",
    "        # Definir la forma de salida, que será (batch_size, img_size, img_size, 1)\n",
    "        return (input_shape[0], self.img_size, self.img_size, 1)\n"
   ]
  },
  {
   "cell_type": "markdown",
   "metadata": {},
   "source": [
    "# Construccion del modelo"
   ]
  },
  {
   "cell_type": "code",
   "execution_count": 93,
   "metadata": {},
   "outputs": [
    {
     "data": {
      "text/html": [
       "<pre style=\"white-space:pre;overflow-x:auto;line-height:normal;font-family:Menlo,'DejaVu Sans Mono',consolas,'Courier New',monospace\"><span style=\"font-weight: bold\">Model: \"functional_73\"</span>\n",
       "</pre>\n"
      ],
      "text/plain": [
       "\u001b[1mModel: \"functional_73\"\u001b[0m\n"
      ]
     },
     "metadata": {},
     "output_type": "display_data"
    },
    {
     "data": {
      "text/html": [
       "<pre style=\"white-space:pre;overflow-x:auto;line-height:normal;font-family:Menlo,'DejaVu Sans Mono',consolas,'Courier New',monospace\">┏━━━━━━━━━━━━━━━━━━━━━━━━━━━━━━━━━┳━━━━━━━━━━━━━━━━━━━━━━━━┳━━━━━━━━━━━━━━━┓\n",
       "┃<span style=\"font-weight: bold\"> Layer (type)                    </span>┃<span style=\"font-weight: bold\"> Output Shape           </span>┃<span style=\"font-weight: bold\">       Param # </span>┃\n",
       "┡━━━━━━━━━━━━━━━━━━━━━━━━━━━━━━━━━╇━━━━━━━━━━━━━━━━━━━━━━━━╇━━━━━━━━━━━━━━━┩\n",
       "│ input_layer_17 (<span style=\"color: #0087ff; text-decoration-color: #0087ff\">InputLayer</span>)     │ (<span style=\"color: #00d7ff; text-decoration-color: #00d7ff\">None</span>, <span style=\"color: #00af00; text-decoration-color: #00af00\">128</span>, <span style=\"color: #00af00; text-decoration-color: #00af00\">128</span>, <span style=\"color: #00af00; text-decoration-color: #00af00\">3</span>)    │             <span style=\"color: #00af00; text-decoration-color: #00af00\">0</span> │\n",
       "├─────────────────────────────────┼────────────────────────┼───────────────┤\n",
       "│ conv2d_80 (<span style=\"color: #0087ff; text-decoration-color: #0087ff\">Conv2D</span>)              │ (<span style=\"color: #00d7ff; text-decoration-color: #00d7ff\">None</span>, <span style=\"color: #00af00; text-decoration-color: #00af00\">128</span>, <span style=\"color: #00af00; text-decoration-color: #00af00\">128</span>, <span style=\"color: #00af00; text-decoration-color: #00af00\">32</span>)   │           <span style=\"color: #00af00; text-decoration-color: #00af00\">896</span> │\n",
       "├─────────────────────────────────┼────────────────────────┼───────────────┤\n",
       "│ conv2d_81 (<span style=\"color: #0087ff; text-decoration-color: #0087ff\">Conv2D</span>)              │ (<span style=\"color: #00d7ff; text-decoration-color: #00d7ff\">None</span>, <span style=\"color: #00af00; text-decoration-color: #00af00\">128</span>, <span style=\"color: #00af00; text-decoration-color: #00af00\">128</span>, <span style=\"color: #00af00; text-decoration-color: #00af00\">32</span>)   │         <span style=\"color: #00af00; text-decoration-color: #00af00\">9,248</span> │\n",
       "├─────────────────────────────────┼────────────────────────┼───────────────┤\n",
       "│ max_pooling2d_68 (<span style=\"color: #0087ff; text-decoration-color: #0087ff\">MaxPooling2D</span>) │ (<span style=\"color: #00d7ff; text-decoration-color: #00d7ff\">None</span>, <span style=\"color: #00af00; text-decoration-color: #00af00\">64</span>, <span style=\"color: #00af00; text-decoration-color: #00af00\">64</span>, <span style=\"color: #00af00; text-decoration-color: #00af00\">32</span>)     │             <span style=\"color: #00af00; text-decoration-color: #00af00\">0</span> │\n",
       "├─────────────────────────────────┼────────────────────────┼───────────────┤\n",
       "│ conv2d_82 (<span style=\"color: #0087ff; text-decoration-color: #0087ff\">Conv2D</span>)              │ (<span style=\"color: #00d7ff; text-decoration-color: #00d7ff\">None</span>, <span style=\"color: #00af00; text-decoration-color: #00af00\">64</span>, <span style=\"color: #00af00; text-decoration-color: #00af00\">64</span>, <span style=\"color: #00af00; text-decoration-color: #00af00\">32</span>)     │         <span style=\"color: #00af00; text-decoration-color: #00af00\">9,248</span> │\n",
       "├─────────────────────────────────┼────────────────────────┼───────────────┤\n",
       "│ max_pooling2d_69 (<span style=\"color: #0087ff; text-decoration-color: #0087ff\">MaxPooling2D</span>) │ (<span style=\"color: #00d7ff; text-decoration-color: #00d7ff\">None</span>, <span style=\"color: #00af00; text-decoration-color: #00af00\">32</span>, <span style=\"color: #00af00; text-decoration-color: #00af00\">32</span>, <span style=\"color: #00af00; text-decoration-color: #00af00\">32</span>)     │             <span style=\"color: #00af00; text-decoration-color: #00af00\">0</span> │\n",
       "├─────────────────────────────────┼────────────────────────┼───────────────┤\n",
       "│ conv2d_83 (<span style=\"color: #0087ff; text-decoration-color: #0087ff\">Conv2D</span>)              │ (<span style=\"color: #00d7ff; text-decoration-color: #00d7ff\">None</span>, <span style=\"color: #00af00; text-decoration-color: #00af00\">32</span>, <span style=\"color: #00af00; text-decoration-color: #00af00\">32</span>, <span style=\"color: #00af00; text-decoration-color: #00af00\">32</span>)     │         <span style=\"color: #00af00; text-decoration-color: #00af00\">9,248</span> │\n",
       "├─────────────────────────────────┼────────────────────────┼───────────────┤\n",
       "│ max_pooling2d_70 (<span style=\"color: #0087ff; text-decoration-color: #0087ff\">MaxPooling2D</span>) │ (<span style=\"color: #00d7ff; text-decoration-color: #00d7ff\">None</span>, <span style=\"color: #00af00; text-decoration-color: #00af00\">16</span>, <span style=\"color: #00af00; text-decoration-color: #00af00\">16</span>, <span style=\"color: #00af00; text-decoration-color: #00af00\">32</span>)     │             <span style=\"color: #00af00; text-decoration-color: #00af00\">0</span> │\n",
       "├─────────────────────────────────┼────────────────────────┼───────────────┤\n",
       "│ conv2d_84 (<span style=\"color: #0087ff; text-decoration-color: #0087ff\">Conv2D</span>)              │ (<span style=\"color: #00d7ff; text-decoration-color: #00d7ff\">None</span>, <span style=\"color: #00af00; text-decoration-color: #00af00\">16</span>, <span style=\"color: #00af00; text-decoration-color: #00af00\">16</span>, <span style=\"color: #00af00; text-decoration-color: #00af00\">32</span>)     │         <span style=\"color: #00af00; text-decoration-color: #00af00\">9,248</span> │\n",
       "├─────────────────────────────────┼────────────────────────┼───────────────┤\n",
       "│ max_pooling2d_71 (<span style=\"color: #0087ff; text-decoration-color: #0087ff\">MaxPooling2D</span>) │ (<span style=\"color: #00d7ff; text-decoration-color: #00d7ff\">None</span>, <span style=\"color: #00af00; text-decoration-color: #00af00\">8</span>, <span style=\"color: #00af00; text-decoration-color: #00af00\">8</span>, <span style=\"color: #00af00; text-decoration-color: #00af00\">32</span>)       │             <span style=\"color: #00af00; text-decoration-color: #00af00\">0</span> │\n",
       "├─────────────────────────────────┼────────────────────────┼───────────────┤\n",
       "│ flatten_17 (<span style=\"color: #0087ff; text-decoration-color: #0087ff\">Flatten</span>)            │ (<span style=\"color: #00d7ff; text-decoration-color: #00d7ff\">None</span>, <span style=\"color: #00af00; text-decoration-color: #00af00\">2048</span>)           │             <span style=\"color: #00af00; text-decoration-color: #00af00\">0</span> │\n",
       "├─────────────────────────────────┼────────────────────────┼───────────────┤\n",
       "│ dense_51 (<span style=\"color: #0087ff; text-decoration-color: #0087ff\">Dense</span>)                │ (<span style=\"color: #00d7ff; text-decoration-color: #00d7ff\">None</span>, <span style=\"color: #00af00; text-decoration-color: #00af00\">128</span>)            │       <span style=\"color: #00af00; text-decoration-color: #00af00\">262,272</span> │\n",
       "├─────────────────────────────────┼────────────────────────┼───────────────┤\n",
       "│ dense_52 (<span style=\"color: #0087ff; text-decoration-color: #0087ff\">Dense</span>)                │ (<span style=\"color: #00d7ff; text-decoration-color: #00d7ff\">None</span>, <span style=\"color: #00af00; text-decoration-color: #00af00\">128</span>)            │        <span style=\"color: #00af00; text-decoration-color: #00af00\">16,512</span> │\n",
       "├─────────────────────────────────┼────────────────────────┼───────────────┤\n",
       "│ dense_53 (<span style=\"color: #0087ff; text-decoration-color: #0087ff\">Dense</span>)                │ (<span style=\"color: #00d7ff; text-decoration-color: #00d7ff\">None</span>, <span style=\"color: #00af00; text-decoration-color: #00af00\">50</span>)             │         <span style=\"color: #00af00; text-decoration-color: #00af00\">6,450</span> │\n",
       "├─────────────────────────────────┼────────────────────────┼───────────────┤\n",
       "│ out_img (<span style=\"color: #0087ff; text-decoration-color: #0087ff\">GaussianImageLayer</span>)    │ (<span style=\"color: #00d7ff; text-decoration-color: #00d7ff\">None</span>, <span style=\"color: #00af00; text-decoration-color: #00af00\">128</span>, <span style=\"color: #00af00; text-decoration-color: #00af00\">128</span>, <span style=\"color: #00af00; text-decoration-color: #00af00\">1</span>)    │             <span style=\"color: #00af00; text-decoration-color: #00af00\">0</span> │\n",
       "└─────────────────────────────────┴────────────────────────┴───────────────┘\n",
       "</pre>\n"
      ],
      "text/plain": [
       "┏━━━━━━━━━━━━━━━━━━━━━━━━━━━━━━━━━┳━━━━━━━━━━━━━━━━━━━━━━━━┳━━━━━━━━━━━━━━━┓\n",
       "┃\u001b[1m \u001b[0m\u001b[1mLayer (type)                   \u001b[0m\u001b[1m \u001b[0m┃\u001b[1m \u001b[0m\u001b[1mOutput Shape          \u001b[0m\u001b[1m \u001b[0m┃\u001b[1m \u001b[0m\u001b[1m      Param #\u001b[0m\u001b[1m \u001b[0m┃\n",
       "┡━━━━━━━━━━━━━━━━━━━━━━━━━━━━━━━━━╇━━━━━━━━━━━━━━━━━━━━━━━━╇━━━━━━━━━━━━━━━┩\n",
       "│ input_layer_17 (\u001b[38;5;33mInputLayer\u001b[0m)     │ (\u001b[38;5;45mNone\u001b[0m, \u001b[38;5;34m128\u001b[0m, \u001b[38;5;34m128\u001b[0m, \u001b[38;5;34m3\u001b[0m)    │             \u001b[38;5;34m0\u001b[0m │\n",
       "├─────────────────────────────────┼────────────────────────┼───────────────┤\n",
       "│ conv2d_80 (\u001b[38;5;33mConv2D\u001b[0m)              │ (\u001b[38;5;45mNone\u001b[0m, \u001b[38;5;34m128\u001b[0m, \u001b[38;5;34m128\u001b[0m, \u001b[38;5;34m32\u001b[0m)   │           \u001b[38;5;34m896\u001b[0m │\n",
       "├─────────────────────────────────┼────────────────────────┼───────────────┤\n",
       "│ conv2d_81 (\u001b[38;5;33mConv2D\u001b[0m)              │ (\u001b[38;5;45mNone\u001b[0m, \u001b[38;5;34m128\u001b[0m, \u001b[38;5;34m128\u001b[0m, \u001b[38;5;34m32\u001b[0m)   │         \u001b[38;5;34m9,248\u001b[0m │\n",
       "├─────────────────────────────────┼────────────────────────┼───────────────┤\n",
       "│ max_pooling2d_68 (\u001b[38;5;33mMaxPooling2D\u001b[0m) │ (\u001b[38;5;45mNone\u001b[0m, \u001b[38;5;34m64\u001b[0m, \u001b[38;5;34m64\u001b[0m, \u001b[38;5;34m32\u001b[0m)     │             \u001b[38;5;34m0\u001b[0m │\n",
       "├─────────────────────────────────┼────────────────────────┼───────────────┤\n",
       "│ conv2d_82 (\u001b[38;5;33mConv2D\u001b[0m)              │ (\u001b[38;5;45mNone\u001b[0m, \u001b[38;5;34m64\u001b[0m, \u001b[38;5;34m64\u001b[0m, \u001b[38;5;34m32\u001b[0m)     │         \u001b[38;5;34m9,248\u001b[0m │\n",
       "├─────────────────────────────────┼────────────────────────┼───────────────┤\n",
       "│ max_pooling2d_69 (\u001b[38;5;33mMaxPooling2D\u001b[0m) │ (\u001b[38;5;45mNone\u001b[0m, \u001b[38;5;34m32\u001b[0m, \u001b[38;5;34m32\u001b[0m, \u001b[38;5;34m32\u001b[0m)     │             \u001b[38;5;34m0\u001b[0m │\n",
       "├─────────────────────────────────┼────────────────────────┼───────────────┤\n",
       "│ conv2d_83 (\u001b[38;5;33mConv2D\u001b[0m)              │ (\u001b[38;5;45mNone\u001b[0m, \u001b[38;5;34m32\u001b[0m, \u001b[38;5;34m32\u001b[0m, \u001b[38;5;34m32\u001b[0m)     │         \u001b[38;5;34m9,248\u001b[0m │\n",
       "├─────────────────────────────────┼────────────────────────┼───────────────┤\n",
       "│ max_pooling2d_70 (\u001b[38;5;33mMaxPooling2D\u001b[0m) │ (\u001b[38;5;45mNone\u001b[0m, \u001b[38;5;34m16\u001b[0m, \u001b[38;5;34m16\u001b[0m, \u001b[38;5;34m32\u001b[0m)     │             \u001b[38;5;34m0\u001b[0m │\n",
       "├─────────────────────────────────┼────────────────────────┼───────────────┤\n",
       "│ conv2d_84 (\u001b[38;5;33mConv2D\u001b[0m)              │ (\u001b[38;5;45mNone\u001b[0m, \u001b[38;5;34m16\u001b[0m, \u001b[38;5;34m16\u001b[0m, \u001b[38;5;34m32\u001b[0m)     │         \u001b[38;5;34m9,248\u001b[0m │\n",
       "├─────────────────────────────────┼────────────────────────┼───────────────┤\n",
       "│ max_pooling2d_71 (\u001b[38;5;33mMaxPooling2D\u001b[0m) │ (\u001b[38;5;45mNone\u001b[0m, \u001b[38;5;34m8\u001b[0m, \u001b[38;5;34m8\u001b[0m, \u001b[38;5;34m32\u001b[0m)       │             \u001b[38;5;34m0\u001b[0m │\n",
       "├─────────────────────────────────┼────────────────────────┼───────────────┤\n",
       "│ flatten_17 (\u001b[38;5;33mFlatten\u001b[0m)            │ (\u001b[38;5;45mNone\u001b[0m, \u001b[38;5;34m2048\u001b[0m)           │             \u001b[38;5;34m0\u001b[0m │\n",
       "├─────────────────────────────────┼────────────────────────┼───────────────┤\n",
       "│ dense_51 (\u001b[38;5;33mDense\u001b[0m)                │ (\u001b[38;5;45mNone\u001b[0m, \u001b[38;5;34m128\u001b[0m)            │       \u001b[38;5;34m262,272\u001b[0m │\n",
       "├─────────────────────────────────┼────────────────────────┼───────────────┤\n",
       "│ dense_52 (\u001b[38;5;33mDense\u001b[0m)                │ (\u001b[38;5;45mNone\u001b[0m, \u001b[38;5;34m128\u001b[0m)            │        \u001b[38;5;34m16,512\u001b[0m │\n",
       "├─────────────────────────────────┼────────────────────────┼───────────────┤\n",
       "│ dense_53 (\u001b[38;5;33mDense\u001b[0m)                │ (\u001b[38;5;45mNone\u001b[0m, \u001b[38;5;34m50\u001b[0m)             │         \u001b[38;5;34m6,450\u001b[0m │\n",
       "├─────────────────────────────────┼────────────────────────┼───────────────┤\n",
       "│ out_img (\u001b[38;5;33mGaussianImageLayer\u001b[0m)    │ (\u001b[38;5;45mNone\u001b[0m, \u001b[38;5;34m128\u001b[0m, \u001b[38;5;34m128\u001b[0m, \u001b[38;5;34m1\u001b[0m)    │             \u001b[38;5;34m0\u001b[0m │\n",
       "└─────────────────────────────────┴────────────────────────┴───────────────┘\n"
      ]
     },
     "metadata": {},
     "output_type": "display_data"
    },
    {
     "data": {
      "text/html": [
       "<pre style=\"white-space:pre;overflow-x:auto;line-height:normal;font-family:Menlo,'DejaVu Sans Mono',consolas,'Courier New',monospace\"><span style=\"font-weight: bold\"> Total params: </span><span style=\"color: #00af00; text-decoration-color: #00af00\">323,122</span> (1.23 MB)\n",
       "</pre>\n"
      ],
      "text/plain": [
       "\u001b[1m Total params: \u001b[0m\u001b[38;5;34m323,122\u001b[0m (1.23 MB)\n"
      ]
     },
     "metadata": {},
     "output_type": "display_data"
    },
    {
     "data": {
      "text/html": [
       "<pre style=\"white-space:pre;overflow-x:auto;line-height:normal;font-family:Menlo,'DejaVu Sans Mono',consolas,'Courier New',monospace\"><span style=\"font-weight: bold\"> Trainable params: </span><span style=\"color: #00af00; text-decoration-color: #00af00\">323,122</span> (1.23 MB)\n",
       "</pre>\n"
      ],
      "text/plain": [
       "\u001b[1m Trainable params: \u001b[0m\u001b[38;5;34m323,122\u001b[0m (1.23 MB)\n"
      ]
     },
     "metadata": {},
     "output_type": "display_data"
    },
    {
     "data": {
      "text/html": [
       "<pre style=\"white-space:pre;overflow-x:auto;line-height:normal;font-family:Menlo,'DejaVu Sans Mono',consolas,'Courier New',monospace\"><span style=\"font-weight: bold\"> Non-trainable params: </span><span style=\"color: #00af00; text-decoration-color: #00af00\">0</span> (0.00 B)\n",
       "</pre>\n"
      ],
      "text/plain": [
       "\u001b[1m Non-trainable params: \u001b[0m\u001b[38;5;34m0\u001b[0m (0.00 B)\n"
      ]
     },
     "metadata": {},
     "output_type": "display_data"
    }
   ],
   "source": [
    "import tensorflow as tf\n",
    "from tensorflow.keras import layers, models\n",
    "from grav_lens import metrics\n",
    "\n",
    "def create_cnn_model(hyperparams):\n",
    "\t\"\"\"\n",
    "\tFunción para construir un modelo CNN secuencial con hiperparámetros ajustables a través de un diccionario.\n",
    "\t\n",
    "\tParámetros:\n",
    "\t- hyperparams: Diccionario con los hiperparámetros del modelo.\n",
    "\t\n",
    "\tRetorna:\n",
    "\t- Un modelo CNN construido con los hiperparámetros especificados.\n",
    "\t\"\"\"\n",
    "\t\n",
    "\timg_size = hyperparams['img_size']\n",
    "\tNg = hyperparams['Ng']\n",
    "\tnum_conv_layers = hyperparams['num_conv_layers']\n",
    "\tconv_filters = hyperparams['conv_filters']\n",
    "\tkernel_size = hyperparams['kernel_size']\n",
    "\tdense_units = hyperparams['dense_units']\n",
    "\tnum_dense_layers = hyperparams['num_dense_layers']\n",
    "\tactivation = hyperparams['activation']\n",
    "\toutput_activation = hyperparams['output_activation']\n",
    "\tlearning_rate = hyperparams['learning_rate']\n",
    "\t\n",
    "\n",
    "\tinput_layer = tf.keras.layers.Input(shape=(128, 128, 3))\n",
    "\n",
    "\tinitializer = tf.keras.initializers.GlorotNormal()\n",
    "\tx = layers.Conv2D(conv_filters, kernel_size, \n",
    "\t\tactivation=activation, padding='same', kernel_initializer=initializer)(input_layer)\n",
    "\n",
    "\t# Capas convolucionales hidden \n",
    "\tfor _ in range(num_conv_layers):\n",
    "\t\tx = layers.Conv2D(conv_filters*4, kernel_size, \n",
    "\t\t\tactivation=activation, padding='same', kernel_initializer=initializer)(x)\n",
    "\n",
    "\t\tx = layers.MaxPooling2D(pool_size=(2, 2))(x)\n",
    "\t\n",
    "\t\n",
    "\t# Aplanar la salida de las convolucionales\n",
    "\tx = layers.Flatten()(x)\n",
    "\n",
    "\t# Capas densas ocultas\n",
    "\tfor _ in range(num_dense_layers):\n",
    "\t\tx = layers.Dense(dense_units, activation=activation, kernel_initializer=initializer)(x)\n",
    "\t\n",
    "\t# Capa de salida para generar el vector plano\n",
    "\toutput_units = 5 * Ng  # 5 parámetros por cada Gaussiana\n",
    "\tx = layers.Dense(output_units, activation=output_activation, kernel_initializer=initializer)(x)\n",
    "\n",
    "\tout_img = GaussianImageLayer(img_size=128, Ng=Ng, name='out_img')(x)\n",
    "\t\n",
    "\tmodel = tf.keras.models.Model(inputs=input_layer, \n",
    "\t\toutputs=[out_img, out_img] )\n",
    "\n",
    "\toptimizer = tf.keras.optimizers.Adam(learning_rate=learning_rate)\n",
    "\n",
    "\n",
    "\tmodel.compile(optimizer=optimizer, \n",
    "\t\t\t\tloss= ['mse', metrics.WMAPE, 'mae'],\n",
    "\t\t\t\tmetrics={'out_img': [metrics.DICEE, metrics.WMAPE]})\n",
    "\n",
    "\n",
    "\treturn model\n"
   ]
  },
  {
   "cell_type": "markdown",
   "metadata": {},
   "source": [
    "# Crear el modelo"
   ]
  },
  {
   "cell_type": "code",
   "execution_count": null,
   "metadata": {},
   "outputs": [],
   "source": [
    "\n",
    "# Hiperparámetros como un diccionario\n",
    "hyperparams = {\n",
    "\t'img_size': 128,               # Tamaño de la imagen de entrada\n",
    "\t'Ng': 10,                     # Número de Gaussianas (esto afecta el tamaño de salida)\n",
    "\t'num_conv_layers': 4,         # Número de capas convolucionales\n",
    "\t'conv_filters': 32,           # Número de filtros en cada capa convolucional\n",
    "\t'kernel_size': (3, 3),        # Tamaño del kernel\n",
    "\t'dense_units': 128,           # Número de unidades en las capas densas\n",
    "\t'num_dense_layers': 2,        # Número de capas densas\n",
    "\t'activation': 'tanh',         # Función de activación en las capas\n",
    "\t'output_activation': 'sigmoid',    # Sin activación final (los valores pueden ser negativos o positivos)\n",
    "\t'learning_rate': 0.0001        # Tasa de aprendizaje\n",
    "}\n",
    "\n",
    "# Crear el modelo utilizando el diccionario de hiperparámetros\n",
    "cnn_model = create_cnn_model(hyperparams)"
   ]
  },
  {
   "cell_type": "markdown",
   "metadata": {},
   "source": [
    "## Training"
   ]
  },
  {
   "cell_type": "code",
   "execution_count": 101,
   "metadata": {},
   "outputs": [
    {
     "name": "stdout",
     "output_type": "stream",
     "text": [
      "Using data folder: ..\\data\\1\n",
      "Epoch 1/30\n",
      "     17/Unknown \u001b[1m27s\u001b[0m 1s/step - loss: 0.2551 - out_img_dicee: 0.5567 - out_img_wmape: 45.5516"
     ]
    },
    {
     "name": "stderr",
     "output_type": "stream",
     "text": [
      "C:\\Users\\fbien.DESKTOP-6FMEAR7\\Documents\\python\\lib\\contextlib.py:135: UserWarning: Your input ran out of data; interrupting training. Make sure that your dataset or generator can generate at least `steps_per_epoch * epochs` batches. You may need to use the `.repeat()` function when building your dataset.\n",
      "  self.gen.throw(type, value, traceback)\n"
     ]
    },
    {
     "name": "stdout",
     "output_type": "stream",
     "text": [
      "\u001b[1m17/17\u001b[0m \u001b[32m━━━━━━━━━━━━━━━━━━━━\u001b[0m\u001b[37m\u001b[0m \u001b[1m30s\u001b[0m 2s/step - loss: 0.2540 - out_img_dicee: 0.5550 - out_img_wmape: 45.4194 - val_loss: 0.2364 - val_out_img_dicee: 0.4707 - val_out_img_wmape: 41.1738\n",
      "Epoch 2/30\n",
      "\u001b[1m17/17\u001b[0m \u001b[32m━━━━━━━━━━━━━━━━━━━━\u001b[0m\u001b[37m\u001b[0m \u001b[1m28s\u001b[0m 2s/step - loss: 0.2295 - out_img_dicee: 0.5621 - out_img_wmape: 42.4827 - val_loss: 0.2160 - val_out_img_dicee: 0.4760 - val_out_img_wmape: 37.8479\n",
      "Epoch 3/30\n",
      "\u001b[1m17/17\u001b[0m \u001b[32m━━━━━━━━━━━━━━━━━━━━\u001b[0m\u001b[37m\u001b[0m \u001b[1m29s\u001b[0m 2s/step - loss: 0.2104 - out_img_dicee: 0.5675 - out_img_wmape: 39.0988 - val_loss: 0.1994 - val_out_img_dicee: 0.4814 - val_out_img_wmape: 34.9537\n",
      "Epoch 4/30\n",
      "\u001b[1m17/17\u001b[0m \u001b[32m━━━━━━━━━━━━━━━━━━━━\u001b[0m\u001b[37m\u001b[0m \u001b[1m30s\u001b[0m 2s/step - loss: 0.1945 - out_img_dicee: 0.5748 - out_img_wmape: 36.8791 - val_loss: 0.1857 - val_out_img_dicee: 0.4850 - val_out_img_wmape: 32.4138\n",
      "Epoch 5/30\n",
      "\u001b[1m17/17\u001b[0m \u001b[32m━━━━━━━━━━━━━━━━━━━━\u001b[0m\u001b[37m\u001b[0m \u001b[1m29s\u001b[0m 2s/step - loss: 0.1814 - out_img_dicee: 0.5786 - out_img_wmape: 33.2199 - val_loss: 0.1741 - val_out_img_dicee: 0.4883 - val_out_img_wmape: 30.1670\n",
      "Epoch 6/30\n",
      "\u001b[1m17/17\u001b[0m \u001b[32m━━━━━━━━━━━━━━━━━━━━\u001b[0m\u001b[37m\u001b[0m \u001b[1m30s\u001b[0m 2s/step - loss: 0.1706 - out_img_dicee: 0.5836 - out_img_wmape: 30.5262 - val_loss: 0.1643 - val_out_img_dicee: 0.4914 - val_out_img_wmape: 28.1924\n",
      "Epoch 7/30\n",
      "\u001b[1m17/17\u001b[0m \u001b[32m━━━━━━━━━━━━━━━━━━━━\u001b[0m\u001b[37m\u001b[0m \u001b[1m32s\u001b[0m 2s/step - loss: 0.1611 - out_img_dicee: 0.5848 - out_img_wmape: 27.5133 - val_loss: 0.1559 - val_out_img_dicee: 0.4942 - val_out_img_wmape: 26.4166\n",
      "Epoch 8/30\n",
      "\u001b[1m17/17\u001b[0m \u001b[32m━━━━━━━━━━━━━━━━━━━━\u001b[0m\u001b[37m\u001b[0m \u001b[1m34s\u001b[0m 2s/step - loss: 0.1532 - out_img_dicee: 0.5890 - out_img_wmape: 26.6484 - val_loss: 0.1486 - val_out_img_dicee: 0.4970 - val_out_img_wmape: 24.8485\n",
      "Epoch 9/30\n",
      "\u001b[1m17/17\u001b[0m \u001b[32m━━━━━━━━━━━━━━━━━━━━\u001b[0m\u001b[37m\u001b[0m \u001b[1m28s\u001b[0m 2s/step - loss: 0.1462 - out_img_dicee: 0.5942 - out_img_wmape: 27.3689 - val_loss: 0.1422 - val_out_img_dicee: 0.4993 - val_out_img_wmape: 23.4256\n",
      "Epoch 10/30\n",
      "\u001b[1m17/17\u001b[0m \u001b[32m━━━━━━━━━━━━━━━━━━━━\u001b[0m\u001b[37m\u001b[0m \u001b[1m28s\u001b[0m 2s/step - loss: 0.1400 - out_img_dicee: 0.5949 - out_img_wmape: 24.6560 - val_loss: 0.1366 - val_out_img_dicee: 0.5009 - val_out_img_wmape: 22.1929\n",
      "Epoch 11/30\n",
      "\u001b[1m17/17\u001b[0m \u001b[32m━━━━━━━━━━━━━━━━━━━━\u001b[0m\u001b[37m\u001b[0m \u001b[1m29s\u001b[0m 2s/step - loss: 0.1345 - out_img_dicee: 0.5985 - out_img_wmape: 22.3405 - val_loss: 0.1316 - val_out_img_dicee: 0.5028 - val_out_img_wmape: 21.0733\n",
      "Epoch 12/30\n",
      "\u001b[1m17/17\u001b[0m \u001b[32m━━━━━━━━━━━━━━━━━━━━\u001b[0m\u001b[37m\u001b[0m \u001b[1m29s\u001b[0m 2s/step - loss: 0.1298 - out_img_dicee: 0.6036 - out_img_wmape: 22.3258 - val_loss: 0.1272 - val_out_img_dicee: 0.5049 - val_out_img_wmape: 20.0555\n",
      "Epoch 13/30\n",
      "\u001b[1m17/17\u001b[0m \u001b[32m━━━━━━━━━━━━━━━━━━━━\u001b[0m\u001b[37m\u001b[0m \u001b[1m31s\u001b[0m 2s/step - loss: 0.1255 - out_img_dicee: 0.6035 - out_img_wmape: 20.6015 - val_loss: 0.1232 - val_out_img_dicee: 0.5065 - val_out_img_wmape: 19.1462\n",
      "Epoch 14/30\n",
      "\u001b[1m17/17\u001b[0m \u001b[32m━━━━━━━━━━━━━━━━━━━━\u001b[0m\u001b[37m\u001b[0m \u001b[1m31s\u001b[0m 2s/step - loss: 0.1217 - out_img_dicee: 0.6081 - out_img_wmape: 19.8062 - val_loss: 0.1196 - val_out_img_dicee: 0.5082 - val_out_img_wmape: 18.3155\n",
      "Epoch 15/30\n",
      "\u001b[1m17/17\u001b[0m \u001b[32m━━━━━━━━━━━━━━━━━━━━\u001b[0m\u001b[37m\u001b[0m \u001b[1m30s\u001b[0m 2s/step - loss: 0.1181 - out_img_dicee: 0.6060 - out_img_wmape: 19.6365 - val_loss: 0.1164 - val_out_img_dicee: 0.5097 - val_out_img_wmape: 17.5472\n",
      "Epoch 16/30\n",
      "\u001b[1m17/17\u001b[0m \u001b[32m━━━━━━━━━━━━━━━━━━━━\u001b[0m\u001b[37m\u001b[0m \u001b[1m29s\u001b[0m 2s/step - loss: 0.1151 - out_img_dicee: 0.6088 - out_img_wmape: 18.3777 - val_loss: 0.1135 - val_out_img_dicee: 0.5112 - val_out_img_wmape: 16.8704\n",
      "Epoch 17/30\n",
      "\u001b[1m17/17\u001b[0m \u001b[32m━━━━━━━━━━━━━━━━━━━━\u001b[0m\u001b[37m\u001b[0m \u001b[1m27s\u001b[0m 2s/step - loss: 0.1122 - out_img_dicee: 0.6085 - out_img_wmape: 18.7666 - val_loss: 0.1108 - val_out_img_dicee: 0.5124 - val_out_img_wmape: 16.2452\n",
      "Epoch 18/30\n",
      "\u001b[1m17/17\u001b[0m \u001b[32m━━━━━━━━━━━━━━━━━━━━\u001b[0m\u001b[37m\u001b[0m \u001b[1m29s\u001b[0m 2s/step - loss: 0.1096 - out_img_dicee: 0.6128 - out_img_wmape: 15.8943 - val_loss: 0.1084 - val_out_img_dicee: 0.5141 - val_out_img_wmape: 15.6485\n",
      "Epoch 19/30\n",
      "\u001b[1m17/17\u001b[0m \u001b[32m━━━━━━━━━━━━━━━━━━━━\u001b[0m\u001b[37m\u001b[0m \u001b[1m29s\u001b[0m 2s/step - loss: 0.1072 - out_img_dicee: 0.6145 - out_img_wmape: 16.1398 - val_loss: 0.1061 - val_out_img_dicee: 0.5152 - val_out_img_wmape: 15.1018\n",
      "Epoch 20/30\n",
      "\u001b[1m17/17\u001b[0m \u001b[32m━━━━━━━━━━━━━━━━━━━━\u001b[0m\u001b[37m\u001b[0m \u001b[1m33s\u001b[0m 2s/step - loss: 0.1051 - out_img_dicee: 0.6170 - out_img_wmape: 15.6529 - val_loss: 0.1041 - val_out_img_dicee: 0.5161 - val_out_img_wmape: 14.6020\n",
      "Epoch 21/30\n",
      "\u001b[1m17/17\u001b[0m \u001b[32m━━━━━━━━━━━━━━━━━━━━\u001b[0m\u001b[37m\u001b[0m \u001b[1m30s\u001b[0m 2s/step - loss: 0.1031 - out_img_dicee: 0.6187 - out_img_wmape: 14.9135 - val_loss: 0.1022 - val_out_img_dicee: 0.5169 - val_out_img_wmape: 14.1292\n",
      "Epoch 22/30\n",
      "\u001b[1m10/17\u001b[0m \u001b[32m━━━━━━━━━━━\u001b[0m\u001b[37m━━━━━━━━━\u001b[0m \u001b[1m10s\u001b[0m 1s/step - loss: 0.1018 - out_img_dicee: 0.6226 - out_img_wmape: 13.3047"
     ]
    }
   ],
   "source": [
    "\n",
    "history = cnn_model.fit(train_dataset, validation_data=val_dataset, epochs=30, verbose=True)\n"
   ]
  },
  {
   "cell_type": "code",
   "execution_count": null,
   "metadata": {},
   "outputs": [],
   "source": [
    "plot_history(history)"
   ]
  },
  {
   "cell_type": "code",
   "execution_count": null,
   "metadata": {},
   "outputs": [],
   "source": [
    "test_model_image(cnn_model, test_dataset, outs=2)"
   ]
  }
 ],
 "metadata": {
  "kernelspec": {
   "display_name": "venv",
   "language": "python",
   "name": "python3"
  },
  "language_info": {
   "codemirror_mode": {
    "name": "ipython",
    "version": 3
   },
   "file_extension": ".py",
   "mimetype": "text/x-python",
   "name": "python",
   "nbconvert_exporter": "python",
   "pygments_lexer": "ipython3",
   "version": "3.9.5"
  }
 },
 "nbformat": 4,
 "nbformat_minor": 2
}
