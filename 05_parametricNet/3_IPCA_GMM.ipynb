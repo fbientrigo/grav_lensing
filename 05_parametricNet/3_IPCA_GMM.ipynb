{
 "cells": [
  {
   "cell_type": "markdown",
   "metadata": {},
   "source": [
    "# Together\n",
    "Este notebook se encarga de juntar los algoritmos desarrollados hasta ahora"
   ]
  },
  {
   "cell_type": "code",
   "execution_count": 12,
   "metadata": {},
   "outputs": [],
   "source": [
    "import pickle\n",
    "from utils import CustomScaler, CustomMinMaxScaler\n",
    "\n",
    "# Cargar el IPCA desde un archivo pickle\n",
    "with open('ipca_low.pkl', 'rb') as f:\n",
    "    loaded_ipca = pickle.load(f)\n",
    "\n",
    "# Cargar el IPCA desde un archivo pickle\n",
    "with open('minmaxscaler.pkl', 'rb') as f:\n",
    "    minmaxscaler = pickle.load(f)\n",
    "# Ahora puedes usar loaded_ipca como el objeto IncrementalPCA cargado\n"
   ]
  },
  {
   "cell_type": "code",
   "execution_count": 3,
   "metadata": {},
   "outputs": [
    {
     "name": "stdout",
     "output_type": "stream",
     "text": [
      "Using data folder: ..\\data\\1\n",
      "(16, 128, 128, 3)\n",
      "(16, 128, 128, 1)\n"
     ]
    }
   ],
   "source": [
    "import tensorflow as tf\n",
    "import numpy as np\n",
    "import matplotlib.pyplot as plt\n",
    "\n",
    "from grav_lens import get_datasets\n",
    "\n",
    "import os\n",
    "\n",
    "max_files = 1000\n",
    "batch_size = 16\n",
    "home_data = os.path.join(\"..\",\"data\")\n",
    "\n",
    "train_dataset, val_dataset, test_dataset = get_datasets(\n",
    "    data_index=1,\n",
    "    max_files=max_files,\n",
    "    home=home_data,\n",
    "    batch_size=batch_size,\n",
    "    val_split=0.2,\n",
    "    test_split=0.1,\n",
    ")\n",
    "\n",
    "for X_batch, y_batch in train_dataset.take(1):\n",
    "    print(X_batch.shape)\n",
    "    print(y_batch.shape)"
   ]
  },
  {
   "cell_type": "code",
   "execution_count": 7,
   "metadata": {},
   "outputs": [],
   "source": [
    "y_standarized = (y_batch - mean) / std"
   ]
  },
  {
   "cell_type": "code",
   "execution_count": 8,
   "metadata": {},
   "outputs": [
    {
     "name": "stdout",
     "output_type": "stream",
     "text": [
      "Mean after standardization: -2595.1016\n",
      "Std after standardization: 28356.662\n"
     ]
    }
   ],
   "source": [
    "mean_batch = tf.reduce_mean(y_standarized)\n",
    "std_batch = tf.math.reduce_std(y_standarized)\n",
    "\n",
    "print(\"Mean after standardization:\", mean_batch.numpy())\n",
    "print(\"Std after standardization:\", std_batch.numpy())"
   ]
  },
  {
   "cell_type": "code",
   "execution_count": 10,
   "metadata": {},
   "outputs": [
    {
     "name": "stdout",
     "output_type": "stream",
     "text": [
      "Mean: -0.002720423\n",
      "Std: 0.034414835\n"
     ]
    }
   ],
   "source": [
    "mean_batch = tf.reduce_mean(y_batch)\n",
    "std_batch = tf.math.reduce_std(y_batch)\n",
    "\n",
    "print(\"Mean:\", mean_batch.numpy())\n",
    "print(\"Std:\", std_batch.numpy())"
   ]
  },
  {
   "cell_type": "code",
   "execution_count": 14,
   "metadata": {},
   "outputs": [
    {
     "name": "stdout",
     "output_type": "stream",
     "text": [
      "Mean after standardization: -0.09035119\n",
      "Std after standardization: 0.9488874\n"
     ]
    }
   ],
   "source": [
    "y_standard_scaler = standard_scaler.transform(y_batch)\n",
    "\n",
    "mean_batch = tf.reduce_mean(y_standard_scaler)\n",
    "std_batch = tf.math.reduce_std(y_standard_scaler)\n",
    "\n",
    "print(\"Mean after standardization:\", mean_batch.numpy())\n",
    "print(\"Std after standardization:\", std_batch.numpy())"
   ]
  },
  {
   "cell_type": "code",
   "execution_count": null,
   "metadata": {},
   "outputs": [],
   "source": []
  },
  {
   "cell_type": "code",
   "execution_count": null,
   "metadata": {},
   "outputs": [],
   "source": [
    "class ExponentialWeightedStats:\n",
    "    def __init__(self, alpha):\n",
    "        self.alpha = alpha\n",
    "        self.mu = 0\n",
    "        self.S = 0\n",
    "        self.initialized = False\n",
    "\n",
    "    def update(self, x):\n",
    "        if not self.initialized:\n",
    "            self.mu = x\n",
    "            self.S = 0\n",
    "            self.initialized = True\n",
    "        else:\n",
    "            temp = x - self.mu\n",
    "            new_mu = self.mu + self.alpha * temp\n",
    "            self.S = self.alpha * self.S + (1 - self.alpha) * temp * (x - self.mu)\n",
    "            self.mu = new_mu\n",
    "\n",
    "    @property\n",
    "    def mean(self):\n",
    "        return self.mu\n",
    "\n",
    "    @property\n",
    "    def variance(self):\n",
    "        return self.S\n",
    "\n",
    "# Usage example\n",
    "alpha = 0.05  # Weight factor\n",
    "stats = ExponentialWeightedStats(alpha)\n",
    "data_stream = [] # Data stream\n",
    "for data_point in data_stream:\n",
    "    stats.update(data_point)"
   ]
  }
 ],
 "metadata": {
  "kernelspec": {
   "display_name": "venv",
   "language": "python",
   "name": "python3"
  },
  "language_info": {
   "codemirror_mode": {
    "name": "ipython",
    "version": 3
   },
   "file_extension": ".py",
   "mimetype": "text/x-python",
   "name": "python",
   "nbconvert_exporter": "python",
   "pygments_lexer": "ipython3",
   "version": "3.10.3"
  }
 },
 "nbformat": 4,
 "nbformat_minor": 2
}
