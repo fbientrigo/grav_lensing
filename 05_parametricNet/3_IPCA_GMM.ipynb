{
 "cells": [
  {
   "cell_type": "markdown",
   "metadata": {},
   "source": [
    "# Together\n",
    "Este notebook se encarga de juntar los algoritmos desarrollados hasta ahora"
   ]
  },
  {
   "cell_type": "code",
   "execution_count": 4,
   "metadata": {},
   "outputs": [
    {
     "name": "stdout",
     "output_type": "stream",
     "text": [
      "Mean: 0.0004291016057409468\n",
      "Standard Deviation: 1.2136419578062354e-06\n"
     ]
    }
   ],
   "source": [
    "import json\n",
    "\n",
    "# Cargar el archivo JSON\n",
    "with open('statistics.json', 'r') as file:\n",
    "    data = json.load(file)\n",
    "\n",
    "# Extraer las variables\n",
    "mean = data['mean']\n",
    "std = data['std']\n",
    "\n",
    "# Imprimir las variables\n",
    "print(\"Mean:\", mean)\n",
    "print(\"Standard Deviation:\", std)\n"
   ]
  },
  {
   "cell_type": "code",
   "execution_count": 5,
   "metadata": {},
   "outputs": [],
   "source": [
    "import pickle\n",
    "\n",
    "# Cargar el IPCA desde un archivo pickle\n",
    "with open('ipca_model.pkl', 'rb') as f:\n",
    "    loaded_ipca = pickle.load(f)\n",
    "\n",
    "# Ahora puedes usar loaded_ipca como el objeto IncrementalPCA cargado\n"
   ]
  }
 ],
 "metadata": {
  "kernelspec": {
   "display_name": "venv",
   "language": "python",
   "name": "python3"
  },
  "language_info": {
   "codemirror_mode": {
    "name": "ipython",
    "version": 3
   },
   "file_extension": ".py",
   "mimetype": "text/x-python",
   "name": "python",
   "nbconvert_exporter": "python",
   "pygments_lexer": "ipython3",
   "version": "3.10.12"
  }
 },
 "nbformat": 4,
 "nbformat_minor": 2
}
