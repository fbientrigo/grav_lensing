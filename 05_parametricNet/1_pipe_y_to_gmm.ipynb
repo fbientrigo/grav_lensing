{
 "cells": [
  {
   "cell_type": "code",
   "execution_count": 1,
   "metadata": {},
   "outputs": [],
   "source": [
    "import matplotlib.pyplot as plt\n",
    "import numpy as np\n",
    "\n",
    "import os\n",
    "\n",
    "import tensorflow as tf\n",
    "import numpy as np\n",
    "import matplotlib.pyplot as plt"
   ]
  },
  {
   "cell_type": "code",
   "execution_count": 2,
   "metadata": {},
   "outputs": [],
   "source": [
    "from grav_lens import get_datasets\n",
    "from grav_lens.models import test_model_image"
   ]
  },
  {
   "cell_type": "code",
   "execution_count": 3,
   "metadata": {},
   "outputs": [
    {
     "name": "stdout",
     "output_type": "stream",
     "text": [
      "Using data folder: ..\\data\\1\n"
     ]
    }
   ],
   "source": [
    "from os.path import join\n",
    "home_data = join(\"..\", \"data\")\n",
    "max_files = 1000\n",
    "batch_size = 16\n",
    "\n",
    "train_dataset, val_dataset, test_dataset = get_datasets(data_index='1', max_files=max_files,\n",
    "    home=home_data)"
   ]
  },
  {
   "cell_type": "code",
   "execution_count": 6,
   "metadata": {},
   "outputs": [
    {
     "name": "stdout",
     "output_type": "stream",
     "text": [
      "Scaled batch: (32, 128, 128, 1)\n",
      "Original batch: (32, 128, 128, 1)\n"
     ]
    }
   ],
   "source": [
    "from utils import CustomScaler\n",
    "\n",
    "# --- Ejemplo de uso del CustomScaler ---\n",
    "scaler = CustomScaler()\n",
    "\n",
    "# Ajustar el scaler a los datos de entrenamiento\n",
    "scaler.fit_scaler(train_dataset)\n",
    "\n",
    "# Normalizar un batch de datos\n",
    "for X_batch, y_batch in train_dataset.take(1):\n",
    "    y_batch_scaled = scaler.transform(y_batch)\n",
    "    print(\"Scaled batch:\", y_batch_scaled.shape)\n",
    "\n",
    "# Desescalar para volver a los valores originales\n",
    "y_batch_original = scaler.inverse_transform(y_batch_scaled)\n",
    "print(\"Original batch:\", y_batch_original.shape)\n",
    "\n",
    "train_dataset.map()\n"
   ]
  },
  {
   "cell_type": "code",
   "execution_count": null,
   "metadata": {},
   "outputs": [],
   "source": []
  },
  {
   "cell_type": "code",
   "execution_count": 7,
   "metadata": {},
   "outputs": [],
   "source": [
    "# Ajustar el scaler a los datos de entrenamiento\n",
    "scaler.fit_scaler(train_dataset)\n",
    "# Guardar el scaler ajustado\n",
    "scaler.save_scaler('scaler.pkl')\n",
    "\n",
    "# Cargar el scaler cuando lo necesites\n",
    "scaler.load_scaler('scaler.pkl')"
   ]
  },
  {
   "cell_type": "code",
   "execution_count": null,
   "metadata": {},
   "outputs": [],
   "source": []
  },
  {
   "cell_type": "code",
   "execution_count": 11,
   "metadata": {},
   "outputs": [
    {
     "ename": "AttributeError",
     "evalue": "'_PrefetchDataset' object has no attribute 'numpy'",
     "output_type": "error",
     "traceback": [
      "\u001b[1;31m---------------------------------------------------------------------------\u001b[0m",
      "\u001b[1;31mAttributeError\u001b[0m                            Traceback (most recent call last)",
      "Cell \u001b[1;32mIn[11], line 1\u001b[0m\n\u001b[1;32m----> 1\u001b[0m \u001b[43mscaler\u001b[49m\u001b[38;5;241;43m.\u001b[39;49m\u001b[43mtransform\u001b[49m\u001b[43m(\u001b[49m\u001b[43mtrain_dataset\u001b[49m\u001b[43m)\u001b[49m\n",
      "File \u001b[1;32mc:\\Users\\fbien.DESKTOP-6FMEAR7\\Desktop\\grav_lensing\\05_parametricNet\\utils\\scaler.py:34\u001b[0m, in \u001b[0;36mCustomScaler.transform\u001b[1;34m(self, y_batch)\u001b[0m\n\u001b[0;32m     24\u001b[0m \u001b[38;5;28;01mdef\u001b[39;00m \u001b[38;5;21mtransform\u001b[39m(\u001b[38;5;28mself\u001b[39m, y_batch):\n\u001b[0;32m     25\u001b[0m \u001b[38;5;250m    \u001b[39m\u001b[38;5;124;03m\"\"\"\u001b[39;00m\n\u001b[0;32m     26\u001b[0m \u001b[38;5;124;03m    Función para normalizar un batch de datos usando el scaler ajustado.\u001b[39;00m\n\u001b[0;32m     27\u001b[0m \u001b[38;5;124;03m    \u001b[39;00m\n\u001b[1;32m   (...)\u001b[0m\n\u001b[0;32m     32\u001b[0m \u001b[38;5;124;03m    - El batch normalizado.\u001b[39;00m\n\u001b[0;32m     33\u001b[0m \u001b[38;5;124;03m    \"\"\"\u001b[39;00m\n\u001b[1;32m---> 34\u001b[0m     y_batch_flat \u001b[38;5;241m=\u001b[39m \u001b[43my_batch\u001b[49m\u001b[38;5;241;43m.\u001b[39;49m\u001b[43mnumpy\u001b[49m()\u001b[38;5;241m.\u001b[39mreshape(\u001b[38;5;241m-\u001b[39m\u001b[38;5;241m1\u001b[39m, \u001b[38;5;241m1\u001b[39m)  \u001b[38;5;66;03m# Aplanar\u001b[39;00m\n\u001b[0;32m     35\u001b[0m     y_batch_scaled \u001b[38;5;241m=\u001b[39m \u001b[38;5;28mself\u001b[39m\u001b[38;5;241m.\u001b[39mscaler\u001b[38;5;241m.\u001b[39mtransform(y_batch_flat)  \u001b[38;5;66;03m# Escalar\u001b[39;00m\n\u001b[0;32m     36\u001b[0m     y_batch_scaled \u001b[38;5;241m=\u001b[39m y_batch_scaled\u001b[38;5;241m.\u001b[39mreshape(y_batch\u001b[38;5;241m.\u001b[39mshape)  \u001b[38;5;66;03m# Volver a la forma original\u001b[39;00m\n",
      "\u001b[1;31mAttributeError\u001b[0m: '_PrefetchDataset' object has no attribute 'numpy'"
     ]
    }
   ],
   "source": [
    "scaler.transform(train_dataset)"
   ]
  },
  {
   "cell_type": "code",
   "execution_count": null,
   "metadata": {},
   "outputs": [],
   "source": [
    "# Función para aplicar el pipeline a cada imagen en el dataset\n",
    "def process_dataset_pipeline(dataset, threshold_factor=1, n_gaussians=5, threshold_value=2.0):\n",
    "    processed_results = []\n",
    "    \n",
    "    for X_batch, y_batch in dataset:\n",
    "        # Asegurarse de que y_batch tiene la forma (batch, 128, 128, 1)\n",
    "        for i in range(y_batch.shape[0]):  # Iterar sobre el batch\n",
    "            image = y_batch[i, :, :, 0]  # Extraer una imagen 2D (128, 128)\n",
    "            \n",
    "            # Ejecutar el pipeline de procesamiento\n",
    "            result = process_image_pipeline(image, threshold_factor, n_gaussians, threshold_value)\n",
    "            \n",
    "            # Almacenar el resultado\n",
    "            processed_results.append(result)\n",
    "    \n",
    "    return processed_results\n",
    "\n",
    "# Aplicar la pipeline al dataset normalizado\n",
    "processed_train = process_dataset_pipeline(train_dataset_scaled, threshold_factor=1, n_gaussians=5, threshold_value=2.0)\n",
    "\n",
    "# Puedes hacer lo mismo para val_dataset_scaled y test_dataset_scaled\n"
   ]
  },
  {
   "cell_type": "code",
   "execution_count": null,
   "metadata": {},
   "outputs": [],
   "source": [
    "# Visualizar la imagen original y filtrada de un ejemplo\n",
    "import matplotlib.pyplot as plt\n",
    "\n",
    "def visualize_results(result, original_image):\n",
    "    plt.figure(figsize=(12, 5))\n",
    "\n",
    "    # Imagen original\n",
    "    plt.subplot(1, 3, 1)\n",
    "    plt.imshow(original_image, cmap='viridis')\n",
    "    plt.title(\"Imagen original\")\n",
    "    plt.colorbar()\n",
    "\n",
    "    # Imagen filtrada\n",
    "    plt.subplot(1, 3, 2)\n",
    "    plt.imshow(result['filtered_image'].numpy(), cmap='viridis')\n",
    "    plt.title(\"Imagen filtrada (FFT)\")\n",
    "    plt.colorbar()\n",
    "\n",
    "    # Imagen con thresholding\n",
    "    plt.subplot(1, 3, 3)\n",
    "    plt.imshow(result['thresholded_image'].numpy(), cmap='viridis')\n",
    "    plt.title(\"Imagen con threshold\")\n",
    "    plt.colorbar()\n",
    "\n",
    "    plt.show()\n",
    "\n",
    "# Ejemplo con un resultado del train dataset\n",
    "example_result = processed_train[0]\n",
    "original_image = y_batch[0, :, :, 0].numpy()  # Asegúrate de tener la imagen original\n",
    "visualize_results(example_result, original_image)\n"
   ]
  },
  {
   "cell_type": "code",
   "execution_count": null,
   "metadata": {},
   "outputs": [],
   "source": []
  }
 ],
 "metadata": {
  "kernelspec": {
   "display_name": "venv",
   "language": "python",
   "name": "python3"
  },
  "language_info": {
   "codemirror_mode": {
    "name": "ipython",
    "version": 3
   },
   "file_extension": ".py",
   "mimetype": "text/x-python",
   "name": "python",
   "nbconvert_exporter": "python",
   "pygments_lexer": "ipython3",
   "version": "3.10.12"
  }
 },
 "nbformat": 4,
 "nbformat_minor": 2
}
