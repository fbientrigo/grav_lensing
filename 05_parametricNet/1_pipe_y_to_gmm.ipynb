{
 "cells": [
  {
   "cell_type": "code",
   "execution_count": null,
   "metadata": {},
   "outputs": [
    {
     "name": "stdout",
     "output_type": "stream",
     "text": [
      "WARNING:tensorflow:From c:\\Users\\fbien.DESKTOP-6FMEAR7\\Desktop\\grav_lensing\\venv\\lib\\site-packages\\tf_keras\\src\\losses.py:2976: The name tf.losses.sparse_softmax_cross_entropy is deprecated. Please use tf.compat.v1.losses.sparse_softmax_cross_entropy instead.\n",
      "\n",
      "WARNING:tensorflow:From c:\\Users\\fbien.DESKTOP-6FMEAR7\\Desktop\\grav_lensing\\venv\\lib\\site-packages\\tensorflow_probability\\python\\internal\\backend\\numpy\\_utils.py:48: The name tf.logging.TaskLevelStatusMessage is deprecated. Please use tf.compat.v1.logging.TaskLevelStatusMessage instead.\n",
      "\n",
      "WARNING:tensorflow:From c:\\Users\\fbien.DESKTOP-6FMEAR7\\Desktop\\grav_lensing\\venv\\lib\\site-packages\\tensorflow_probability\\python\\internal\\backend\\numpy\\_utils.py:48: The name tf.control_flow_v2_enabled is deprecated. Please use tf.compat.v1.control_flow_v2_enabled instead.\n",
      "\n"
     ]
    }
   ],
   "source": [
    "from grav_lens import get_datasets\n",
    "from grav_lens.models import test_model_image\n",
    "import matplotlib.pyplot as plt\n",
    "import numpy as np\n",
    "\n",
    "import os\n",
    "\n",
    "import tensorflow as tf\n",
    "import numpy as np\n",
    "import matplotlib.pyplot as plt"
   ]
  },
  {
   "cell_type": "code",
   "execution_count": null,
   "metadata": {},
   "outputs": [
    {
     "name": "stdout",
     "output_type": "stream",
     "text": [
      "Using data folder: ..\\data\\1\n"
     ]
    }
   ],
   "source": [
    "from os.path import join\n",
    "home_data = join(\"..\", \"data\")\n",
    "max_files = 1000\n",
    "batch_size = 16\n",
    "\n",
    "train_dataset, val_dataset, test_dataset = get_datasets(data_index='1', max_files=max_files,\n",
    "    home=home_data)\n",
    "\n"
   ]
  },
  {
   "cell_type": "code",
   "execution_count": null,
   "metadata": {},
   "outputs": [],
   "source": [
    "from utils import CustomScaler\n",
    "\n",
    "# --- Ejemplo de uso del CustomScaler ---\n",
    "scaler = CustomScaler()\n",
    "\n",
    "# Ajustar el scaler a los datos de entrenamiento\n",
    "scaler.fit_scaler(train_dataset)\n",
    "\n",
    "# Normalizar un batch de datos\n",
    "for X_batch, y_batch in train_dataset.take(1):\n",
    "    y_batch_scaled = scaler.transform(y_batch)\n",
    "    print(\"Scaled batch:\", y_batch_scaled.shape)\n",
    "\n",
    "# Desescalar para volver a los valores originales\n",
    "y_batch_original = scaler.inverse_transform(y_batch_scaled)\n",
    "print(\"Original batch:\", y_batch_original.shape)\n"
   ]
  },
  {
   "cell_type": "code",
   "execution_count": null,
   "metadata": {},
   "outputs": [],
   "source": [
    "\n",
    "# Ajustar el scaler a los datos de entrenamiento\n",
    "scaler.fit_scaler(train_dataset)\n",
    "# Guardar el scaler ajustado\n",
    "scaler.save_scaler('scaler.pkl')\n",
    "\n",
    "# Cargar el scaler cuando lo necesites\n",
    "scaler.load_scaler('scaler.pkl')"
   ]
  },
  {
   "cell_type": "markdown",
   "metadata": {},
   "source": [
    "## Transformar con la FFT"
   ]
  },
  {
   "cell_type": "code",
   "execution_count": null,
   "metadata": {},
   "outputs": [],
   "source": [
    "import numpy as np\n",
    "import tensorflow as tf\n",
    "import tensorflow_probability as tfp\n",
    "from sklearn.mixture import GaussianMixture\n",
    "\n",
    "# Filtro FFT\n",
    "def fft_filter_image(image, threshold_factor=1):\n",
    "    \"\"\"\n",
    "    Aplica FFT 2D a una imagen, filtra los valores que están por encima del umbral basado en std.\n",
    "    \"\"\"\n",
    "    fft_image = tf.signal.fft2d(tf.cast(image, tf.complex64))\n",
    "    abs_fft_image = tf.abs(fft_image)\n",
    "    \n",
    "    # Calcular estadísticos de la FFT\n",
    "    mean_value = tf.reduce_mean(abs_fft_image)\n",
    "    std_value = tf.math.reduce_std(abs_fft_image)\n",
    "    \n",
    "    # Filtrar los valores por encima del threshold\n",
    "    threshold = mean_value + threshold_factor * std_value\n",
    "    mask = abs_fft_image > threshold\n",
    "    \n",
    "    # Aplicar la máscara y filtrar\n",
    "    filtered_fft = tf.where(mask, fft_image, tf.zeros_like(fft_image))\n",
    "    \n",
    "    # Inversa de FFT para reconstruir la imagen filtrada\n",
    "    filtered_image = tf.signal.ifft2d(filtered_fft)\n",
    "    \n",
    "    # Obtener parte real de la imagen filtrada\n",
    "    return tf.math.real(filtered_image)\n",
    "\n",
    "# Estadísticas de la imagen\n",
    "def calculate_image_stats(image):\n",
    "    mean_value = tf.reduce_mean(image)\n",
    "    std_value = tf.math.reduce_std(image)\n",
    "    return mean_value, std_value\n",
    "\n",
    "# Thresholding\n",
    "def apply_threshold(image, mean, std, threshold=2.0):\n",
    "    \"\"\"\n",
    "    Aplica un threshold a la imagen para eliminar el ruido.\n",
    "    \"\"\"\n",
    "    return tf.where(image > mean + threshold * std, image, tf.zeros_like(image))\n",
    "\n",
    "# Ajuste Gaussian Mixture\n",
    "def fit_gaussian_mixture(image, n_gaussians=5):\n",
    "    \"\"\"\n",
    "    Ajusta un modelo Gaussian Mixture a la imagen.\n",
    "    \"\"\"\n",
    "    # Obtener las coordenadas de los píxeles no cero\n",
    "    x, y_coords = np.indices(image.shape)\n",
    "    x = x.flatten()\n",
    "    y_coords = y_coords.flatten()\n",
    "    intensities = image.flatten()\n",
    "\n",
    "    # Crear los datos para el GMM\n",
    "    data = np.stack((x, y_coords, intensities), axis=1)\n",
    "    \n",
    "    # Ajustar un Gaussian Mixture Model (GMM)\n",
    "    gmm = GaussianMixture(n_components=n_gaussians, covariance_type='full').fit(data)\n",
    "\n",
    "    return gmm, gmm.means_, gmm.covariances_, gmm.weights_\n",
    "\n",
    "# Pipeline para procesar la imagen\n",
    "def process_image_pipeline(image, threshold_factor=1, n_gaussians=5, threshold_value=2.0):\n",
    "    \"\"\"\n",
    "    Ejecuta el pipeline completo: filtro FFT, thresholding, y ajuste de Gaussian Mixture.\n",
    "    \"\"\"\n",
    "    # Paso 1: Filtrar la imagen usando FFT\n",
    "    filtered_image = fft_filter_image(image, threshold_factor)\n",
    "\n",
    "    # Paso 2: Calcular estadísticas de la imagen filtrada\n",
    "    mean_value, std_value = calculate_image_stats(filtered_image)\n",
    "\n",
    "    # Paso 3: Aplicar un threshold para eliminar ruido\n",
    "    image_thresholded = apply_threshold(filtered_image, mean_value, std_value, threshold=threshold_value)\n",
    "\n",
    "    # Paso 4: Ajustar un modelo Gaussian Mixture Model (GMM) a la imagen filtrada y thresholded\n",
    "    gmm, means, covariances, weights = fit_gaussian_mixture(image_thresholded.numpy(), n_gaussians)\n",
    "\n",
    "    return {\n",
    "        'filtered_image': filtered_image,\n",
    "        'thresholded_image': image_thresholded,\n",
    "        'gmm': gmm,\n",
    "        'means': means,\n",
    "        'covariances': covariances,\n",
    "        'weights': weights\n",
    "    }\n"
   ]
  },
  {
   "cell_type": "code",
   "execution_count": null,
   "metadata": {},
   "outputs": [],
   "source": [
    "# Función para aplicar el pipeline a cada imagen en el dataset\n",
    "def process_dataset_pipeline(dataset, threshold_factor=1, n_gaussians=5, threshold_value=2.0):\n",
    "    processed_results = []\n",
    "    \n",
    "    for X_batch, y_batch in dataset:\n",
    "        # Asegurarse de que y_batch tiene la forma (batch, 128, 128, 1)\n",
    "        for i in range(y_batch.shape[0]):  # Iterar sobre el batch\n",
    "            image = y_batch[i, :, :, 0]  # Extraer una imagen 2D (128, 128)\n",
    "            \n",
    "            # Ejecutar el pipeline de procesamiento\n",
    "            result = process_image_pipeline(image, threshold_factor, n_gaussians, threshold_value)\n",
    "            \n",
    "            # Almacenar el resultado\n",
    "            processed_results.append(result)\n",
    "    \n",
    "    return processed_results\n",
    "\n",
    "# Aplicar la pipeline al dataset normalizado\n",
    "processed_train = process_dataset_pipeline(train_dataset_scaled, threshold_factor=1, n_gaussians=5, threshold_value=2.0)\n",
    "\n",
    "# Puedes hacer lo mismo para val_dataset_scaled y test_dataset_scaled\n"
   ]
  },
  {
   "cell_type": "code",
   "execution_count": null,
   "metadata": {},
   "outputs": [],
   "source": [
    "# Visualizar la imagen original y filtrada de un ejemplo\n",
    "import matplotlib.pyplot as plt\n",
    "\n",
    "def visualize_results(result, original_image):\n",
    "    plt.figure(figsize=(12, 5))\n",
    "\n",
    "    # Imagen original\n",
    "    plt.subplot(1, 3, 1)\n",
    "    plt.imshow(original_image, cmap='viridis')\n",
    "    plt.title(\"Imagen original\")\n",
    "    plt.colorbar()\n",
    "\n",
    "    # Imagen filtrada\n",
    "    plt.subplot(1, 3, 2)\n",
    "    plt.imshow(result['filtered_image'].numpy(), cmap='viridis')\n",
    "    plt.title(\"Imagen filtrada (FFT)\")\n",
    "    plt.colorbar()\n",
    "\n",
    "    # Imagen con thresholding\n",
    "    plt.subplot(1, 3, 3)\n",
    "    plt.imshow(result['thresholded_image'].numpy(), cmap='viridis')\n",
    "    plt.title(\"Imagen con threshold\")\n",
    "    plt.colorbar()\n",
    "\n",
    "    plt.show()\n",
    "\n",
    "# Ejemplo con un resultado del train dataset\n",
    "example_result = processed_train[0]\n",
    "original_image = y_batch[0, :, :, 0].numpy()  # Asegúrate de tener la imagen original\n",
    "visualize_results(example_result, original_image)\n"
   ]
  },
  {
   "cell_type": "code",
   "execution_count": null,
   "metadata": {},
   "outputs": [],
   "source": []
  }
 ],
 "metadata": {
  "kernelspec": {
   "display_name": "venv",
   "language": "python",
   "name": "python3"
  },
  "language_info": {
   "codemirror_mode": {
    "name": "ipython",
    "version": 3
   },
   "file_extension": ".py",
   "mimetype": "text/x-python",
   "name": "python",
   "nbconvert_exporter": "python",
   "pygments_lexer": "ipython3",
   "version": "3.9.5"
  }
 },
 "nbformat": 4,
 "nbformat_minor": 2
}
