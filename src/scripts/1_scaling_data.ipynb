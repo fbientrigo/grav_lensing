{
 "cells": [
  {
   "cell_type": "markdown",
   "metadata": {},
   "source": [
    "# Scaling\n",
    "Funciona como una herramienta para generar un escalado de datos, eventualmente es capaz de generar objetos .pkl los que pueden ser almacenados por la libraria\n",
    "\n",
    "- CustomMinMaxScaler"
   ]
  },
  {
   "cell_type": "code",
   "execution_count": 12,
   "metadata": {},
   "outputs": [],
   "source": [
    "import matplotlib.pyplot as plt\n",
    "import numpy as np\n",
    "import pickle\n",
    "import os\n",
    "\n",
    "import tensorflow as tf\n",
    "import numpy as np\n",
    "import matplotlib.pyplot as plt\n",
    "\n",
    "from grav_lens import get_datasets\n",
    "from grav_lens.models import test_model_image"
   ]
  },
  {
   "cell_type": "code",
   "execution_count": 2,
   "metadata": {},
   "outputs": [],
   "source": [
    "from grav_lens.models import CustomMinMaxScaler\n",
    "\n",
    "minmaxscaler = CustomMinMaxScaler(feature_range=(0, 1), clip=True)\n"
   ]
  },
  {
   "cell_type": "code",
   "execution_count": 4,
   "metadata": {},
   "outputs": [
    {
     "name": "stdout",
     "output_type": "stream",
     "text": [
      "Using data folder: ..\\..\\data\\1\n"
     ]
    }
   ],
   "source": [
    "from os.path import join\n",
    "home_data = join(\"..\",\"..\",\"data\")\n",
    "max_files = -1\n",
    "batch_size = 64\n",
    "\n",
    "train_dataset, val_dataset, test_dataset = get_datasets(data_index='1', max_files=max_files,\n",
    "    home=home_data)"
   ]
  },
  {
   "cell_type": "markdown",
   "metadata": {},
   "source": [
    "### comprobación de Sanidad"
   ]
  },
  {
   "cell_type": "code",
   "execution_count": 5,
   "metadata": {},
   "outputs": [
    {
     "name": "stdout",
     "output_type": "stream",
     "text": [
      "Scaled batch: (32, 128, 128, 1)\n",
      "Original batch: (32, 128, 128, 1)\n"
     ]
    }
   ],
   "source": [
    "# Testing con un batch\n",
    "minmaxscaler.fit_scaler(train_dataset.take(1))\n",
    "\n",
    "# Normalizar un batch de datos\n",
    "for X_batch, y_batch in train_dataset.take(1):\n",
    "    y_batch_scaled = minmaxscaler.transform(y_batch)\n",
    "    print(\"Scaled batch:\", y_batch_scaled.shape)\n",
    "\n",
    "# Desescalar para volver a los valores originales\n",
    "y_batch_original = minmaxscaler.inverse_transform(y_batch_scaled.numpy())\n",
    "print(\"Original batch:\", y_batch_original.shape)\n",
    "\n",
    "assert y_batch_original.shape == y_batch_scaled.shape"
   ]
  },
  {
   "cell_type": "markdown",
   "metadata": {},
   "source": [
    "### Entrenar"
   ]
  },
  {
   "cell_type": "code",
   "execution_count": 6,
   "metadata": {},
   "outputs": [],
   "source": [
    "\n",
    "# Ajustar el scaler a los datos de entrenamiento\n",
    "minmaxscaler.fit_scaler(train_dataset)"
   ]
  },
  {
   "cell_type": "code",
   "execution_count": 10,
   "metadata": {},
   "outputs": [],
   "source": [
    "minxmax_path = join(\"..\",\"grav_lens\",\"models\",\"minmaxscaler.pkl\")"
   ]
  },
  {
   "cell_type": "markdown",
   "metadata": {},
   "source": [
    "### Guardar"
   ]
  },
  {
   "cell_type": "code",
   "execution_count": null,
   "metadata": {},
   "outputs": [],
   "source": [
    "\n",
    "with open('grav_lens\\models\\minmaxscaler.pkl', 'wb') as f:\n",
    "    pickle.dump(minmaxscaler, f)"
   ]
  },
  {
   "cell_type": "markdown",
   "metadata": {},
   "source": [
    "### Cargar"
   ]
  },
  {
   "cell_type": "code",
   "execution_count": 13,
   "metadata": {},
   "outputs": [],
   "source": [
    "with open(minxmax_path, 'rb') as f:\n",
    "    minmaxscaler = pickle.load(f)"
   ]
  }
 ],
 "metadata": {
  "kernelspec": {
   "display_name": "venv",
   "language": "python",
   "name": "python3"
  },
  "language_info": {
   "codemirror_mode": {
    "name": "ipython",
    "version": 3
   },
   "file_extension": ".py",
   "mimetype": "text/x-python",
   "name": "python",
   "nbconvert_exporter": "python",
   "pygments_lexer": "ipython3",
   "version": "3.10.12"
  }
 },
 "nbformat": 4,
 "nbformat_minor": 2
}
