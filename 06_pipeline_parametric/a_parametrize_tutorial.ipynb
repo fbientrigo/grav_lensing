{
 "cells": [
  {
   "cell_type": "markdown",
   "metadata": {},
   "source": [
    "# Guia de Entrenamiento Simple\n",
    "Esta guia contiene un modelo algo simple, se muestran las funcioens principales\n",
    "- Existe ademas una versión alternativa a `model.fit` que funciona más manual y no presenta el memory leak de la original\n",
    "- Se muestra como funciona la carga de datos y de sub modelos pre adaptados para escalar correctamente los datos o parametrizarlos\n"
   ]
  },
  {
   "cell_type": "code",
   "execution_count": 1,
   "metadata": {},
   "outputs": [
    {
     "name": "stdout",
     "output_type": "stream",
     "text": [
      "Using data folder: ..\\data\\1\n",
      "(64, 128, 128, 3)\n",
      "(64, 128, 128, 1)\n"
     ]
    }
   ],
   "source": [
    "import tensorflow as tf\n",
    "import numpy as np\n",
    "import matplotlib.pyplot as plt\n",
    "import os\n",
    "import grav_lens.preprocess as gp\n",
    "from grav_lens.utils.statistics import get_stats\n",
    "from grav_lens.preprocess.filtering import process_batch_filters\n",
    "\n",
    "\n",
    "from grav_lens import get_datasets\n",
    "max_files = 2000\n",
    "batch_size = 64\n",
    "home_data = os.path.join(\"..\",\"data\")\n",
    "\n",
    "train_dataset, val_dataset, test_dataset = get_datasets(\n",
    "    data_index=1,\n",
    "    max_files=max_files,\n",
    "    home=home_data,\n",
    "    batch_size=batch_size,\n",
    "    val_split=0.2,\n",
    "    test_split=0.1,\n",
    ")\n",
    "\n",
    "for X_batch, y_batch in train_dataset.take(1):\n",
    "    print(X_batch.shape)\n",
    "    print(y_batch.shape)\n",
    "\n"
   ]
  },
  {
   "cell_type": "markdown",
   "metadata": {},
   "source": [
    "### Sobre el funcionamiento del preprocesamiento\n",
    "\n",
    "Escalamiento\n",
    "- Los datos se escalan previamente mediante un modelo MinMaxScaler pre entrenado con los 70000 datos de training, por lo que se requiere de hacer transformaciones inversas a la hora de publicar los resultados\n",
    "\n",
    "Procesamiento parametrico\n",
    "- Primero se separan usando Fourier en frecuencias altas y bajas, con apriximadamente un corte del 5%\n",
    "- Se utilizan modelos PCA para convertir coeficientes de las imagenes de baja frecuencia en coeficientes, osea que son descritos por una superposición de ondas.\n",
    "    Los datos de baja frecuencia demsotrarón tener una varianza más facil de capturar con suma de modos\n",
    "- Se utiliza un GMM (Modelo de Mix de Gaussianas) para los datos de alta frecuencia, representando peaks más concentrados y detallados\n",
    "    Los datos de alta frecuencia son muy distintos para cada modelo"
   ]
  },
  {
   "cell_type": "code",
   "execution_count": 2,
   "metadata": {},
   "outputs": [
    {
     "name": "stdout",
     "output_type": "stream",
     "text": [
      "<grav_lens.models.load_models.CustomMinMaxScaler object at 0x00000251EC522800>\n",
      "IncrementalPCA(batch_size=64, n_components=64)\n"
     ]
    }
   ],
   "source": [
    "from grav_lens.models.load_models import load_minmaxscaler, load_ipca_low\n",
    "# Cargar el MinMaxScaler\n",
    "minmaxscaler = load_minmaxscaler()\n",
    "print(minmaxscaler)\n",
    "# Cargar el modelo IPCA low\n",
    "ipca_low = load_ipca_low()\n",
    "print(ipca_low)\n",
    "\n"
   ]
  },
  {
   "cell_type": "markdown",
   "metadata": {},
   "source": [
    "## Mini tutorial de las funciones más usadas\n",
    "Algunas funciones de utilidad\n",
    "- gp.apply_threshold\n",
    "- gp.gmm_batch_vectors"
   ]
  },
  {
   "cell_type": "code",
   "execution_count": 3,
   "metadata": {},
   "outputs": [],
   "source": [
    "# se puede separar por encima o abjao de un punto de corte\n",
    "batch_positive, batch_negative =   gp.apply_threshold(y_batch, *get_stats(y_batch))"
   ]
  },
  {
   "cell_type": "code",
   "execution_count": 4,
   "metadata": {},
   "outputs": [],
   "source": [
    "# separa en baja y alta frecuencia 5.2 s por batch\n",
    "low_batch, high_batch = process_batch_filters(y_batch)"
   ]
  },
  {
   "cell_type": "markdown",
   "metadata": {},
   "source": [
    "- Los componentes de baja frecuencia son bien aproximados por componentes principales\n",
    "- Los componentes de alta frecuencia son bien aproximados por peaks gaussianos"
   ]
  },
  {
   "cell_type": "code",
   "execution_count": 5,
   "metadata": {},
   "outputs": [
    {
     "name": "stdout",
     "output_type": "stream",
     "text": [
      "\u001b[1;31mSignature:\u001b[0m\n",
      "\u001b[0mgp\u001b[0m\u001b[1;33m.\u001b[0m\u001b[0mgmm_batch_vectors\u001b[0m\u001b[1;33m(\u001b[0m\u001b[1;33m\n",
      "\u001b[0m    \u001b[0mbatch\u001b[0m\u001b[1;33m,\u001b[0m\u001b[1;33m\n",
      "\u001b[0m    \u001b[0mn_gaussians_positive\u001b[0m\u001b[1;33m=\u001b[0m\u001b[1;36m30\u001b[0m\u001b[1;33m,\u001b[0m\u001b[1;33m\n",
      "\u001b[0m    \u001b[0mn_gaussians_negative\u001b[0m\u001b[1;33m=\u001b[0m\u001b[1;36m10\u001b[0m\u001b[1;33m,\u001b[0m\u001b[1;33m\n",
      "\u001b[0m    \u001b[0mthreshold\u001b[0m\u001b[1;33m=\u001b[0m\u001b[1;36m2\u001b[0m\u001b[1;33m,\u001b[0m\u001b[1;33m\n",
      "\u001b[0m    \u001b[0mn_points\u001b[0m\u001b[1;33m=\u001b[0m\u001b[1;36m500\u001b[0m\u001b[1;33m,\u001b[0m\u001b[1;33m\n",
      "\u001b[0m    \u001b[0mscale\u001b[0m\u001b[1;33m=\u001b[0m\u001b[1;36m0.5\u001b[0m\u001b[1;33m,\u001b[0m\u001b[1;33m\n",
      "\u001b[0m    \u001b[0mdensity_threshold\u001b[0m\u001b[1;33m=\u001b[0m\u001b[1;36m0.05\u001b[0m\u001b[1;33m,\u001b[0m\u001b[1;33m\n",
      "\u001b[0m    \u001b[0mdensity_scaling\u001b[0m\u001b[1;33m=\u001b[0m\u001b[1;32mTrue\u001b[0m\u001b[1;33m,\u001b[0m\u001b[1;33m\n",
      "\u001b[0m    \u001b[0mpos_reg_covar\u001b[0m\u001b[1;33m=\u001b[0m\u001b[1;36m1e-06\u001b[0m\u001b[1;33m,\u001b[0m\u001b[1;33m\n",
      "\u001b[0m    \u001b[0mpos_tol\u001b[0m\u001b[1;33m=\u001b[0m\u001b[1;36m0.001\u001b[0m\u001b[1;33m,\u001b[0m\u001b[1;33m\n",
      "\u001b[0m    \u001b[0mneg_reg_covar\u001b[0m\u001b[1;33m=\u001b[0m\u001b[1;36m1e-06\u001b[0m\u001b[1;33m,\u001b[0m\u001b[1;33m\n",
      "\u001b[0m    \u001b[0mneg_tol\u001b[0m\u001b[1;33m=\u001b[0m\u001b[1;36m0.001\u001b[0m\u001b[1;33m,\u001b[0m\u001b[1;33m\n",
      "\u001b[0m\u001b[1;33m)\u001b[0m\u001b[1;33m\u001b[0m\u001b[1;33m\u001b[0m\u001b[0m\n",
      "\u001b[1;31mDocstring:\u001b[0m\n",
      "Aplica modelos de mezclas gaussianas (GMM) a un batch de imágenes escaladas, generando vectores de medias, desviaciones estándar y pesos.\n",
      "Luego, reescala las gaussianas para que correspondan a la resolución original y las ordena por la magnitud de sus pesos.\n",
      "\n",
      "\n",
      "Esta función primero reduce la resolución de las imágenes de entrada, aplica un modelo GMM para extraer las componentes gaussianas\n",
      "positivas y negativas, y finalmente reescala las gaussianas a la resolución original. Se usa para aproximar las distribuciones\n",
      "de alta y baja frecuencia en las imágenes.\n",
      "\n",
      "Parámetros:\n",
      "    batch (numpy.ndarray):  Batch de imágenes a procesar con shape (batch_size, altura, anchura, 1).\n",
      "    n_gaussians_positive (int, opcional):   Número de componentes gaussianas positivas (por defecto 30).\n",
      "    n_gaussians_negative (int, opcional):   Número de componentes gaussianas negativas (por defecto 10).\n",
      "    threshold (float, opcional):    Umbral para separar las frecuencias. Define qué partes de la imagen se consideran \"positivas\" o \"negativas\" (por defecto 2).\n",
      "    n_points (int, opcional):   Número de puntos a generar para el modelo GMM a partir de la imagen umbralizada (por defecto 500).\n",
      "    scale (float, opcional):    Factor de escalado de la imagen para reducir la resolución (por defecto 0.5).\n",
      "    pos_reg_covar (float, opcional):    Regularización aplicada a las covariancias de las gaussianas positivas (por defecto 1e-3).\n",
      "    pos_tol (float, opcional):  Tolerancia para la convergencia del GMM positivo (por defecto 1e-5).\n",
      "    neg_reg_covar (float, opcional):    Regularización aplicada a las covariancias de las gaussianas negativas (por defecto 1e-3).\n",
      "    neg_tol (float, opcional):  Tolerancia para la convergencia del GMM negativo (por defecto 1e-5).\n",
      "\n",
      "Retorna:\n",
      "    numpy.ndarray:  Batch de vectores combinados con shape (batch_size, n_gaussianas, 5). Cada vector tiene el formato \n",
      "                   [mean_x, mean_y, std_x, std_y, weight], donde mean_x y mean_y son las medias de la gaussiana,\n",
      "                   std_x y std_y son las desviaciones estándar, y weight es el peso de la gaussiana.\n",
      "\n",
      "Notas:\n",
      "    - Se aplica un escalado a las imágenes antes de calcular las gaussianas, lo que reduce la cantidad de detalles procesados.\n",
      "    - Después de aplicar GMM, los parámetros gaussianos se reescalan a la resolución original.\n",
      "    - Esta función es útil para capturar tanto las frecuencias altas como bajas de la imagen usando GMM en distintas resoluciones.\n",
      "\n",
      "Ejemplo:\n",
      "    >>> batch = np.random.random((10, 128, 128, 1))\n",
      "    >>> result = gmm_batch_vectors(batch, n_gaussians_positive=20, n_gaussians_negative=5, scale=0.5)\n",
      "    >>> result.shape\n",
      "    (10, 25, 5)\n",
      "\u001b[1;31mFile:\u001b[0m      c:\\users\\fbien.desktop-6fmear7\\desktop\\grav_lensing\\src\\grav_lens\\preprocess\\gmm.py\n",
      "\u001b[1;31mType:\u001b[0m      function"
     ]
    }
   ],
   "source": [
    "gp.gmm_batch_vectors?"
   ]
  },
  {
   "cell_type": "code",
   "execution_count": 6,
   "metadata": {},
   "outputs": [
    {
     "ename": "ValueError",
     "evalue": "all the input array dimensions except for the concatenation axis must match exactly, but along dimension 1, the array at index 0 has size 30 and the array at index 1 has size 10",
     "output_type": "error",
     "traceback": [
      "\u001b[1;31m---------------------------------------------------------------------------\u001b[0m",
      "\u001b[1;31mValueError\u001b[0m                                Traceback (most recent call last)",
      "Cell \u001b[1;32mIn[6], line 5\u001b[0m\n\u001b[0;32m      1\u001b[0m \u001b[38;5;66;03m# 15 s por batch\u001b[39;00m\n\u001b[0;32m      2\u001b[0m \u001b[38;5;66;03m# (batch, 40, 5) \u001b[39;00m\n\u001b[0;32m      3\u001b[0m \u001b[38;5;66;03m# 40 es el total de gaussianas\u001b[39;00m\n\u001b[0;32m      4\u001b[0m \u001b[38;5;66;03m# 5 el vector correspondiente a cada gaussiana\u001b[39;00m\n\u001b[1;32m----> 5\u001b[0m gaussians \u001b[38;5;241m=\u001b[39m \u001b[43mgp\u001b[49m\u001b[38;5;241;43m.\u001b[39;49m\u001b[43mgmm_batch_vectors\u001b[49m\u001b[43m(\u001b[49m\u001b[43mhigh_batch\u001b[49m\u001b[43m)\u001b[49m\n",
      "File \u001b[1;32mc:\\users\\fbien.desktop-6fmear7\\desktop\\grav_lensing\\src\\grav_lens\\preprocess\\gmm.py:415\u001b[0m, in \u001b[0;36mgmm_batch_vectors\u001b[1;34m(batch, n_gaussians_positive, n_gaussians_negative, threshold, n_points, scale, density_threshold, density_scaling, pos_reg_covar, pos_tol, neg_reg_covar, neg_tol)\u001b[0m\n\u001b[0;32m    413\u001b[0m     \u001b[38;5;66;03m# Concatenar los resultados de las gaussianas negativas\u001b[39;00m\n\u001b[0;32m    414\u001b[0m     combined_means \u001b[38;5;241m=\u001b[39m np\u001b[38;5;241m.\u001b[39mvstack([combined_means, means_negative])\n\u001b[1;32m--> 415\u001b[0m     combined_covariances \u001b[38;5;241m=\u001b[39m \u001b[43mnp\u001b[49m\u001b[38;5;241;43m.\u001b[39;49m\u001b[43mvstack\u001b[49m\u001b[43m(\u001b[49m\u001b[43m[\u001b[49m\u001b[43mcombined_covariances\u001b[49m\u001b[43m,\u001b[49m\u001b[43m \u001b[49m\u001b[43mcovariances_negative\u001b[49m\u001b[43m]\u001b[49m\u001b[43m)\u001b[49m\n\u001b[0;32m    416\u001b[0m     combined_weights \u001b[38;5;241m=\u001b[39m np\u001b[38;5;241m.\u001b[39mhstack([combined_weights, weights_negative])\n\u001b[0;32m    418\u001b[0m \u001b[38;5;66;03m# Reescalar las gaussianas a la resolución original ---------------------\u001b[39;00m\n",
      "File \u001b[1;32mc:\\Users\\fbien.DESKTOP-6FMEAR7\\Desktop\\grav_lensing\\venv\\lib\\site-packages\\numpy\\core\\shape_base.py:289\u001b[0m, in \u001b[0;36mvstack\u001b[1;34m(tup, dtype, casting)\u001b[0m\n\u001b[0;32m    287\u001b[0m \u001b[38;5;28;01mif\u001b[39;00m \u001b[38;5;129;01mnot\u001b[39;00m \u001b[38;5;28misinstance\u001b[39m(arrs, \u001b[38;5;28mlist\u001b[39m):\n\u001b[0;32m    288\u001b[0m     arrs \u001b[38;5;241m=\u001b[39m [arrs]\n\u001b[1;32m--> 289\u001b[0m \u001b[38;5;28;01mreturn\u001b[39;00m \u001b[43m_nx\u001b[49m\u001b[38;5;241;43m.\u001b[39;49m\u001b[43mconcatenate\u001b[49m\u001b[43m(\u001b[49m\u001b[43marrs\u001b[49m\u001b[43m,\u001b[49m\u001b[43m \u001b[49m\u001b[38;5;241;43m0\u001b[39;49m\u001b[43m,\u001b[49m\u001b[43m \u001b[49m\u001b[43mdtype\u001b[49m\u001b[38;5;241;43m=\u001b[39;49m\u001b[43mdtype\u001b[49m\u001b[43m,\u001b[49m\u001b[43m \u001b[49m\u001b[43mcasting\u001b[49m\u001b[38;5;241;43m=\u001b[39;49m\u001b[43mcasting\u001b[49m\u001b[43m)\u001b[49m\n",
      "\u001b[1;31mValueError\u001b[0m: all the input array dimensions except for the concatenation axis must match exactly, but along dimension 1, the array at index 0 has size 30 and the array at index 1 has size 10"
     ]
    }
   ],
   "source": [
    "# 15 s por batch\n",
    "# (batch, 40, 5) \n",
    "# 40 es el total de gaussianas\n",
    "# 5 el vector correspondiente a cada gaussiana\n",
    "gaussians = gp.gmm_batch_vectors(high_batch)"
   ]
  },
  {
   "cell_type": "markdown",
   "metadata": {},
   "source": [
    "# El proceso completo\n",
    "De manera que tenemos las dos formas principales de datos\n",
    "- gaussians (batch, 40, 5), con 40 el total de gaussianas, 5 el largo del vector de info: \n",
    "    meanx, meany, stdx, stdy, coef\n",
    "- principal_components (batch, 64), con 64 coeficientes que representan cuanto hay de cada componente\n"
   ]
  },
  {
   "cell_type": "code",
   "execution_count": 38,
   "metadata": {},
   "outputs": [],
   "source": [
    "N_GAUSS = 40"
   ]
  },
  {
   "cell_type": "code",
   "execution_count": 39,
   "metadata": {},
   "outputs": [],
   "source": [
    "def preprocess_ybatch(y_batch, corte=2):\n",
    "    low_batch, high_batch = process_batch_filters(y_batch)\n",
    "\n",
    "    # se agregaron tecnicas de regularización\n",
    "    gaussians = gp.gmm_batch_vectors(high_batch, n_gaussians_positive=N_GAUSS, n_gaussians_negative=0, \n",
    "                                    threshold=corte, n_points=750, scale=0.75, density_threshold=0.01)\n",
    "\n",
    "    low_freq_stack = np.vstack([img.reshape(-1, 128*128) for img in low_batch]) #stack para el pca\n",
    "    principal_components = ipca_low.transform(low_freq_stack)\n",
    "    return [principal_components, gaussians]"
   ]
  },
  {
   "cell_type": "code",
   "execution_count": 40,
   "metadata": {},
   "outputs": [
    {
     "name": "stdout",
     "output_type": "stream",
     "text": [
      "(64, 128, 128, 3)\n",
      "(64, 128, 128, 1)\n"
     ]
    }
   ],
   "source": [
    "for X_batch, y_batch in train_dataset.take(1):\n",
    "    y_batch = minmaxscaler.transform(y_batch) # [0, 1] #escalar los datos\n",
    "\n",
    "    print(X_batch.shape)\n",
    "    print(y_batch.shape)\n",
    "    \n",
    "    y_process = preprocess_ybatch(y_batch, corte=2)\n"
   ]
  },
  {
   "cell_type": "markdown",
   "metadata": {},
   "source": [
    "# Creacion del Modelo\n",
    "Es necesario que se pueda construir parametricamente, con distintas combinaciones\n",
    "- considerar data agumentation con informacion fisica"
   ]
  },
  {
   "cell_type": "code",
   "execution_count": 41,
   "metadata": {},
   "outputs": [
    {
     "data": {
      "text/html": [
       "<pre style=\"white-space:pre;overflow-x:auto;line-height:normal;font-family:Menlo,'DejaVu Sans Mono',consolas,'Courier New',monospace\"><span style=\"font-weight: bold\">Model: \"functional_5\"</span>\n",
       "</pre>\n"
      ],
      "text/plain": [
       "\u001b[1mModel: \"functional_5\"\u001b[0m\n"
      ]
     },
     "metadata": {},
     "output_type": "display_data"
    },
    {
     "data": {
      "text/html": [
       "<pre style=\"white-space:pre;overflow-x:auto;line-height:normal;font-family:Menlo,'DejaVu Sans Mono',consolas,'Courier New',monospace\">┏━━━━━━━━━━━━━━━━━━━━━┳━━━━━━━━━━━━━━━━━━━┳━━━━━━━━━━━━┳━━━━━━━━━━━━━━━━━━━┓\n",
       "┃<span style=\"font-weight: bold\"> Layer (type)        </span>┃<span style=\"font-weight: bold\"> Output Shape      </span>┃<span style=\"font-weight: bold\">    Param # </span>┃<span style=\"font-weight: bold\"> Connected to      </span>┃\n",
       "┡━━━━━━━━━━━━━━━━━━━━━╇━━━━━━━━━━━━━━━━━━━╇━━━━━━━━━━━━╇━━━━━━━━━━━━━━━━━━━┩\n",
       "│ input_layer_5       │ (<span style=\"color: #00d7ff; text-decoration-color: #00d7ff\">None</span>, <span style=\"color: #00af00; text-decoration-color: #00af00\">128</span>, <span style=\"color: #00af00; text-decoration-color: #00af00\">128</span>,  │          <span style=\"color: #00af00; text-decoration-color: #00af00\">0</span> │ -                 │\n",
       "│ (<span style=\"color: #0087ff; text-decoration-color: #0087ff\">InputLayer</span>)        │ <span style=\"color: #00af00; text-decoration-color: #00af00\">3</span>)                │            │                   │\n",
       "├─────────────────────┼───────────────────┼────────────┼───────────────────┤\n",
       "│ conv2d_15 (<span style=\"color: #0087ff; text-decoration-color: #0087ff\">Conv2D</span>)  │ (<span style=\"color: #00d7ff; text-decoration-color: #00d7ff\">None</span>, <span style=\"color: #00af00; text-decoration-color: #00af00\">128</span>, <span style=\"color: #00af00; text-decoration-color: #00af00\">128</span>,  │        <span style=\"color: #00af00; text-decoration-color: #00af00\">896</span> │ input_layer_5[<span style=\"color: #00af00; text-decoration-color: #00af00\">0</span>]… │\n",
       "│                     │ <span style=\"color: #00af00; text-decoration-color: #00af00\">32</span>)               │            │                   │\n",
       "├─────────────────────┼───────────────────┼────────────┼───────────────────┤\n",
       "│ max_pooling2d_15    │ (<span style=\"color: #00d7ff; text-decoration-color: #00d7ff\">None</span>, <span style=\"color: #00af00; text-decoration-color: #00af00\">64</span>, <span style=\"color: #00af00; text-decoration-color: #00af00\">64</span>,    │          <span style=\"color: #00af00; text-decoration-color: #00af00\">0</span> │ conv2d_15[<span style=\"color: #00af00; text-decoration-color: #00af00\">0</span>][<span style=\"color: #00af00; text-decoration-color: #00af00\">0</span>]   │\n",
       "│ (<span style=\"color: #0087ff; text-decoration-color: #0087ff\">MaxPooling2D</span>)      │ <span style=\"color: #00af00; text-decoration-color: #00af00\">32</span>)               │            │                   │\n",
       "├─────────────────────┼───────────────────┼────────────┼───────────────────┤\n",
       "│ conv2d_17 (<span style=\"color: #0087ff; text-decoration-color: #0087ff\">Conv2D</span>)  │ (<span style=\"color: #00d7ff; text-decoration-color: #00d7ff\">None</span>, <span style=\"color: #00af00; text-decoration-color: #00af00\">64</span>, <span style=\"color: #00af00; text-decoration-color: #00af00\">64</span>,    │     <span style=\"color: #00af00; text-decoration-color: #00af00\">51,264</span> │ max_pooling2d_15… │\n",
       "│                     │ <span style=\"color: #00af00; text-decoration-color: #00af00\">64</span>)               │            │                   │\n",
       "├─────────────────────┼───────────────────┼────────────┼───────────────────┤\n",
       "│ max_pooling2d_17    │ (<span style=\"color: #00d7ff; text-decoration-color: #00d7ff\">None</span>, <span style=\"color: #00af00; text-decoration-color: #00af00\">32</span>, <span style=\"color: #00af00; text-decoration-color: #00af00\">32</span>,    │          <span style=\"color: #00af00; text-decoration-color: #00af00\">0</span> │ conv2d_17[<span style=\"color: #00af00; text-decoration-color: #00af00\">0</span>][<span style=\"color: #00af00; text-decoration-color: #00af00\">0</span>]   │\n",
       "│ (<span style=\"color: #0087ff; text-decoration-color: #0087ff\">MaxPooling2D</span>)      │ <span style=\"color: #00af00; text-decoration-color: #00af00\">64</span>)               │            │                   │\n",
       "├─────────────────────┼───────────────────┼────────────┼───────────────────┤\n",
       "│ flatten_11          │ (<span style=\"color: #00d7ff; text-decoration-color: #00d7ff\">None</span>, <span style=\"color: #00af00; text-decoration-color: #00af00\">65536</span>)     │          <span style=\"color: #00af00; text-decoration-color: #00af00\">0</span> │ max_pooling2d_17… │\n",
       "│ (<span style=\"color: #0087ff; text-decoration-color: #0087ff\">Flatten</span>)           │                   │            │                   │\n",
       "├─────────────────────┼───────────────────┼────────────┼───────────────────┤\n",
       "│ dense_11 (<span style=\"color: #0087ff; text-decoration-color: #0087ff\">Dense</span>)    │ (<span style=\"color: #00d7ff; text-decoration-color: #00d7ff\">None</span>, <span style=\"color: #00af00; text-decoration-color: #00af00\">256</span>)       │ <span style=\"color: #00af00; text-decoration-color: #00af00\">16,777,472</span> │ flatten_11[<span style=\"color: #00af00; text-decoration-color: #00af00\">0</span>][<span style=\"color: #00af00; text-decoration-color: #00af00\">0</span>]  │\n",
       "├─────────────────────┼───────────────────┼────────────┼───────────────────┤\n",
       "│ highfreq_output     │ (<span style=\"color: #00d7ff; text-decoration-color: #00d7ff\">None</span>, <span style=\"color: #00af00; text-decoration-color: #00af00\">200</span>)       │     <span style=\"color: #00af00; text-decoration-color: #00af00\">51,400</span> │ dense_11[<span style=\"color: #00af00; text-decoration-color: #00af00\">0</span>][<span style=\"color: #00af00; text-decoration-color: #00af00\">0</span>]    │\n",
       "│ (<span style=\"color: #0087ff; text-decoration-color: #0087ff\">Dense</span>)             │                   │            │                   │\n",
       "├─────────────────────┼───────────────────┼────────────┼───────────────────┤\n",
       "│ conv2d_16 (<span style=\"color: #0087ff; text-decoration-color: #0087ff\">Conv2D</span>)  │ (<span style=\"color: #00d7ff; text-decoration-color: #00d7ff\">None</span>, <span style=\"color: #00af00; text-decoration-color: #00af00\">64</span>, <span style=\"color: #00af00; text-decoration-color: #00af00\">64</span>,    │     <span style=\"color: #00af00; text-decoration-color: #00af00\">18,496</span> │ max_pooling2d_15… │\n",
       "│                     │ <span style=\"color: #00af00; text-decoration-color: #00af00\">64</span>)               │            │                   │\n",
       "├─────────────────────┼───────────────────┼────────────┼───────────────────┤\n",
       "│ reshape_5 (<span style=\"color: #0087ff; text-decoration-color: #0087ff\">Reshape</span>) │ (<span style=\"color: #00d7ff; text-decoration-color: #00d7ff\">None</span>, <span style=\"color: #00af00; text-decoration-color: #00af00\">40</span>, <span style=\"color: #00af00; text-decoration-color: #00af00\">5</span>)     │          <span style=\"color: #00af00; text-decoration-color: #00af00\">0</span> │ highfreq_output[<span style=\"color: #00af00; text-decoration-color: #00af00\">…</span> │\n",
       "├─────────────────────┼───────────────────┼────────────┼───────────────────┤\n",
       "│ max_pooling2d_16    │ (<span style=\"color: #00d7ff; text-decoration-color: #00d7ff\">None</span>, <span style=\"color: #00af00; text-decoration-color: #00af00\">32</span>, <span style=\"color: #00af00; text-decoration-color: #00af00\">32</span>,    │          <span style=\"color: #00af00; text-decoration-color: #00af00\">0</span> │ conv2d_16[<span style=\"color: #00af00; text-decoration-color: #00af00\">0</span>][<span style=\"color: #00af00; text-decoration-color: #00af00\">0</span>]   │\n",
       "│ (<span style=\"color: #0087ff; text-decoration-color: #0087ff\">MaxPooling2D</span>)      │ <span style=\"color: #00af00; text-decoration-color: #00af00\">64</span>)               │            │                   │\n",
       "├─────────────────────┼───────────────────┼────────────┼───────────────────┤\n",
       "│ get_item_14         │ (<span style=\"color: #00d7ff; text-decoration-color: #00d7ff\">None</span>, <span style=\"color: #00af00; text-decoration-color: #00af00\">40</span>)        │          <span style=\"color: #00af00; text-decoration-color: #00af00\">0</span> │ reshape_5[<span style=\"color: #00af00; text-decoration-color: #00af00\">0</span>][<span style=\"color: #00af00; text-decoration-color: #00af00\">0</span>]   │\n",
       "│ (<span style=\"color: #0087ff; text-decoration-color: #0087ff\">GetItem</span>)           │                   │            │                   │\n",
       "├─────────────────────┼───────────────────┼────────────┼───────────────────┤\n",
       "│ flatten_10          │ (<span style=\"color: #00d7ff; text-decoration-color: #00d7ff\">None</span>, <span style=\"color: #00af00; text-decoration-color: #00af00\">65536</span>)     │          <span style=\"color: #00af00; text-decoration-color: #00af00\">0</span> │ max_pooling2d_16… │\n",
       "│ (<span style=\"color: #0087ff; text-decoration-color: #0087ff\">Flatten</span>)           │                   │            │                   │\n",
       "├─────────────────────┼───────────────────┼────────────┼───────────────────┤\n",
       "│ get_item_12         │ (<span style=\"color: #00d7ff; text-decoration-color: #00d7ff\">None</span>, <span style=\"color: #00af00; text-decoration-color: #00af00\">40</span>, <span style=\"color: #00af00; text-decoration-color: #00af00\">2</span>)     │          <span style=\"color: #00af00; text-decoration-color: #00af00\">0</span> │ reshape_5[<span style=\"color: #00af00; text-decoration-color: #00af00\">0</span>][<span style=\"color: #00af00; text-decoration-color: #00af00\">0</span>]   │\n",
       "│ (<span style=\"color: #0087ff; text-decoration-color: #0087ff\">GetItem</span>)           │                   │            │                   │\n",
       "├─────────────────────┼───────────────────┼────────────┼───────────────────┤\n",
       "│ get_item_13         │ (<span style=\"color: #00d7ff; text-decoration-color: #00d7ff\">None</span>, <span style=\"color: #00af00; text-decoration-color: #00af00\">40</span>, <span style=\"color: #00af00; text-decoration-color: #00af00\">2</span>)     │          <span style=\"color: #00af00; text-decoration-color: #00af00\">0</span> │ reshape_5[<span style=\"color: #00af00; text-decoration-color: #00af00\">0</span>][<span style=\"color: #00af00; text-decoration-color: #00af00\">0</span>]   │\n",
       "│ (<span style=\"color: #0087ff; text-decoration-color: #0087ff\">GetItem</span>)           │                   │            │                   │\n",
       "├─────────────────────┼───────────────────┼────────────┼───────────────────┤\n",
       "│ activation_11       │ (<span style=\"color: #00d7ff; text-decoration-color: #00d7ff\">None</span>, <span style=\"color: #00af00; text-decoration-color: #00af00\">40</span>)        │          <span style=\"color: #00af00; text-decoration-color: #00af00\">0</span> │ get_item_14[<span style=\"color: #00af00; text-decoration-color: #00af00\">0</span>][<span style=\"color: #00af00; text-decoration-color: #00af00\">0</span>] │\n",
       "│ (<span style=\"color: #0087ff; text-decoration-color: #0087ff\">Activation</span>)        │                   │            │                   │\n",
       "├─────────────────────┼───────────────────┼────────────┼───────────────────┤\n",
       "│ dense_10 (<span style=\"color: #0087ff; text-decoration-color: #0087ff\">Dense</span>)    │ (<span style=\"color: #00d7ff; text-decoration-color: #00d7ff\">None</span>, <span style=\"color: #00af00; text-decoration-color: #00af00\">128</span>)       │  <span style=\"color: #00af00; text-decoration-color: #00af00\">8,388,736</span> │ flatten_10[<span style=\"color: #00af00; text-decoration-color: #00af00\">0</span>][<span style=\"color: #00af00; text-decoration-color: #00af00\">0</span>]  │\n",
       "├─────────────────────┼───────────────────┼────────────┼───────────────────┤\n",
       "│ activation_9        │ (<span style=\"color: #00d7ff; text-decoration-color: #00d7ff\">None</span>, <span style=\"color: #00af00; text-decoration-color: #00af00\">40</span>, <span style=\"color: #00af00; text-decoration-color: #00af00\">2</span>)     │          <span style=\"color: #00af00; text-decoration-color: #00af00\">0</span> │ get_item_12[<span style=\"color: #00af00; text-decoration-color: #00af00\">0</span>][<span style=\"color: #00af00; text-decoration-color: #00af00\">0</span>] │\n",
       "│ (<span style=\"color: #0087ff; text-decoration-color: #0087ff\">Activation</span>)        │                   │            │                   │\n",
       "├─────────────────────┼───────────────────┼────────────┼───────────────────┤\n",
       "│ activation_10       │ (<span style=\"color: #00d7ff; text-decoration-color: #00d7ff\">None</span>, <span style=\"color: #00af00; text-decoration-color: #00af00\">40</span>, <span style=\"color: #00af00; text-decoration-color: #00af00\">2</span>)     │          <span style=\"color: #00af00; text-decoration-color: #00af00\">0</span> │ get_item_13[<span style=\"color: #00af00; text-decoration-color: #00af00\">0</span>][<span style=\"color: #00af00; text-decoration-color: #00af00\">0</span>] │\n",
       "│ (<span style=\"color: #0087ff; text-decoration-color: #0087ff\">Activation</span>)        │                   │            │                   │\n",
       "├─────────────────────┼───────────────────┼────────────┼───────────────────┤\n",
       "│ scaled_weights      │ (<span style=\"color: #00d7ff; text-decoration-color: #00d7ff\">None</span>, <span style=\"color: #00af00; text-decoration-color: #00af00\">40</span>)        │          <span style=\"color: #00af00; text-decoration-color: #00af00\">0</span> │ activation_11[<span style=\"color: #00af00; text-decoration-color: #00af00\">0</span>]… │\n",
       "│ (<span style=\"color: #0087ff; text-decoration-color: #0087ff\">Lambda</span>)            │                   │            │                   │\n",
       "├─────────────────────┼───────────────────┼────────────┼───────────────────┤\n",
       "│ lowfreq_output_tanh │ (<span style=\"color: #00d7ff; text-decoration-color: #00d7ff\">None</span>, <span style=\"color: #00af00; text-decoration-color: #00af00\">64</span>)        │      <span style=\"color: #00af00; text-decoration-color: #00af00\">8,256</span> │ dense_10[<span style=\"color: #00af00; text-decoration-color: #00af00\">0</span>][<span style=\"color: #00af00; text-decoration-color: #00af00\">0</span>]    │\n",
       "│ (<span style=\"color: #0087ff; text-decoration-color: #0087ff\">Dense</span>)             │                   │            │                   │\n",
       "├─────────────────────┼───────────────────┼────────────┼───────────────────┤\n",
       "│ scaled_mean_x_y     │ (<span style=\"color: #00d7ff; text-decoration-color: #00d7ff\">None</span>, <span style=\"color: #00af00; text-decoration-color: #00af00\">40</span>, <span style=\"color: #00af00; text-decoration-color: #00af00\">2</span>)     │          <span style=\"color: #00af00; text-decoration-color: #00af00\">0</span> │ activation_9[<span style=\"color: #00af00; text-decoration-color: #00af00\">0</span>][<span style=\"color: #00af00; text-decoration-color: #00af00\">…</span> │\n",
       "│ (<span style=\"color: #0087ff; text-decoration-color: #0087ff\">Lambda</span>)            │                   │            │                   │\n",
       "├─────────────────────┼───────────────────┼────────────┼───────────────────┤\n",
       "│ scaled_std_x_y      │ (<span style=\"color: #00d7ff; text-decoration-color: #00d7ff\">None</span>, <span style=\"color: #00af00; text-decoration-color: #00af00\">40</span>, <span style=\"color: #00af00; text-decoration-color: #00af00\">2</span>)     │          <span style=\"color: #00af00; text-decoration-color: #00af00\">0</span> │ activation_10[<span style=\"color: #00af00; text-decoration-color: #00af00\">0</span>]… │\n",
       "│ (<span style=\"color: #0087ff; text-decoration-color: #0087ff\">Lambda</span>)            │                   │            │                   │\n",
       "├─────────────────────┼───────────────────┼────────────┼───────────────────┤\n",
       "│ get_item_15         │ (<span style=\"color: #00d7ff; text-decoration-color: #00d7ff\">None</span>, <span style=\"color: #00af00; text-decoration-color: #00af00\">40</span>, <span style=\"color: #00af00; text-decoration-color: #00af00\">1</span>)     │          <span style=\"color: #00af00; text-decoration-color: #00af00\">0</span> │ scaled_weights[<span style=\"color: #00af00; text-decoration-color: #00af00\">0</span>… │\n",
       "│ (<span style=\"color: #0087ff; text-decoration-color: #0087ff\">GetItem</span>)           │                   │            │                   │\n",
       "├─────────────────────┼───────────────────┼────────────┼───────────────────┤\n",
       "│ lowfreq_output      │ (<span style=\"color: #00d7ff; text-decoration-color: #00d7ff\">None</span>, <span style=\"color: #00af00; text-decoration-color: #00af00\">64</span>)        │          <span style=\"color: #00af00; text-decoration-color: #00af00\">0</span> │ lowfreq_output_t… │\n",
       "│ (<span style=\"color: #0087ff; text-decoration-color: #0087ff\">Lambda</span>)            │                   │            │                   │\n",
       "├─────────────────────┼───────────────────┼────────────┼───────────────────┤\n",
       "│ concatenate_3       │ (<span style=\"color: #00d7ff; text-decoration-color: #00d7ff\">None</span>, <span style=\"color: #00af00; text-decoration-color: #00af00\">40</span>, <span style=\"color: #00af00; text-decoration-color: #00af00\">5</span>)     │          <span style=\"color: #00af00; text-decoration-color: #00af00\">0</span> │ scaled_mean_x_y[<span style=\"color: #00af00; text-decoration-color: #00af00\">…</span> │\n",
       "│ (<span style=\"color: #0087ff; text-decoration-color: #0087ff\">Concatenate</span>)       │                   │            │ scaled_std_x_y[<span style=\"color: #00af00; text-decoration-color: #00af00\">0</span>… │\n",
       "│                     │                   │            │ get_item_15[<span style=\"color: #00af00; text-decoration-color: #00af00\">0</span>][<span style=\"color: #00af00; text-decoration-color: #00af00\">0</span>] │\n",
       "└─────────────────────┴───────────────────┴────────────┴───────────────────┘\n",
       "</pre>\n"
      ],
      "text/plain": [
       "┏━━━━━━━━━━━━━━━━━━━━━┳━━━━━━━━━━━━━━━━━━━┳━━━━━━━━━━━━┳━━━━━━━━━━━━━━━━━━━┓\n",
       "┃\u001b[1m \u001b[0m\u001b[1mLayer (type)       \u001b[0m\u001b[1m \u001b[0m┃\u001b[1m \u001b[0m\u001b[1mOutput Shape     \u001b[0m\u001b[1m \u001b[0m┃\u001b[1m \u001b[0m\u001b[1m   Param #\u001b[0m\u001b[1m \u001b[0m┃\u001b[1m \u001b[0m\u001b[1mConnected to     \u001b[0m\u001b[1m \u001b[0m┃\n",
       "┡━━━━━━━━━━━━━━━━━━━━━╇━━━━━━━━━━━━━━━━━━━╇━━━━━━━━━━━━╇━━━━━━━━━━━━━━━━━━━┩\n",
       "│ input_layer_5       │ (\u001b[38;5;45mNone\u001b[0m, \u001b[38;5;34m128\u001b[0m, \u001b[38;5;34m128\u001b[0m,  │          \u001b[38;5;34m0\u001b[0m │ -                 │\n",
       "│ (\u001b[38;5;33mInputLayer\u001b[0m)        │ \u001b[38;5;34m3\u001b[0m)                │            │                   │\n",
       "├─────────────────────┼───────────────────┼────────────┼───────────────────┤\n",
       "│ conv2d_15 (\u001b[38;5;33mConv2D\u001b[0m)  │ (\u001b[38;5;45mNone\u001b[0m, \u001b[38;5;34m128\u001b[0m, \u001b[38;5;34m128\u001b[0m,  │        \u001b[38;5;34m896\u001b[0m │ input_layer_5[\u001b[38;5;34m0\u001b[0m]… │\n",
       "│                     │ \u001b[38;5;34m32\u001b[0m)               │            │                   │\n",
       "├─────────────────────┼───────────────────┼────────────┼───────────────────┤\n",
       "│ max_pooling2d_15    │ (\u001b[38;5;45mNone\u001b[0m, \u001b[38;5;34m64\u001b[0m, \u001b[38;5;34m64\u001b[0m,    │          \u001b[38;5;34m0\u001b[0m │ conv2d_15[\u001b[38;5;34m0\u001b[0m][\u001b[38;5;34m0\u001b[0m]   │\n",
       "│ (\u001b[38;5;33mMaxPooling2D\u001b[0m)      │ \u001b[38;5;34m32\u001b[0m)               │            │                   │\n",
       "├─────────────────────┼───────────────────┼────────────┼───────────────────┤\n",
       "│ conv2d_17 (\u001b[38;5;33mConv2D\u001b[0m)  │ (\u001b[38;5;45mNone\u001b[0m, \u001b[38;5;34m64\u001b[0m, \u001b[38;5;34m64\u001b[0m,    │     \u001b[38;5;34m51,264\u001b[0m │ max_pooling2d_15… │\n",
       "│                     │ \u001b[38;5;34m64\u001b[0m)               │            │                   │\n",
       "├─────────────────────┼───────────────────┼────────────┼───────────────────┤\n",
       "│ max_pooling2d_17    │ (\u001b[38;5;45mNone\u001b[0m, \u001b[38;5;34m32\u001b[0m, \u001b[38;5;34m32\u001b[0m,    │          \u001b[38;5;34m0\u001b[0m │ conv2d_17[\u001b[38;5;34m0\u001b[0m][\u001b[38;5;34m0\u001b[0m]   │\n",
       "│ (\u001b[38;5;33mMaxPooling2D\u001b[0m)      │ \u001b[38;5;34m64\u001b[0m)               │            │                   │\n",
       "├─────────────────────┼───────────────────┼────────────┼───────────────────┤\n",
       "│ flatten_11          │ (\u001b[38;5;45mNone\u001b[0m, \u001b[38;5;34m65536\u001b[0m)     │          \u001b[38;5;34m0\u001b[0m │ max_pooling2d_17… │\n",
       "│ (\u001b[38;5;33mFlatten\u001b[0m)           │                   │            │                   │\n",
       "├─────────────────────┼───────────────────┼────────────┼───────────────────┤\n",
       "│ dense_11 (\u001b[38;5;33mDense\u001b[0m)    │ (\u001b[38;5;45mNone\u001b[0m, \u001b[38;5;34m256\u001b[0m)       │ \u001b[38;5;34m16,777,472\u001b[0m │ flatten_11[\u001b[38;5;34m0\u001b[0m][\u001b[38;5;34m0\u001b[0m]  │\n",
       "├─────────────────────┼───────────────────┼────────────┼───────────────────┤\n",
       "│ highfreq_output     │ (\u001b[38;5;45mNone\u001b[0m, \u001b[38;5;34m200\u001b[0m)       │     \u001b[38;5;34m51,400\u001b[0m │ dense_11[\u001b[38;5;34m0\u001b[0m][\u001b[38;5;34m0\u001b[0m]    │\n",
       "│ (\u001b[38;5;33mDense\u001b[0m)             │                   │            │                   │\n",
       "├─────────────────────┼───────────────────┼────────────┼───────────────────┤\n",
       "│ conv2d_16 (\u001b[38;5;33mConv2D\u001b[0m)  │ (\u001b[38;5;45mNone\u001b[0m, \u001b[38;5;34m64\u001b[0m, \u001b[38;5;34m64\u001b[0m,    │     \u001b[38;5;34m18,496\u001b[0m │ max_pooling2d_15… │\n",
       "│                     │ \u001b[38;5;34m64\u001b[0m)               │            │                   │\n",
       "├─────────────────────┼───────────────────┼────────────┼───────────────────┤\n",
       "│ reshape_5 (\u001b[38;5;33mReshape\u001b[0m) │ (\u001b[38;5;45mNone\u001b[0m, \u001b[38;5;34m40\u001b[0m, \u001b[38;5;34m5\u001b[0m)     │          \u001b[38;5;34m0\u001b[0m │ highfreq_output[\u001b[38;5;34m…\u001b[0m │\n",
       "├─────────────────────┼───────────────────┼────────────┼───────────────────┤\n",
       "│ max_pooling2d_16    │ (\u001b[38;5;45mNone\u001b[0m, \u001b[38;5;34m32\u001b[0m, \u001b[38;5;34m32\u001b[0m,    │          \u001b[38;5;34m0\u001b[0m │ conv2d_16[\u001b[38;5;34m0\u001b[0m][\u001b[38;5;34m0\u001b[0m]   │\n",
       "│ (\u001b[38;5;33mMaxPooling2D\u001b[0m)      │ \u001b[38;5;34m64\u001b[0m)               │            │                   │\n",
       "├─────────────────────┼───────────────────┼────────────┼───────────────────┤\n",
       "│ get_item_14         │ (\u001b[38;5;45mNone\u001b[0m, \u001b[38;5;34m40\u001b[0m)        │          \u001b[38;5;34m0\u001b[0m │ reshape_5[\u001b[38;5;34m0\u001b[0m][\u001b[38;5;34m0\u001b[0m]   │\n",
       "│ (\u001b[38;5;33mGetItem\u001b[0m)           │                   │            │                   │\n",
       "├─────────────────────┼───────────────────┼────────────┼───────────────────┤\n",
       "│ flatten_10          │ (\u001b[38;5;45mNone\u001b[0m, \u001b[38;5;34m65536\u001b[0m)     │          \u001b[38;5;34m0\u001b[0m │ max_pooling2d_16… │\n",
       "│ (\u001b[38;5;33mFlatten\u001b[0m)           │                   │            │                   │\n",
       "├─────────────────────┼───────────────────┼────────────┼───────────────────┤\n",
       "│ get_item_12         │ (\u001b[38;5;45mNone\u001b[0m, \u001b[38;5;34m40\u001b[0m, \u001b[38;5;34m2\u001b[0m)     │          \u001b[38;5;34m0\u001b[0m │ reshape_5[\u001b[38;5;34m0\u001b[0m][\u001b[38;5;34m0\u001b[0m]   │\n",
       "│ (\u001b[38;5;33mGetItem\u001b[0m)           │                   │            │                   │\n",
       "├─────────────────────┼───────────────────┼────────────┼───────────────────┤\n",
       "│ get_item_13         │ (\u001b[38;5;45mNone\u001b[0m, \u001b[38;5;34m40\u001b[0m, \u001b[38;5;34m2\u001b[0m)     │          \u001b[38;5;34m0\u001b[0m │ reshape_5[\u001b[38;5;34m0\u001b[0m][\u001b[38;5;34m0\u001b[0m]   │\n",
       "│ (\u001b[38;5;33mGetItem\u001b[0m)           │                   │            │                   │\n",
       "├─────────────────────┼───────────────────┼────────────┼───────────────────┤\n",
       "│ activation_11       │ (\u001b[38;5;45mNone\u001b[0m, \u001b[38;5;34m40\u001b[0m)        │          \u001b[38;5;34m0\u001b[0m │ get_item_14[\u001b[38;5;34m0\u001b[0m][\u001b[38;5;34m0\u001b[0m] │\n",
       "│ (\u001b[38;5;33mActivation\u001b[0m)        │                   │            │                   │\n",
       "├─────────────────────┼───────────────────┼────────────┼───────────────────┤\n",
       "│ dense_10 (\u001b[38;5;33mDense\u001b[0m)    │ (\u001b[38;5;45mNone\u001b[0m, \u001b[38;5;34m128\u001b[0m)       │  \u001b[38;5;34m8,388,736\u001b[0m │ flatten_10[\u001b[38;5;34m0\u001b[0m][\u001b[38;5;34m0\u001b[0m]  │\n",
       "├─────────────────────┼───────────────────┼────────────┼───────────────────┤\n",
       "│ activation_9        │ (\u001b[38;5;45mNone\u001b[0m, \u001b[38;5;34m40\u001b[0m, \u001b[38;5;34m2\u001b[0m)     │          \u001b[38;5;34m0\u001b[0m │ get_item_12[\u001b[38;5;34m0\u001b[0m][\u001b[38;5;34m0\u001b[0m] │\n",
       "│ (\u001b[38;5;33mActivation\u001b[0m)        │                   │            │                   │\n",
       "├─────────────────────┼───────────────────┼────────────┼───────────────────┤\n",
       "│ activation_10       │ (\u001b[38;5;45mNone\u001b[0m, \u001b[38;5;34m40\u001b[0m, \u001b[38;5;34m2\u001b[0m)     │          \u001b[38;5;34m0\u001b[0m │ get_item_13[\u001b[38;5;34m0\u001b[0m][\u001b[38;5;34m0\u001b[0m] │\n",
       "│ (\u001b[38;5;33mActivation\u001b[0m)        │                   │            │                   │\n",
       "├─────────────────────┼───────────────────┼────────────┼───────────────────┤\n",
       "│ scaled_weights      │ (\u001b[38;5;45mNone\u001b[0m, \u001b[38;5;34m40\u001b[0m)        │          \u001b[38;5;34m0\u001b[0m │ activation_11[\u001b[38;5;34m0\u001b[0m]… │\n",
       "│ (\u001b[38;5;33mLambda\u001b[0m)            │                   │            │                   │\n",
       "├─────────────────────┼───────────────────┼────────────┼───────────────────┤\n",
       "│ lowfreq_output_tanh │ (\u001b[38;5;45mNone\u001b[0m, \u001b[38;5;34m64\u001b[0m)        │      \u001b[38;5;34m8,256\u001b[0m │ dense_10[\u001b[38;5;34m0\u001b[0m][\u001b[38;5;34m0\u001b[0m]    │\n",
       "│ (\u001b[38;5;33mDense\u001b[0m)             │                   │            │                   │\n",
       "├─────────────────────┼───────────────────┼────────────┼───────────────────┤\n",
       "│ scaled_mean_x_y     │ (\u001b[38;5;45mNone\u001b[0m, \u001b[38;5;34m40\u001b[0m, \u001b[38;5;34m2\u001b[0m)     │          \u001b[38;5;34m0\u001b[0m │ activation_9[\u001b[38;5;34m0\u001b[0m][\u001b[38;5;34m…\u001b[0m │\n",
       "│ (\u001b[38;5;33mLambda\u001b[0m)            │                   │            │                   │\n",
       "├─────────────────────┼───────────────────┼────────────┼───────────────────┤\n",
       "│ scaled_std_x_y      │ (\u001b[38;5;45mNone\u001b[0m, \u001b[38;5;34m40\u001b[0m, \u001b[38;5;34m2\u001b[0m)     │          \u001b[38;5;34m0\u001b[0m │ activation_10[\u001b[38;5;34m0\u001b[0m]… │\n",
       "│ (\u001b[38;5;33mLambda\u001b[0m)            │                   │            │                   │\n",
       "├─────────────────────┼───────────────────┼────────────┼───────────────────┤\n",
       "│ get_item_15         │ (\u001b[38;5;45mNone\u001b[0m, \u001b[38;5;34m40\u001b[0m, \u001b[38;5;34m1\u001b[0m)     │          \u001b[38;5;34m0\u001b[0m │ scaled_weights[\u001b[38;5;34m0\u001b[0m… │\n",
       "│ (\u001b[38;5;33mGetItem\u001b[0m)           │                   │            │                   │\n",
       "├─────────────────────┼───────────────────┼────────────┼───────────────────┤\n",
       "│ lowfreq_output      │ (\u001b[38;5;45mNone\u001b[0m, \u001b[38;5;34m64\u001b[0m)        │          \u001b[38;5;34m0\u001b[0m │ lowfreq_output_t… │\n",
       "│ (\u001b[38;5;33mLambda\u001b[0m)            │                   │            │                   │\n",
       "├─────────────────────┼───────────────────┼────────────┼───────────────────┤\n",
       "│ concatenate_3       │ (\u001b[38;5;45mNone\u001b[0m, \u001b[38;5;34m40\u001b[0m, \u001b[38;5;34m5\u001b[0m)     │          \u001b[38;5;34m0\u001b[0m │ scaled_mean_x_y[\u001b[38;5;34m…\u001b[0m │\n",
       "│ (\u001b[38;5;33mConcatenate\u001b[0m)       │                   │            │ scaled_std_x_y[\u001b[38;5;34m0\u001b[0m… │\n",
       "│                     │                   │            │ get_item_15[\u001b[38;5;34m0\u001b[0m][\u001b[38;5;34m0\u001b[0m] │\n",
       "└─────────────────────┴───────────────────┴────────────┴───────────────────┘\n"
      ]
     },
     "metadata": {},
     "output_type": "display_data"
    },
    {
     "data": {
      "text/html": [
       "<pre style=\"white-space:pre;overflow-x:auto;line-height:normal;font-family:Menlo,'DejaVu Sans Mono',consolas,'Courier New',monospace\"><span style=\"font-weight: bold\"> Total params: </span><span style=\"color: #00af00; text-decoration-color: #00af00\">25,296,520</span> (96.50 MB)\n",
       "</pre>\n"
      ],
      "text/plain": [
       "\u001b[1m Total params: \u001b[0m\u001b[38;5;34m25,296,520\u001b[0m (96.50 MB)\n"
      ]
     },
     "metadata": {},
     "output_type": "display_data"
    },
    {
     "data": {
      "text/html": [
       "<pre style=\"white-space:pre;overflow-x:auto;line-height:normal;font-family:Menlo,'DejaVu Sans Mono',consolas,'Courier New',monospace\"><span style=\"font-weight: bold\"> Trainable params: </span><span style=\"color: #00af00; text-decoration-color: #00af00\">25,296,520</span> (96.50 MB)\n",
       "</pre>\n"
      ],
      "text/plain": [
       "\u001b[1m Trainable params: \u001b[0m\u001b[38;5;34m25,296,520\u001b[0m (96.50 MB)\n"
      ]
     },
     "metadata": {},
     "output_type": "display_data"
    },
    {
     "data": {
      "text/html": [
       "<pre style=\"white-space:pre;overflow-x:auto;line-height:normal;font-family:Menlo,'DejaVu Sans Mono',consolas,'Courier New',monospace\"><span style=\"font-weight: bold\"> Non-trainable params: </span><span style=\"color: #00af00; text-decoration-color: #00af00\">0</span> (0.00 B)\n",
       "</pre>\n"
      ],
      "text/plain": [
       "\u001b[1m Non-trainable params: \u001b[0m\u001b[38;5;34m0\u001b[0m (0.00 B)\n"
      ]
     },
     "metadata": {},
     "output_type": "display_data"
    }
   ],
   "source": [
    "import tensorflow as tf\n",
    "from tensorflow.keras import layers, models\n",
    "\n",
    "# Función para construir el modelo CNN con dos ramas\n",
    "def create_cnn_model(input_shape=(128, 128, 3), n_gaussians=N_GAUSS):\n",
    "    \"\"\"\n",
    "    Crea un modelo CNN con dos ramas para predecir coeficientes de baja y alta frecuencia.\n",
    "\n",
    "    Parámetros:\n",
    "    -----------\n",
    "    input_shape: tuple, opcional (default=(128, 128, 3))\n",
    "        La forma de entrada de las imágenes.\n",
    "    \n",
    "    n_gaussians: int, opcional (default=40)\n",
    "        Número de gaussianas en la predicción de alta frecuencia.\n",
    "\n",
    "    Returns:\n",
    "    --------\n",
    "    model: tf.keras.Model\n",
    "        Modelo de red neuronal con dos ramas: una para predecir coeficientes PCA de baja frecuencia\n",
    "        y otra para predecir los parámetros de gaussianas de alta frecuencia.\n",
    "    \"\"\"\n",
    "    \n",
    "    # Definimos la entrada de la red\n",
    "    input_img = layers.Input(shape=input_shape)\n",
    "\n",
    "    # Primera capa CNN compartida con BatchNormalization y ReLU\n",
    "    x = layers.Conv2D(32, (3, 3), padding='same', kernel_initializer='he_normal')(input_img)\n",
    "    x = layers.BatchNormalization()(x)\n",
    "    x = layers.ReLU()(x)\n",
    "    x = layers.MaxPooling2D(pool_size=(2, 2))(x)\n",
    "\n",
    "    # División en dos ramas\n",
    "\n",
    "    # Rama de baja frecuencia (lowfreq) - predicción de PCA\n",
    "    low_freq = layers.Conv2D(64, (3, 3), padding='same', kernel_initializer='he_normal')(x)\n",
    "    low_freq = layers.BatchNormalization()(low_freq)\n",
    "    low_freq = layers.ReLU()(low_freq)\n",
    "    low_freq = layers.MaxPooling2D(pool_size=(2, 2))(low_freq)\n",
    "    low_freq = layers.Flatten()(low_freq)\n",
    "    low_freq = layers.Dense(128, kernel_initializer='he_normal')(low_freq)\n",
    "    low_freq = layers.BatchNormalization()(low_freq)\n",
    "    low_freq = layers.LeakyReLU(negative_slope=0.2)(low_freq)\n",
    "    # Usar 'linear' para que el output pueda ser cualquier valor\n",
    "    low_freq_output = layers.Dense(64, activation='linear', name='lowfreq_output')(low_freq)\n",
    "\n",
    "    # Rama de alta frecuencia (highfreq) - predicción de gaussianas\n",
    "    high_freq = layers.Conv2D(64, (5, 5), padding='same', kernel_initializer='he_normal')(x)  # Diferente kernel size\n",
    "    high_freq = layers.BatchNormalization()(high_freq)\n",
    "    high_freq = layers.LeakyReLU(negative_slope=0.2)(high_freq)\n",
    "    high_freq = layers.MaxPooling2D(pool_size=(2, 2))(high_freq)\n",
    "    high_freq = layers.Flatten()(high_freq)\n",
    "    high_freq = layers.Dense(128, kernel_initializer='he_normal')(high_freq)\n",
    "    high_freq = layers.BatchNormalization()(high_freq)\n",
    "    high_freq = layers.LeakyReLU(negative_slope=0.2)(high_freq)\n",
    "    high_freq_output = layers.Dense(n_gaussians * 5, activation='linear', name='highfreq_output')(high_freq)  # 40 gaussianas * 5 parámetros\n",
    "    high_freq_output = layers.Reshape((n_gaussians, 5))(high_freq_output)  # Reshape para que coincida con la salida gaussiana\n",
    "\n",
    "    # Escalar los valores de salida de high_freq_output\n",
    "    mean_x_y = layers.Activation('softplus', name='mean_x_y')(high_freq_output[..., :2])\n",
    "    std_x_y = layers.Activation('softplus', name='std_x_y')(high_freq_output[..., 2:4])\n",
    "    weights = layers.LeakyReLU(negative_slope=0.5, name='scaled_weights')(high_freq_output[..., 4])\n",
    "\n",
    "    # Concatenar las salidas escaladas\n",
    "    high_freq_output_scaled = layers.Concatenate(axis=-1)([mean_x_y, std_x_y, weights[..., tf.newaxis]])\n",
    "\n",
    "    # Definir el modelo final con las dos ramas de salida\n",
    "    model = models.Model(inputs=input_img, outputs=[low_freq_output, high_freq_output_scaled])\n",
    "\n",
    "    return model\n",
    "\n",
    "# Ejemplo de uso del modelo\n",
    "cnn_model = create_cnn_model()\n",
    "cnn_model.summary()\n"
   ]
  },
  {
   "cell_type": "markdown",
   "metadata": {},
   "source": [
    "### Training"
   ]
  },
  {
   "cell_type": "code",
   "execution_count": 42,
   "metadata": {},
   "outputs": [],
   "source": [
    "import tensorflow as tf\n",
    "import numpy as np\n",
    "import time\n",
    "\n",
    "# callbacks\n",
    "def prepare_callbacks(callbacks, model):\n",
    "    if callbacks:\n",
    "        for callback in callbacks:\n",
    "            callback.set_model(model)\n",
    "            callback.on_train_begin()\n",
    "    return callbacks\n",
    "\n",
    "def run_callbacks_on_epoch_end(callbacks, epoch, logs):\n",
    "    if callbacks:\n",
    "        for callback in callbacks:\n",
    "            callback.on_epoch_end(epoch, logs=logs)\n",
    "\n",
    "def run_callbacks_on_train_end(callbacks):\n",
    "    if callbacks:\n",
    "        for callback in callbacks:\n",
    "            callback.on_train_end()\n",
    "\n",
    "\n",
    "class TimeStopping(tf.keras.callbacks.Callback):\n",
    "    def __init__(self, max_seconds=None):\n",
    "        super(TimeStopping, self).__init__()\n",
    "        self.max_seconds = max_seconds\n",
    "        self.start_time = None\n",
    "\n",
    "    def on_train_begin(self, logs=None):\n",
    "        self.start_time = time.time()\n",
    "\n",
    "    def on_epoch_end(self, epoch, logs=None):\n",
    "        elapsed_time = time.time() - self.start_time\n",
    "        if elapsed_time > self.max_seconds:\n",
    "            print(f'\\nDetenido después de {elapsed_time:.2f} segundos.')\n",
    "            self.model.stop_training = True\n",
    "\n",
    "# --- optmizador\n",
    "\n",
    "# Función para inicializar el optimizador con un scheduler\n",
    "def get_optimizer_with_scheduler(optimizer_name='adam', initial_lr=0.001, scheduler=None, momentum=0.0, nesterov=False):\n",
    "    \"\"\"\n",
    "    Inicializa el optimizador con un scheduler opcional.\n",
    "\n",
    "    Parámetros:\n",
    "        optimizer_name (str): Nombre del optimizador a utilizar ('adam' o 'sgd').\n",
    "        initial_lr (float): Learning rate inicial.\n",
    "        scheduler (tf.keras.optimizers.schedules, opcional): Scheduler para ajustar el learning rate durante el entrenamiento.\n",
    "        momentum (float, opcional): Momento para el optimizador SGD (por defecto 0.0).\n",
    "        nesterov (bool, opcional): Si usar Nesterov momentum para SGD (por defecto False).\n",
    "\n",
    "    Retorna:\n",
    "        tf.keras.optimizers.Optimizer: Optimizador inicializado.\n",
    "    \"\"\"\n",
    "    # Si se proporciona un scheduler, usarlo como learning rate\n",
    "    lr = scheduler if scheduler else initial_lr\n",
    "\n",
    "    if optimizer_name.lower() == 'adam':\n",
    "        return tf.keras.optimizers.Adam(learning_rate=lr)\n",
    "    elif optimizer_name.lower() == 'sgd':\n",
    "        return tf.keras.optimizers.SGD(learning_rate=lr, momentum=momentum, nesterov=nesterov)\n",
    "    else:\n",
    "        raise ValueError(\"Optimizer not recognized. Please use 'adam' or 'sgd'.\")\n",
    "\n",
    "# -------\n",
    "# Definir un scheduler personalizado (opcional)\n",
    "def cosine_scheduler(epoch, lr):\n",
    "    max_epochs = 30\n",
    "    return lr * (tf.math.cos(epoch * np.pi / max_epochs) + 1) / 2\n",
    "\n",
    "# Función para calcular la pérdida y las métricas (solo MSE en este caso)\n",
    "def calculate_losses(y_true, y_pred, mse_fn):\n",
    "    mse_loss = mse_fn(y_true, y_pred)\n",
    "    return mse_loss\n",
    "\n",
    "# Función para ejecutar el entrenamiento de una época\n",
    "def train_epoch(model, train_dataset, optimizer, mse_fn, print_steps):\n",
    "    train_mse_metric = tf.keras.metrics.Mean(name='train_mse')\n",
    "    \n",
    "    for step, (x_batch_train, y_batch_train) in enumerate(train_dataset):\n",
    "        # Preprocesar y_batch\n",
    "        principal_components, gaussians = preprocess_ybatch(y_batch_train)\n",
    "        \n",
    "        with tf.GradientTape() as tape:\n",
    "            # El modelo debe devolver las dos ramas: lowfreq y highfreq\n",
    "            lowfreq_pred, highfreq_pred = model(x_batch_train, training=True)\n",
    "            \n",
    "            # Calcular pérdidas separadas para ambas ramas\n",
    "            mse_loss_low = mse_fn(principal_components, lowfreq_pred)\n",
    "            mse_loss_high = mse_fn(gaussians, highfreq_pred)\n",
    "            \n",
    "            # Sumar las pérdidas\n",
    "            total_loss = mse_loss_low + mse_loss_high\n",
    "\n",
    "        # Aplicar gradientes\n",
    "        grads = tape.gradient(total_loss, model.trainable_weights)\n",
    "        optimizer.apply_gradients(zip(grads, model.trainable_weights))\n",
    "\n",
    "        # Actualizar la métrica MSE\n",
    "        train_mse_metric(total_loss)\n",
    "\n",
    "        # Mostrar progreso\n",
    "        if step % print_steps == 0:\n",
    "            print(f'Step {step}: Total MSE = {train_mse_metric.result().numpy()}, LowFreq MSE = {mse_loss_low.numpy()}, HighFreq MSE = {mse_loss_high.numpy()}')\n",
    "\n",
    "    return train_mse_metric.result().numpy()\n",
    "\n",
    "# Función para ejecutar la validación\n",
    "def validate_epoch(model, val_dataset, mse_fn):\n",
    "    val_mse_metric = tf.keras.metrics.Mean(name='val_mse')\n",
    "\n",
    "    for val_x, val_y in val_dataset:\n",
    "        # Preprocesar y_batch\n",
    "        principal_components, gaussians = preprocess_ybatch(val_y)\n",
    "        \n",
    "        # El modelo debe devolver las dos ramas: lowfreq y highfreq\n",
    "        lowfreq_pred, highfreq_pred = model(val_x, training=False)\n",
    "        \n",
    "        # Calcular pérdidas separadas para ambas ramas\n",
    "        mse_loss_low = mse_fn(principal_components, lowfreq_pred)\n",
    "        mse_loss_high = mse_fn(gaussians, highfreq_pred)\n",
    "        \n",
    "        # Sumar las pérdidas\n",
    "        total_loss = mse_loss_low + mse_loss_high\n",
    "\n",
    "        # Actualizar la métrica MSE\n",
    "        val_mse_metric(total_loss)\n",
    "\n",
    "    return val_mse_metric.result().numpy()\n",
    "\n",
    "\n",
    "# Función para reiniciar métricas\n",
    "def reset_metrics(metric):\n",
    "    metric.reset_state()\n",
    "\n",
    "# Función principal para entrenar el modelo\n",
    "def train_model(epochs, model, train_dataset, val_dataset, optimizer, mse_fn, print_steps, callbacks=None):\n",
    "    # Inicializar las métricas\n",
    "    train_mse_metric = tf.keras.metrics.Mean(name='train_mse')\n",
    "    val_mse_metric = tf.keras.metrics.Mean(name='val_mse')\n",
    "    history = {'loss': [], 'val_loss': []}\n",
    "\n",
    "    # Preparar callbacks\n",
    "    callbacks = prepare_callbacks(callbacks, model)\n",
    "\n",
    "    # Iterar sobre las épocas\n",
    "    for epoch in range(epochs):\n",
    "        print(f'Epoch {epoch + 1}/{epochs}')\n",
    "\n",
    "        # Entrenar una época\n",
    "        train_loss = train_epoch(model, train_dataset, optimizer, mse_fn, print_steps)\n",
    "        history['loss'].append(train_loss)\n",
    "\n",
    "        # Validación\n",
    "        val_loss = validate_epoch(model, val_dataset, mse_fn)\n",
    "        history['val_loss'].append(val_loss)\n",
    "\n",
    "        # Ejecutar callbacks al final de la época\n",
    "        logs = {'loss': train_loss, 'val_loss': val_loss}\n",
    "        run_callbacks_on_epoch_end(callbacks, epoch, logs)\n",
    "\n",
    "        # Resetear métricas\n",
    "        reset_metrics(train_mse_metric)\n",
    "        reset_metrics(val_mse_metric)\n",
    "\n",
    "    # Ejecutar callbacks al final del entrenamiento\n",
    "    run_callbacks_on_train_end(callbacks)\n",
    "\n",
    "    return history\n"
   ]
  },
  {
   "cell_type": "code",
   "execution_count": 43,
   "metadata": {},
   "outputs": [],
   "source": [
    "# Early stopping callback basado en val_mse\n",
    "early_stopping = tf.keras.callbacks.EarlyStopping(\n",
    "    monitor='val_loss', \n",
    "    mode=\"min\",\n",
    "    patience=5,  # Número de épocas sin mejora antes de detener\n",
    "    restore_best_weights=True  # Restaurar los mejores pesos\n",
    ")\n",
    "\n",
    "\n",
    "scheduler = tf.keras.optimizers.schedules.CosineDecay(\n",
    "    initial_learning_rate=1e-3,\n",
    "    decay_steps=5000,  # Número de pasos antes de llegar a lr mínimo\n",
    "    alpha=1e-6  # Valor final del learning rate (porcentaje del learning rate inicial)\n",
    ")\n",
    "\n",
    "callbacks = [\n",
    "    early_stopping\n",
    "]"
   ]
  },
  {
   "cell_type": "code",
   "execution_count": 44,
   "metadata": {},
   "outputs": [
    {
     "name": "stdout",
     "output_type": "stream",
     "text": [
      "Epoch 1/10\n",
      "Step 0: Total MSE = 586.1554565429688, LowFreq MSE = 2.7954397201538086, HighFreq MSE = 583.3600463867188\n",
      "Step 10: Total MSE = 682.111083984375, LowFreq MSE = 1.7921264171600342, HighFreq MSE = 584.7510986328125\n",
      "Step 20: Total MSE = 640.4593505859375, LowFreq MSE = 1.9954924583435059, HighFreq MSE = 591.0040893554688\n"
     ]
    },
    {
     "name": "stderr",
     "output_type": "stream",
     "text": [
      "c:\\Users\\fbien.DESKTOP-6FMEAR7\\Desktop\\grav_lensing\\venv\\lib\\site-packages\\keras\\src\\callbacks\\early_stopping.py:155: UserWarning: Early stopping conditioned on metric `val_mse` which is not available. Available metrics are: loss,val_loss\n",
      "  current = self.get_monitor_value(logs)\n"
     ]
    },
    {
     "name": "stdout",
     "output_type": "stream",
     "text": [
      "Epoch 2/10\n",
      "Step 0: Total MSE = 584.5979614257812, LowFreq MSE = 1.753835916519165, HighFreq MSE = 582.8441162109375\n",
      "Step 10: Total MSE = 594.275634765625, LowFreq MSE = 1.3695785999298096, HighFreq MSE = 586.85205078125\n",
      "Step 20: Total MSE = 591.0469970703125, LowFreq MSE = 1.0916810035705566, HighFreq MSE = 601.776123046875\n"
     ]
    },
    {
     "name": "stderr",
     "output_type": "stream",
     "text": [
      "c:\\Users\\fbien.DESKTOP-6FMEAR7\\Desktop\\grav_lensing\\venv\\lib\\site-packages\\keras\\src\\callbacks\\early_stopping.py:155: UserWarning: Early stopping conditioned on metric `val_mse` which is not available. Available metrics are: loss,val_loss\n",
      "  current = self.get_monitor_value(logs)\n"
     ]
    },
    {
     "name": "stdout",
     "output_type": "stream",
     "text": [
      "Epoch 3/10\n",
      "Step 0: Total MSE = 580.3248291015625, LowFreq MSE = 1.137700080871582, HighFreq MSE = 579.1871337890625\n",
      "Step 10: Total MSE = 591.2408447265625, LowFreq MSE = 1.0041213035583496, HighFreq MSE = 588.1461791992188\n",
      "Step 20: Total MSE = 591.38232421875, LowFreq MSE = 0.9991715550422668, HighFreq MSE = 587.5648193359375\n"
     ]
    },
    {
     "name": "stderr",
     "output_type": "stream",
     "text": [
      "c:\\Users\\fbien.DESKTOP-6FMEAR7\\Desktop\\grav_lensing\\venv\\lib\\site-packages\\keras\\src\\callbacks\\early_stopping.py:155: UserWarning: Early stopping conditioned on metric `val_mse` which is not available. Available metrics are: loss,val_loss\n",
      "  current = self.get_monitor_value(logs)\n"
     ]
    },
    {
     "name": "stdout",
     "output_type": "stream",
     "text": [
      "Epoch 4/10\n",
      "Step 0: Total MSE = 597.9038696289062, LowFreq MSE = 0.9951595067977905, HighFreq MSE = 596.90869140625\n",
      "Step 10: Total MSE = 591.2620239257812, LowFreq MSE = 0.9983857870101929, HighFreq MSE = 578.828125\n",
      "Step 20: Total MSE = 591.272216796875, LowFreq MSE = 0.9750508069992065, HighFreq MSE = 596.8457641601562\n"
     ]
    },
    {
     "name": "stderr",
     "output_type": "stream",
     "text": [
      "c:\\Users\\fbien.DESKTOP-6FMEAR7\\Desktop\\grav_lensing\\venv\\lib\\site-packages\\keras\\src\\callbacks\\early_stopping.py:155: UserWarning: Early stopping conditioned on metric `val_mse` which is not available. Available metrics are: loss,val_loss\n",
      "  current = self.get_monitor_value(logs)\n"
     ]
    },
    {
     "name": "stdout",
     "output_type": "stream",
     "text": [
      "Epoch 5/10\n",
      "Step 0: Total MSE = 593.7852783203125, LowFreq MSE = 1.0460152626037598, HighFreq MSE = 592.7392578125\n",
      "Step 10: Total MSE = 590.2268676757812, LowFreq MSE = 0.9986672401428223, HighFreq MSE = 584.1246948242188\n",
      "Step 20: Total MSE = 589.9467163085938, LowFreq MSE = 0.9716173410415649, HighFreq MSE = 590.0020141601562\n"
     ]
    },
    {
     "name": "stderr",
     "output_type": "stream",
     "text": [
      "c:\\Users\\fbien.DESKTOP-6FMEAR7\\Desktop\\grav_lensing\\venv\\lib\\site-packages\\keras\\src\\callbacks\\early_stopping.py:155: UserWarning: Early stopping conditioned on metric `val_mse` which is not available. Available metrics are: loss,val_loss\n",
      "  current = self.get_monitor_value(logs)\n"
     ]
    },
    {
     "name": "stdout",
     "output_type": "stream",
     "text": [
      "Epoch 6/10\n",
      "Step 0: Total MSE = 588.9735107421875, LowFreq MSE = 0.9790790677070618, HighFreq MSE = 587.9944458007812\n",
      "Step 10: Total MSE = 590.590087890625, LowFreq MSE = 0.9189026355743408, HighFreq MSE = 599.1881103515625\n",
      "Step 20: Total MSE = 590.6380004882812, LowFreq MSE = 0.9799472689628601, HighFreq MSE = 588.02587890625\n"
     ]
    },
    {
     "name": "stderr",
     "output_type": "stream",
     "text": [
      "c:\\Users\\fbien.DESKTOP-6FMEAR7\\Desktop\\grav_lensing\\venv\\lib\\site-packages\\keras\\src\\callbacks\\early_stopping.py:155: UserWarning: Early stopping conditioned on metric `val_mse` which is not available. Available metrics are: loss,val_loss\n",
      "  current = self.get_monitor_value(logs)\n"
     ]
    },
    {
     "name": "stdout",
     "output_type": "stream",
     "text": [
      "Epoch 7/10\n",
      "Step 0: Total MSE = 589.5186157226562, LowFreq MSE = 0.9443041682243347, HighFreq MSE = 588.5743408203125\n",
      "Step 10: Total MSE = 588.4314575195312, LowFreq MSE = 1.0715153217315674, HighFreq MSE = 584.1663818359375\n",
      "Step 20: Total MSE = 590.129150390625, LowFreq MSE = 0.969304084777832, HighFreq MSE = 601.5132446289062\n"
     ]
    },
    {
     "name": "stderr",
     "output_type": "stream",
     "text": [
      "c:\\Users\\fbien.DESKTOP-6FMEAR7\\Desktop\\grav_lensing\\venv\\lib\\site-packages\\keras\\src\\callbacks\\early_stopping.py:155: UserWarning: Early stopping conditioned on metric `val_mse` which is not available. Available metrics are: loss,val_loss\n",
      "  current = self.get_monitor_value(logs)\n"
     ]
    },
    {
     "name": "stdout",
     "output_type": "stream",
     "text": [
      "\n",
      "Detenido después de 3807.66 segundos.\n",
      "Epoch 8/10\n",
      "Step 0: Total MSE = 590.3604125976562, LowFreq MSE = 0.9767085313796997, HighFreq MSE = 589.3837280273438\n",
      "Step 10: Total MSE = 591.7501831054688, LowFreq MSE = 0.9735373258590698, HighFreq MSE = 586.5501708984375\n",
      "Step 20: Total MSE = 590.5171508789062, LowFreq MSE = 0.9562236070632935, HighFreq MSE = 582.0776977539062\n"
     ]
    },
    {
     "name": "stderr",
     "output_type": "stream",
     "text": [
      "c:\\Users\\fbien.DESKTOP-6FMEAR7\\Desktop\\grav_lensing\\venv\\lib\\site-packages\\keras\\src\\callbacks\\early_stopping.py:155: UserWarning: Early stopping conditioned on metric `val_mse` which is not available. Available metrics are: loss,val_loss\n",
      "  current = self.get_monitor_value(logs)\n"
     ]
    },
    {
     "name": "stdout",
     "output_type": "stream",
     "text": [
      "\n",
      "Detenido después de 4352.67 segundos.\n",
      "Epoch 9/10\n",
      "Step 0: Total MSE = 593.108642578125, LowFreq MSE = 0.9432752132415771, HighFreq MSE = 592.1653442382812\n",
      "Step 10: Total MSE = 589.6262817382812, LowFreq MSE = 1.0061191320419312, HighFreq MSE = 581.5405883789062\n",
      "Step 20: Total MSE = 590.4526977539062, LowFreq MSE = 0.9776872992515564, HighFreq MSE = 591.58984375\n"
     ]
    },
    {
     "name": "stderr",
     "output_type": "stream",
     "text": [
      "c:\\Users\\fbien.DESKTOP-6FMEAR7\\Desktop\\grav_lensing\\venv\\lib\\site-packages\\keras\\src\\callbacks\\early_stopping.py:155: UserWarning: Early stopping conditioned on metric `val_mse` which is not available. Available metrics are: loss,val_loss\n",
      "  current = self.get_monitor_value(logs)\n"
     ]
    },
    {
     "name": "stdout",
     "output_type": "stream",
     "text": [
      "\n",
      "Detenido después de 4889.67 segundos.\n",
      "Epoch 10/10\n",
      "Step 0: Total MSE = 591.4839477539062, LowFreq MSE = 0.9550332427024841, HighFreq MSE = 590.5289306640625\n",
      "Step 10: Total MSE = 591.1578369140625, LowFreq MSE = 1.0064688920974731, HighFreq MSE = 587.4169921875\n",
      "Step 20: Total MSE = 591.1536254882812, LowFreq MSE = 1.014370083808899, HighFreq MSE = 580.3955688476562\n",
      "\n",
      "Detenido después de 5431.73 segundos.\n"
     ]
    },
    {
     "name": "stderr",
     "output_type": "stream",
     "text": [
      "c:\\Users\\fbien.DESKTOP-6FMEAR7\\Desktop\\grav_lensing\\venv\\lib\\site-packages\\keras\\src\\callbacks\\early_stopping.py:155: UserWarning: Early stopping conditioned on metric `val_mse` which is not available. Available metrics are: loss,val_loss\n",
      "  current = self.get_monitor_value(logs)\n"
     ]
    }
   ],
   "source": [
    "# Definir el optimizador\n",
    "# se puede usar 'adam'\n",
    "optimizer = get_optimizer_with_scheduler('sgd', 1e-3, scheduler)\n",
    "\n",
    "# Definir la función de pérdida MSE\n",
    "mse_fn = tf.keras.losses.MeanSquaredError()\n",
    "\n",
    "# Entrenar el modelo\n",
    "history = train_model(\n",
    "    epochs=10,                        # Número de épocas de entrenamiento\n",
    "    model=cnn_model,                  # Modelo CNN que has definido con dos ramas\n",
    "    train_dataset=train_dataset,      # Dataset de entrenamiento preprocesado\n",
    "    val_dataset=val_dataset,          # Dataset de validación preprocesado\n",
    "    optimizer=optimizer,              # Optimizador con el scheduler\n",
    "    mse_fn=mse_fn,                    # Función de pérdida (MSE)\n",
    "    print_steps=15,                   # Mostrar progreso cada 10 steps\n",
    "    callbacks=callbacks               # Callbacks, incluyendo EarlyStopping y TimeStopping\n",
    ")\n"
   ]
  },
  {
   "cell_type": "code",
   "execution_count": null,
   "metadata": {},
   "outputs": [],
   "source": [
    "cnn_model.save('model_0925.keras')"
   ]
  },
  {
   "cell_type": "markdown",
   "metadata": {},
   "source": [
    "## Reconstruccion\n",
    "Actualmente las funciones de reconstrucción se encuentran implementadas dentro de la libreria y es posible verlas mediante la documentación\n",
    "- `reconstruct_image_from_gmm` se encarga de tomar los vectores de las `N_GAUSS` gaussianas\n",
    "- `reconstruct_batch_images` toma todo el batch de vectores y reconstruye el batch de imagenes\n",
    "    utilizando e implementando `reconstruct_lowfreq_from_pca` y `reconstruct_highfreq_from_gmm`"
   ]
  },
  {
   "cell_type": "code",
   "execution_count": 53,
   "metadata": {},
   "outputs": [],
   "source": [
    "from grav_lens.preprocess.gmm import reconstruct_batch_images, reconstruct_image_from_gmm, reconstruct_lowfreq_from_pca, reconstruct_highfreq_from_gmm\n"
   ]
  },
  {
   "cell_type": "markdown",
   "metadata": {},
   "source": [
    "### reconstruccion perfecta"
   ]
  },
  {
   "cell_type": "code",
   "execution_count": 54,
   "metadata": {},
   "outputs": [
    {
     "name": "stdout",
     "output_type": "stream",
     "text": [
      "(64, 128, 128, 3)\n",
      "(64, 128, 128, 1)\n"
     ]
    }
   ],
   "source": [
    "for X_batch, y_batch in train_dataset.take(1):\n",
    "    y_batch = minmaxscaler.transform(y_batch) # [0, 1] #escalar los datos\n",
    "\n",
    "    print(X_batch.shape)\n",
    "    print(y_batch.shape)\n",
    "    \n",
    "    low_batch, high_batch = process_batch_filters(y_batch)\n"
   ]
  },
  {
   "cell_type": "code",
   "execution_count": 55,
   "metadata": {},
   "outputs": [
    {
     "data": {
      "text/plain": [
       "<matplotlib.image.AxesImage at 0x1e491688a30>"
      ]
     },
     "execution_count": 55,
     "metadata": {},
     "output_type": "execute_result"
    },
    {
     "data": {
      "image/png": "[encoded data removed]",
      "text/plain": [
       "<Figure size 640x480 with 1 Axes>"
      ]
     },
     "metadata": {},
     "output_type": "display_data"
    }
   ],
   "source": [
    "plt.imshow(low_batch[0,:,:,0])"
   ]
  },
  {
   "cell_type": "markdown",
   "metadata": {},
   "source": [
    "### reconstruccion del modelo"
   ]
  },
  {
   "cell_type": "code",
   "execution_count": 58,
   "metadata": {},
   "outputs": [],
   "source": [
    "for X_batch, y_batch in train_dataset.take(1):\n",
    "    batch_size = X_batch.shape[0]\n",
    "    predictions = cnn_model.predict(X_batch)\n",
    "    reconstructed_images = reconstruct_batch_images(*predictions, batch_size)\n",
    "\n",
    "    truth = preprocess_ybatch(y_batch)\n",
    "    truth_reconstructed_images = reconstruct_batch_images(*truth, batch_size)"
   ]
  },
  {
   "cell_type": "code",
   "execution_count": null,
   "metadata": {},
   "outputs": [],
   "source": [
    "import grav_lens.preprocess as gp\n",
    "\n",
    "idx = 0\n",
    "original = truth_reconstructed_images[idx,:,:,0]\n",
    "reconstructed = reconstructed_images[idx,:,:,0]\n",
    "gp.plot_comparison(original, reconstructed)"
   ]
  }
 ],
 "metadata": {
  "language_info": {
   "name": "python"
  }
 },
 "nbformat": 4,
 "nbformat_minor": 2
}
